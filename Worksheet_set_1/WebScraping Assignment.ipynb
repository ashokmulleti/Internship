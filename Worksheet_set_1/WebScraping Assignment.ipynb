{
 "cells": [
  {
   "cell_type": "markdown",
   "id": "e9af8543",
   "metadata": {},
   "source": [
    "# Webscraping Assignment"
   ]
  },
  {
   "cell_type": "markdown",
   "id": "d7c04f88",
   "metadata": {},
   "source": [
    "1)"
   ]
  },
  {
   "cell_type": "code",
   "execution_count": null,
   "id": "1993c25e",
   "metadata": {},
   "outputs": [],
   "source": [
    "import bs4\n",
    "import requests\n",
    "from bs4 import BeautifulSoup\n",
    "import re\n",
    "url = \"https://en.wikipedia.org/wiki/Main_Page\"\n",
    "r = requests.get(url)# r variable has all the HTML code\n",
    "htmlContent = r.content# r returns response so if we want the code we write r.content\n",
    "#print(htmlContent)\n",
    "htmlText = r.text\n",
    "#print(htmlText)\n",
    "soup = BeautifulSoup(r.content, 'html.parser')\n",
    "head_tag=[]\n",
    "tag=soup.find_all('span',class_='mw-headline')\n",
    "tag[0:4]"
   ]
  },
  {
   "cell_type": "code",
   "execution_count": null,
   "id": "ea2e9c4e",
   "metadata": {},
   "outputs": [],
   "source": [
    "tag2=soup.title.text"
   ]
  },
  {
   "cell_type": "code",
   "execution_count": null,
   "id": "eef974dc",
   "metadata": {},
   "outputs": [],
   "source": [
    "for i in tag:\n",
    "    head_tag.append(i.get_text().replace(\"\\n\",\"\"))\n",
    "head_tag"
   ]
  },
  {
   "cell_type": "code",
   "execution_count": null,
   "id": "66d0b40a",
   "metadata": {},
   "outputs": [],
   "source": [
    "import pandas as pd\n",
    "Head_tags=pd.DataFrame({})\n",
    "Head_tags['tag']=head_tag\n",
    "Head_tags"
   ]
  },
  {
   "cell_type": "markdown",
   "id": "c4eb230b",
   "metadata": {},
   "source": [
    "2)"
   ]
  },
  {
   "cell_type": "code",
   "execution_count": null,
   "id": "f1a63d51",
   "metadata": {},
   "outputs": [],
   "source": [
    "url1 = \"https://www.imdb.com/search/title/?count=100&groups=top_1000&sort=user_rating\"\n",
    "r1 = requests.get(url1)\n",
    "htmlContent1 = r.content"
   ]
  },
  {
   "cell_type": "code",
   "execution_count": null,
   "id": "075a2ee6",
   "metadata": {},
   "outputs": [],
   "source": [
    "htmlText1 = r.text\n",
    "soup1 = BeautifulSoup(r1.content, 'html.parser')\n",
    "Movies_Name=[]\n",
    "IMDB_Rating=[]\n",
    "Year_Of_Release=[]\n",
    "Name1=soup1.find_all('h3',class_='lister-item-header')\n",
    "Name1[0:2]"
   ]
  },
  {
   "cell_type": "code",
   "execution_count": null,
   "id": "fc2b970e",
   "metadata": {},
   "outputs": [],
   "source": [
    "for i in Name1:\n",
    "    Movies_Name.append(i.get_text().replace(\"\\n\",\"\"))\n",
    "Movies_Name[0:5]"
   ]
  },
  {
   "cell_type": "code",
   "execution_count": null,
   "id": "8185f03b",
   "metadata": {},
   "outputs": [],
   "source": [
    "Rating1=soup1.find_all('div',class_='inline-block ratings-imdb-rating')\n",
    "Rating1[0:2]"
   ]
  },
  {
   "cell_type": "code",
   "execution_count": null,
   "id": "9c4cafdf",
   "metadata": {},
   "outputs": [],
   "source": [
    "for i in Rating1:\n",
    "    IMDB_Rating.append(i.get_text().replace(\"\\n\",\"\"))\n",
    "IMDB_Rating[0:5]"
   ]
  },
  {
   "cell_type": "code",
   "execution_count": null,
   "id": "80dd3d06",
   "metadata": {},
   "outputs": [],
   "source": [
    "Release1=soup1.find_all('span',class_='lister-item-year text-muted unbold')\n",
    "Release1[0:4]"
   ]
  },
  {
   "cell_type": "code",
   "execution_count": null,
   "id": "71b69d62",
   "metadata": {},
   "outputs": [],
   "source": [
    "for i in Release1:\n",
    "    Year_Of_Release.append(i.get_text().replace(\"\\n\",\"\"))\n",
    "Year_Of_Release[0:10]"
   ]
  },
  {
   "cell_type": "code",
   "execution_count": null,
   "id": "5e075c72",
   "metadata": {},
   "outputs": [],
   "source": [
    "IMDB=pd.DataFrame({})\n",
    "IMDB['NAME']=Movies_Name\n",
    "IMDB['RATING']=IMDB_Rating\n",
    "IMDB['YEAR']=Year_Of_Release\n",
    "IMDB"
   ]
  },
  {
   "cell_type": "markdown",
   "id": "8858e51a",
   "metadata": {},
   "source": [
    "3)"
   ]
  },
  {
   "cell_type": "code",
   "execution_count": null,
   "id": "5323d5b2",
   "metadata": {},
   "outputs": [],
   "source": [
    "url2 = \"https://www.imdb.com/list/ls056092300/\"\n",
    "r2 = requests.get(url2)\n",
    "htmlContent2 = r2.content"
   ]
  },
  {
   "cell_type": "code",
   "execution_count": null,
   "id": "870a62c2",
   "metadata": {},
   "outputs": [],
   "source": [
    "htmlText2 = r.text\n",
    "soup2 = BeautifulSoup(r2.content, 'html.parser')\n",
    "Movies_Name1=[]\n",
    "IMDB_Rating1=[]\n",
    "Year_Of_Release1=[]\n",
    "Name2=soup2.find_all('h3',class_='lister-item-header')\n",
    "Name2[0:4]"
   ]
  },
  {
   "cell_type": "code",
   "execution_count": null,
   "id": "bbf5b9b0",
   "metadata": {},
   "outputs": [],
   "source": [
    "for i in Name2:\n",
    "    Movies_Name1.append(i.get_text().replace(\"\\n\",\"\"))\n",
    "Movies_Name1[0:5]"
   ]
  },
  {
   "cell_type": "code",
   "execution_count": null,
   "id": "691f2dca",
   "metadata": {},
   "outputs": [],
   "source": [
    "Rating2=soup2.find_all('span',class_='ipl-rating-star__rating')\n",
    "Rating2[0:4]"
   ]
  },
  {
   "cell_type": "code",
   "execution_count": null,
   "id": "435cb24a",
   "metadata": {},
   "outputs": [],
   "source": [
    "Release1=soup2.find_all('span',class_='lister-item-year text-muted unbold')\n",
    "Release1[0:4]"
   ]
  },
  {
   "cell_type": "code",
   "execution_count": null,
   "id": "1c09d2b9",
   "metadata": {},
   "outputs": [],
   "source": [
    "for i in Release1:\n",
    "    Year_Of_Release1.append(i.get_text().replace(\"\\n\",\"\"))\n",
    "Year_Of_Release1[0:10]"
   ]
  },
  {
   "cell_type": "code",
   "execution_count": null,
   "id": "1c02cd1b",
   "metadata": {},
   "outputs": [],
   "source": [
    "IMDB1=pd.DataFrame({})"
   ]
  },
  {
   "cell_type": "code",
   "execution_count": null,
   "id": "13ab9777",
   "metadata": {},
   "outputs": [],
   "source": [
    "IMDB1['NAME1']=Movies_Name1\n",
    "IMDB1['YEAR1']=Year_Of_Release1\n",
    "IMDB1['RATING2']=IMDB_Rating1\n",
    "IMDB1"
   ]
  },
  {
   "cell_type": "markdown",
   "id": "31e85de9",
   "metadata": {},
   "source": [
    "4)"
   ]
  },
  {
   "cell_type": "code",
   "execution_count": null,
   "id": "41b4e5e8",
   "metadata": {},
   "outputs": [],
   "source": [
    "r4 = requests.get(\"https://meesho.com/bags-ladies/pl/p7vbp\")\n",
    "r4"
   ]
  },
  {
   "cell_type": "code",
   "execution_count": null,
   "id": "50e3eaa1",
   "metadata": {},
   "outputs": [],
   "source": [
    "soup3 = BeautifulSoup()"
   ]
  },
  {
   "cell_type": "code",
   "execution_count": null,
   "id": "13c09595",
   "metadata": {},
   "outputs": [],
   "source": [
    "htmlText3 = r.text\n",
    "soup2 = BeautifulSoup(r2.content, 'html.parser')\n",
    "Name_of_bag=[]\n",
    "Price=[]\n",
    "Discount=[]\n",
    "Name2=soup3.find_all('h3',class_='lister-item-header')\n",
    "Name2[0:4]"
   ]
  },
  {
   "cell_type": "code",
   "execution_count": null,
   "id": "6c737daa",
   "metadata": {},
   "outputs": [],
   "source": []
  },
  {
   "cell_type": "markdown",
   "id": "94200126",
   "metadata": {},
   "source": [
    "5)\n",
    " a)"
   ]
  },
  {
   "cell_type": "code",
   "execution_count": null,
   "id": "29158a07",
   "metadata": {},
   "outputs": [],
   "source": [
    "url5 = \"https://www.icc-cricket.com/rankings/mens/team-rankings/odi\"\n",
    "r5 = requests.get(url5)# r variable has all the HTML code\n",
    "htmlContent5 = r5.content# r returns response so if we want the code we write r.content\n",
    "#print(htmlContent)\n",
    "htmlText5 = r5.text\n",
    "#print(htmlText)\n",
    "soup5 = BeautifulSoup(r5.content, 'html.parser')\n",
    "Teams=[]\n",
    "Matches5=[]\n",
    "Points5=[]\n",
    "Ratings5=[]\n",
    "Ratings6=[]\n",
    "\n",
    "teams=soup5.find_all('span',class_='u-hide-phablet')\n",
    "teams[0:10]"
   ]
  },
  {
   "cell_type": "code",
   "execution_count": null,
   "id": "5bef791b",
   "metadata": {},
   "outputs": [],
   "source": [
    "for i in teams[0:20]:\n",
    "    Teams.append(i.get_text().replace(\"\\n\",\"\"))\n",
    "Teams[0:10]"
   ]
  },
  {
   "cell_type": "code",
   "execution_count": null,
   "id": "659c0eab",
   "metadata": {},
   "outputs": [],
   "source": [
    "matches5=soup5.find_all('td',class_='table-body__cell u-center-text',)\n",
    "for i in matches5:\n",
    "    Matches5.append(i.text)\n",
    "Matches5\n",
    "print(Matches5[0::2])"
   ]
  },
  {
   "cell_type": "code",
   "execution_count": null,
   "id": "b5265974",
   "metadata": {},
   "outputs": [],
   "source": [
    "points5=soup5.find_all('td',class_='table-body__cell u-center-text',)\n",
    "for i in points5:\n",
    "    Points5.append(i.text)\n",
    "Points5\n",
    "print(Points5[1::2])"
   ]
  },
  {
   "cell_type": "code",
   "execution_count": null,
   "id": "27a5873b",
   "metadata": {},
   "outputs": [],
   "source": [
    "ratings5=soup5.find_all('td',class_='rankings-block__banner--rating u-text-right')\n",
    "ratings5\n"
   ]
  },
  {
   "cell_type": "code",
   "execution_count": null,
   "id": "59f424a0",
   "metadata": {},
   "outputs": [],
   "source": [
    "for i in ratings5:\n",
    "    Ratings5.append(i.text.replace(\"\\n\",\"\").strip())\n",
    "Ratings5"
   ]
  },
  {
   "cell_type": "code",
   "execution_count": null,
   "id": "cd129f1e",
   "metadata": {},
   "outputs": [],
   "source": [
    "ratings6=soup5.find_all('td',class_='table-body__cell u-text-right rating')\n",
    "ratings6[0:4]"
   ]
  },
  {
   "cell_type": "code",
   "execution_count": null,
   "id": "d43e9109",
   "metadata": {},
   "outputs": [],
   "source": [
    "for i in ratings6:\n",
    "    Ratings6.append(i.text.replace(\"\\n\",\"\").strip())\n",
    "Ratings6[0:10]"
   ]
  },
  {
   "cell_type": "code",
   "execution_count": null,
   "id": "d3f0490a",
   "metadata": {},
   "outputs": [],
   "source": [
    "RATINGS_ICC=Ratings5+Ratings6"
   ]
  },
  {
   "cell_type": "code",
   "execution_count": null,
   "id": "c5ac8c03",
   "metadata": {},
   "outputs": [],
   "source": [
    "ICC=pd.DataFrame({})\n",
    "ICC['TEAM_NAME']=Teams[0:10]\n",
    "ICC['MATCHES']=Matches5[0::2][0:10]\n",
    "ICC['POINTS']=Points5[1::2][0:10]\n",
    "ICC['RATINGS_']=RATINGS_ICC[0:10]\n",
    "\n",
    "\n",
    "ICC"
   ]
  },
  {
   "cell_type": "markdown",
   "id": "7eec30c2",
   "metadata": {},
   "source": [
    "5) b)"
   ]
  },
  {
   "cell_type": "code",
   "execution_count": null,
   "id": "2a04ee3a",
   "metadata": {},
   "outputs": [],
   "source": [
    "url7 = \"https://www.icc-cricket.com/rankings/mens/player-rankings/odi/batting\"\n",
    "r7 = requests.get(url7)# r variable has all the HTML code\n",
    "htmlContent3 = r7.content# r returns response so if we want the code we write r.content\n",
    "#print(htmlContent7)"
   ]
  },
  {
   "cell_type": "code",
   "execution_count": null,
   "id": "41c438b7",
   "metadata": {},
   "outputs": [],
   "source": [
    "soup7 = BeautifulSoup(r7.content, 'html.parser')\n",
    "Player_Name7=[]\n",
    "Team10=[]\n",
    "Ratings10=[]\n",
    "Career_best_Record=[]"
   ]
  },
  {
   "cell_type": "code",
   "execution_count": null,
   "id": "f680db0e",
   "metadata": {},
   "outputs": [],
   "source": [
    "player7=soup7.find_all('div',class_='rankings-block__banner--name-large')\n",
    "player7"
   ]
  },
  {
   "cell_type": "code",
   "execution_count": null,
   "id": "86ac5c34",
   "metadata": {},
   "outputs": [],
   "source": [
    "player8=soup7.find_all('td',class_='table-body__cell rankings-table__name name')\n",
    "player8[0:4]"
   ]
  },
  {
   "cell_type": "code",
   "execution_count": null,
   "id": "db82a63c",
   "metadata": {},
   "outputs": [],
   "source": [
    "PLAYER=player7+player8"
   ]
  },
  {
   "cell_type": "code",
   "execution_count": null,
   "id": "c6089867",
   "metadata": {},
   "outputs": [],
   "source": [
    "for i in PLAYER:\n",
    "    Player_Name7.append(i.get_text().replace(\"\\n\",\"\"))\n",
    "Player_Name7[0:10]"
   ]
  },
  {
   "cell_type": "code",
   "execution_count": null,
   "id": "4cfdaf3f",
   "metadata": {},
   "outputs": [],
   "source": [
    "Team7=soup7.find_all('div',class_='rankings-block__banner--nationality')\n",
    "Team7"
   ]
  },
  {
   "cell_type": "code",
   "execution_count": null,
   "id": "17c15d10",
   "metadata": {},
   "outputs": [],
   "source": [
    "Team8=soup7.find_all('span',class_='table-body__logo-text')\n",
    "Team8[0:10]"
   ]
  },
  {
   "cell_type": "code",
   "execution_count": null,
   "id": "0c4d779a",
   "metadata": {},
   "outputs": [],
   "source": [
    "TEAM=Team7+Team8"
   ]
  },
  {
   "cell_type": "code",
   "execution_count": null,
   "id": "154804f6",
   "metadata": {},
   "outputs": [],
   "source": [
    "for i in TEAM:\n",
    "    Team10.append(i.get_text().replace(\"\\n\",\"\"))\n",
    "Team10[0:10]"
   ]
  },
  {
   "cell_type": "code",
   "execution_count": null,
   "id": "dd861117",
   "metadata": {},
   "outputs": [],
   "source": [
    "ratings7=soup7.find_all('div',class_='rankings-block__banner--rating')\n",
    "ratings7"
   ]
  },
  {
   "cell_type": "code",
   "execution_count": null,
   "id": "e0bfcb7f",
   "metadata": {},
   "outputs": [],
   "source": [
    "ratings8=soup7.find_all('td',class_='table-body__cell rating')\n",
    "ratings8[0:10]"
   ]
  },
  {
   "cell_type": "code",
   "execution_count": null,
   "id": "6a46ae0d",
   "metadata": {},
   "outputs": [],
   "source": [
    "RATINGS=ratings7+ratings8"
   ]
  },
  {
   "cell_type": "code",
   "execution_count": null,
   "id": "f8db726f",
   "metadata": {},
   "outputs": [],
   "source": [
    "for i in RATINGS:\n",
    "    Ratings10.append(i.get_text().replace(\"\\n\",\"\"))\n",
    "Ratings10[0:10]"
   ]
  },
  {
   "cell_type": "code",
   "execution_count": null,
   "id": "f3432904",
   "metadata": {},
   "outputs": [],
   "source": [
    "career_best1=soup7.find_all('span',class_='rankings-block__career-best-text')\n",
    "career_best1"
   ]
  },
  {
   "cell_type": "code",
   "execution_count": null,
   "id": "9f233f5d",
   "metadata": {},
   "outputs": [],
   "source": [
    "career_best2=soup7.find_all('td',class_='table-body__cell u-text-right u-hide-phablet')\n",
    "career_best2[0:2]"
   ]
  },
  {
   "cell_type": "code",
   "execution_count": null,
   "id": "172154a7",
   "metadata": {},
   "outputs": [],
   "source": [
    "CAREER_BEST=career_best1+career_best2"
   ]
  },
  {
   "cell_type": "code",
   "execution_count": null,
   "id": "c16349f3",
   "metadata": {},
   "outputs": [],
   "source": [
    "for i in CAREER_BEST:\n",
    "   Career_best_Record.append(i.get_text().replace(\"\\n\",\"\"))\n",
    "Career_best_Record[0:10]"
   ]
  },
  {
   "cell_type": "code",
   "execution_count": null,
   "id": "724a1aa1",
   "metadata": {},
   "outputs": [],
   "source": [
    "ICC_MENS=pd.DataFrame({})\n",
    "ICC_MENS['BATSMAN NAME']=Player_Name7[0:10]\n",
    "ICC_MENS['TEAM']=Team10[0:10]\n",
    "ICC_MENS['RATING']=Ratings10[0:10]\n",
    "ICC_MENS['CAREER BEST RECORD']=Career_best_Record[0:10]\n",
    "\n",
    "ICC_MENS"
   ]
  },
  {
   "cell_type": "markdown",
   "id": "9dbfaa33",
   "metadata": {},
   "source": [
    "5) c)"
   ]
  },
  {
   "cell_type": "code",
   "execution_count": null,
   "id": "be4a219b",
   "metadata": {},
   "outputs": [],
   "source": [
    "url8 = \"https://www.icc-cricket.com/rankings/mens/player-rankings/odi/bowling\"\n",
    "r8 = requests.get(url8)# r variable has all the HTML code\n",
    "htmlContent8 = r8.content# r returns response so if we want the code we write r.content\n",
    "#print(htmlContent7)\n",
    "soup8 = BeautifulSoup(r8.content, 'html.parser')\n",
    "Player_Name11=[]\n",
    "Team11=[]\n",
    "Ratings11=[]\n",
    "Career_best_Record11=[]"
   ]
  },
  {
   "cell_type": "code",
   "execution_count": null,
   "id": "ed51ca38",
   "metadata": {},
   "outputs": [],
   "source": [
    "player_A=soup8.find_all('div',class_='rankings-block__banner--name-large')\n",
    "player_A"
   ]
  },
  {
   "cell_type": "code",
   "execution_count": null,
   "id": "528d4766",
   "metadata": {},
   "outputs": [],
   "source": [
    "player_B=soup8.find_all('td',class_='table-body__cell rankings-table__name name')\n",
    "player_B[0:2]"
   ]
  },
  {
   "cell_type": "code",
   "execution_count": null,
   "id": "429e7127",
   "metadata": {},
   "outputs": [],
   "source": [
    "PLAYER2=player_A+player_B"
   ]
  },
  {
   "cell_type": "code",
   "execution_count": null,
   "id": "5246a8d8",
   "metadata": {},
   "outputs": [],
   "source": [
    "for i in PLAYER2:\n",
    "    Player_Name11.append(i.get_text().replace(\"\\n\",\"\"))\n",
    "Player_Name11[0:10]"
   ]
  },
  {
   "cell_type": "code",
   "execution_count": null,
   "id": "fef9f135",
   "metadata": {},
   "outputs": [],
   "source": [
    "Team_A=soup8.find_all('div',class_='rankings-block__banner--nationality')\n",
    "Team_B=soup8.find_all('span',class_='table-body__logo-text')"
   ]
  },
  {
   "cell_type": "code",
   "execution_count": null,
   "id": "84fc7fb6",
   "metadata": {},
   "outputs": [],
   "source": [
    "TEAM2=Team_A+Team_B"
   ]
  },
  {
   "cell_type": "code",
   "execution_count": null,
   "id": "d17e292f",
   "metadata": {},
   "outputs": [],
   "source": [
    "for i in TEAM2:\n",
    "    Team11.append(i.get_text().replace(\"\\n\",\"\"))\n",
    "Team11[0:10]"
   ]
  },
  {
   "cell_type": "code",
   "execution_count": null,
   "id": "b1020a86",
   "metadata": {},
   "outputs": [],
   "source": [
    "ratings_A=soup8.find_all('div',class_='rankings-block__banner--rating')\n",
    "ratings_B=soup8.find_all('td',class_='table-body__cell rating')"
   ]
  },
  {
   "cell_type": "code",
   "execution_count": null,
   "id": "9fb26f37",
   "metadata": {},
   "outputs": [],
   "source": [
    "RATING_2=ratings_A+ratings_B"
   ]
  },
  {
   "cell_type": "code",
   "execution_count": null,
   "id": "f0dc020a",
   "metadata": {},
   "outputs": [],
   "source": [
    "for i in RATING_2:\n",
    "    Ratings11.append(i.get_text().replace(\"\\n\",\"\"))\n",
    "Ratings11[0:10]"
   ]
  },
  {
   "cell_type": "code",
   "execution_count": null,
   "id": "d88fff79",
   "metadata": {},
   "outputs": [],
   "source": [
    "career_best_A=soup8.find_all('span',class_='rankings-block__career-best-text')\n",
    "career_best_B=soup8.find_all('td',class_='table-body__cell u-text-right u-hide-phablet')"
   ]
  },
  {
   "cell_type": "code",
   "execution_count": null,
   "id": "cb4937d0",
   "metadata": {},
   "outputs": [],
   "source": [
    "CAREER_BEST_A=career_best_A+career_best_B"
   ]
  },
  {
   "cell_type": "code",
   "execution_count": null,
   "id": "f8849bdf",
   "metadata": {},
   "outputs": [],
   "source": [
    "for i in CAREER_BEST_A:\n",
    "    Career_best_Record11.append(i.get_text().replace(\"\\n\",\"\"))\n",
    "Career_best_Record11[0:10]"
   ]
  },
  {
   "cell_type": "code",
   "execution_count": null,
   "id": "7148f9b1",
   "metadata": {},
   "outputs": [],
   "source": [
    "ICC_BOWL=pd.DataFrame({})\n",
    "ICC_BOWL['BATSMAN NAME']=Player_Name11[0:10]\n",
    "ICC_BOWL['TEAM']=Team11[0:10]\n",
    "ICC_BOWL['RATING']=Ratings11[0:10]\n",
    "ICC_BOWL['CAREER BEST RATING']=Career_best_Record11[0:10]\n",
    "\n",
    "ICC_BOWL"
   ]
  },
  {
   "cell_type": "markdown",
   "id": "593be4bf",
   "metadata": {},
   "source": [
    "6) a)"
   ]
  },
  {
   "cell_type": "code",
   "execution_count": null,
   "id": "526da90a",
   "metadata": {},
   "outputs": [],
   "source": [
    "url12 = \"https://www.icc-cricket.com/rankings/womens/team-rankings/odi\"\n",
    "r12 = requests.get(url12)# r variable has all the HTML code\n",
    "htmlContent12 = r12.content# r returns response so if we want the code we write r.content\n",
    "#print(htmlContent)\n",
    "htmlText12 = r12.text\n",
    "#print(htmlText)\n",
    "soup12 = BeautifulSoup(r12.content, 'html.parser')\n",
    "Teams_12=[]\n",
    "Matches_12=[]\n",
    "Points_12=[]\n",
    "Ratings_12=[]\n",
    "\n",
    "teams13=soup12.find_all('span',class_='u-hide-phablet')\n",
    "teams13[0:2]"
   ]
  },
  {
   "cell_type": "code",
   "execution_count": null,
   "id": "eec9fb2d",
   "metadata": {},
   "outputs": [],
   "source": [
    "for i in teams13[0:10]:\n",
    "    Teams_12.append(i.get_text().replace(\"\\n\",\"\"))\n",
    "Teams_12[0:10]"
   ]
  },
  {
   "cell_type": "code",
   "execution_count": null,
   "id": "ec2e828b",
   "metadata": {},
   "outputs": [],
   "source": [
    "matches13=soup12.find_all('td',class_='rankings-block__banner--matches')"
   ]
  },
  {
   "cell_type": "code",
   "execution_count": null,
   "id": "53c9ce66",
   "metadata": {},
   "outputs": [],
   "source": [
    "matches14=soup12.find_all('td',class_='table-body__cell u-center-matches')"
   ]
  },
  {
   "cell_type": "code",
   "execution_count": null,
   "id": "220203d0",
   "metadata": {},
   "outputs": [],
   "source": [
    "matches15=matches13+matches14"
   ]
  },
  {
   "cell_type": "code",
   "execution_count": null,
   "id": "cec11637",
   "metadata": {},
   "outputs": [],
   "source": [
    "for i in matches15:\n",
    "    Matches_12.append(i.get_text().replace(\"\\n\",\"\"))\n",
    "Matches_12[0:3]"
   ]
  },
  {
   "cell_type": "code",
   "execution_count": null,
   "id": "c397b7b3",
   "metadata": {},
   "outputs": [],
   "source": [
    "ratings13=soup12.find_all('td',class_='rankings-block__banner--rating u-text-right')\n",
    "ratings14=soup12.find_all('td',class_='table-body__cell u-text-right rating')\n",
    "ratings15=ratings13+ratings14"
   ]
  },
  {
   "cell_type": "code",
   "execution_count": null,
   "id": "167b9894",
   "metadata": {},
   "outputs": [],
   "source": [
    "for i in ratings15:\n",
    "    Ratings_12.append(i.text.replace(\"\\n\",\"\").strip())\n",
    "Ratings_12[0:10]"
   ]
  },
  {
   "cell_type": "code",
   "execution_count": null,
   "id": "9f679ab2",
   "metadata": {},
   "outputs": [],
   "source": [
    "points13=soup12.find_all('td',class_='table-body__cell u-text-right rating')\n",
    "points13[0:4]"
   ]
  },
  {
   "cell_type": "code",
   "execution_count": null,
   "id": "71629395",
   "metadata": {},
   "outputs": [],
   "source": [
    "for i in points13:\n",
    "    Points_12.append(i.text.replace(\"\\n\",\"\").strip())\n",
    "Points_12[0:10]"
   ]
  },
  {
   "cell_type": "code",
   "execution_count": null,
   "id": "3ef7f0cb",
   "metadata": {},
   "outputs": [],
   "source": [
    "ICC_WOMAN=pd.DataFrame({})\n",
    "ICC_WOMAN['TEAM_NAME']=Teams_12\n",
    "\n",
    "ICC_WOMAN['RATINGS_']=Ratings_12\n",
    "\n",
    "\n",
    "ICC_WOMAN[0:10]"
   ]
  },
  {
   "cell_type": "markdown",
   "id": "adb8b22e",
   "metadata": {},
   "source": [
    "6) b)"
   ]
  },
  {
   "cell_type": "code",
   "execution_count": null,
   "id": "527f8873",
   "metadata": {},
   "outputs": [],
   "source": [
    "url15 = \"https://www.icc-cricket.com/rankings/womens/player-rankings/odi/batting\"\n",
    "r15 = requests.get(url15)# r variable has all the HTML code\n",
    "htmlContent15 = r15.content# r returns response so if we want the code we write r.content\n",
    "#print(htmlContent15)\n",
    "soup15 = BeautifulSoup(r15.content, 'html.parser')\n",
    "Player_Name15=[]\n",
    "Team15=[]\n",
    "Ratings15=[]\n",
    "Career_best_Record15=[]\n",
    "player13=soup15.find_all('div',class_='rankings-block__banner--name-large')\n",
    "player14=soup15.find_all('td',class_='table-body__cell rankings-table__name name')\n",
    "PLAYER_WW=player13+player14"
   ]
  },
  {
   "cell_type": "code",
   "execution_count": null,
   "id": "e96a2e41",
   "metadata": {},
   "outputs": [],
   "source": [
    "for i in PLAYER_WW:\n",
    "    Player_Name15.append(i.get_text().replace(\"\\n\",\"\"))\n",
    "Player_Name15[0:10]"
   ]
  },
  {
   "cell_type": "code",
   "execution_count": null,
   "id": "d2bf0543",
   "metadata": {},
   "outputs": [],
   "source": [
    "Team13=soup15.find_all('div',class_='rankings-block__banner--nationality')\n",
    "Team14=soup15.find_all('span',class_='table-body__logo-text')\n",
    "TEAM_WW=Team13+Team14\n",
    "for i in TEAM_WW:\n",
    "    Team15.append(i.get_text().replace(\"\\n\",\"\"))\n",
    "Team15[0:10]"
   ]
  },
  {
   "cell_type": "code",
   "execution_count": null,
   "id": "27c40c6f",
   "metadata": {},
   "outputs": [],
   "source": [
    "ratings13=soup15.find_all('div',class_='rankings-block__banner--rating')\n",
    "ratings14=soup15.find_all('td',class_='table-body__cell rating')\n",
    "RATINGS_WW=ratings13+ratings14\n",
    "for i in RATINGS_WW:\n",
    "    Ratings15.append(i.get_text().replace(\"\\n\",\"\"))\n",
    "Ratings15[0:10]"
   ]
  },
  {
   "cell_type": "code",
   "execution_count": null,
   "id": "ecd72ab8",
   "metadata": {},
   "outputs": [],
   "source": [
    "career_best3=soup15.find_all('span',class_='rankings-block__career-best-text')\n",
    "career_best4=soup15.find_all('td',class_='table-body__cell u-text-right u-hide-phablet')\n",
    "CAREER_BEST_W=career_best3+career_best4\n",
    "for i in CAREER_BEST_W:\n",
    "   Career_best_Record15.append(i.get_text().replace(\"\\n\",\"\"))\n",
    "Career_best_Record15[0:10]"
   ]
  },
  {
   "cell_type": "code",
   "execution_count": null,
   "id": "569b6d48",
   "metadata": {},
   "outputs": [],
   "source": [
    "ICC_WOMENS=pd.DataFrame({})\n",
    "ICC_WOMENS['BATSMAN NAME']=Player_Name15[0:10]\n",
    "ICC_WOMENS['TEAM']=Team15[0:10]\n",
    "ICC_WOMENS['RATING']=Ratings15[0:10]\n",
    "ICC_WOMENS['CAREER BEST RECORD']=Career_best_Record15[0:10]\n",
    "\n",
    "ICC_WOMENS"
   ]
  },
  {
   "cell_type": "markdown",
   "id": "744db2b8",
   "metadata": {},
   "source": [
    "6) c)"
   ]
  },
  {
   "cell_type": "code",
   "execution_count": null,
   "id": "bd6b1eac",
   "metadata": {},
   "outputs": [],
   "source": [
    "url20 = \"https://www.icc-cricket.com/rankings/womens/player-rankings/odi/all-rounder\"\n",
    "r20 = requests.get(url20)\n",
    "htmlContent20= r20.content\n",
    "soup20= BeautifulSoup(r20.content, 'html.parser')\n",
    "Player_Name20=[]\n",
    "Team20=[]\n",
    "Ratings20=[]\n",
    "Career_best_Record20=[]\n",
    "player17=soup20.find_all('div',class_='rankings-block__banner--name-large')\n",
    "player18=soup20.find_all('td',class_='table-body__cell rankings-table__name name')\n",
    "PLAYER_WWA=player17+player18\n",
    "for i in PLAYER_WWA:\n",
    "    Player_Name20.append(i.get_text().replace(\"\\n\",\"\"))\n",
    "Player_Name20[0:10]"
   ]
  },
  {
   "cell_type": "code",
   "execution_count": null,
   "id": "16dac508",
   "metadata": {},
   "outputs": [],
   "source": [
    "Team17=soup20.find_all('div',class_='rankings-block__banner--nationality')\n",
    "Team18=soup20.find_all('span',class_='table-body__logo-text')\n",
    "TEAM_WWA=Team17+Team18\n",
    "for i in TEAM_WWA:\n",
    "    Team20.append(i.get_text().replace(\"\\n\",\"\"))\n",
    "Team20[0:10]"
   ]
  },
  {
   "cell_type": "code",
   "execution_count": null,
   "id": "9c775bf8",
   "metadata": {},
   "outputs": [],
   "source": [
    "ratings17=soup20.find_all('div',class_='rankings-block__banner--rating')\n",
    "ratings18=soup20.find_all('td',class_='table-body__cell rating')\n",
    "RATINGS_WWA=ratings17+ratings18\n",
    "for i in RATINGS_WWA:\n",
    "    Ratings20.append(i.get_text().replace(\"\\n\",\"\"))\n",
    "Ratings20[0:10]"
   ]
  },
  {
   "cell_type": "code",
   "execution_count": null,
   "id": "c23d6784",
   "metadata": {},
   "outputs": [],
   "source": [
    "career_best17=soup20.find_all('span',class_='rankings-block__career-best-text')\n",
    "career_best18=soup20.find_all('td',class_='table-body__cell u-text-right u-hide-phablet')\n",
    "CAREER_BEST_WA=career_best17+career_best18\n",
    "for i in CAREER_BEST_WA:\n",
    "   Career_best_Record20.append(i.get_text().replace(\"\\n\",\"\"))\n",
    "Career_best_Record20[0:10]"
   ]
  },
  {
   "cell_type": "code",
   "execution_count": null,
   "id": "71cb33c5",
   "metadata": {},
   "outputs": [],
   "source": [
    "ICC_WOMENS_A=pd.DataFrame({})\n",
    "ICC_WOMENS_A['BATSMAN NAME']=Player_Name20[0:10]\n",
    "ICC_WOMENS_A['TEAM']=Team20[0:10]\n",
    "ICC_WOMENS_A['RATING']=Ratings20[0:10]\n",
    "ICC_WOMENS_A['CAREER BEST RECORD']=Career_best_Record20[0:10]\n",
    "\n",
    "ICC_WOMENS_A"
   ]
  },
  {
   "cell_type": "markdown",
   "id": "c53a64d0",
   "metadata": {},
   "source": [
    "7)"
   ]
  },
  {
   "cell_type": "code",
   "execution_count": null,
   "id": "cf17c4ab",
   "metadata": {},
   "outputs": [],
   "source": [
    "link = requests.get(\"https://coreyms.com/\")\n",
    "link"
   ]
  },
  {
   "cell_type": "code",
   "execution_count": null,
   "id": "c53a3c1c",
   "metadata": {},
   "outputs": [],
   "source": [
    "soup21 = BeautifulSoup(link.content)\n",
    "soup21"
   ]
  },
  {
   "cell_type": "code",
   "execution_count": null,
   "id": "f433927d",
   "metadata": {},
   "outputs": [],
   "source": [
    "head = soup21.find('a',class_=\"entry-title-link\")\n",
    "head.text\n",
    "date = soup21.find('time', class_=\"entry-time\")\n",
    "date.text\n"
   ]
  },
  {
   "cell_type": "code",
   "execution_count": null,
   "id": "025965ca",
   "metadata": {},
   "outputs": [],
   "source": [
    "Header = []\n",
    "Date = []\n",
    "\n",
    "for i in soup21.find_all('a',class_=\"entry-title-link\"):\n",
    "    Header.append(i.text)\n",
    "    \n",
    "for i in soup21.find_all('time', class_=\"entry-time\"):\n",
    "    Date.append(i.text)\n",
    "    \n",
    "Header\n",
    "Date\n"
   ]
  },
  {
   "cell_type": "code",
   "execution_count": null,
   "id": "89727486",
   "metadata": {},
   "outputs": [],
   "source": [
    "Content = pd.DataFrame({})\n",
    "Heading['Header']=Header\n",
    "Date['Date']=Date\n",
    "\n",
    "Content"
   ]
  },
  {
   "cell_type": "code",
   "execution_count": null,
   "id": "9a2951fb",
   "metadata": {},
   "outputs": [],
   "source": []
  }
 ],
 "metadata": {
  "kernelspec": {
   "display_name": "Python 3 (ipykernel)",
   "language": "python",
   "name": "python3"
  },
  "language_info": {
   "codemirror_mode": {
    "name": "ipython",
    "version": 3
   },
   "file_extension": ".py",
   "mimetype": "text/x-python",
   "name": "python",
   "nbconvert_exporter": "python",
   "pygments_lexer": "ipython3",
   "version": "3.9.7"
  }
 },
 "nbformat": 4,
 "nbformat_minor": 5
}
