{
 "cells": [
  {
   "cell_type": "markdown",
   "id": "2b388a58",
   "metadata": {},
   "source": [
    "### WEB SCRAPING – ASSIGNMENT 4"
   ]
  },
  {
   "cell_type": "code",
   "execution_count": 1,
   "id": "f193e2c7",
   "metadata": {},
   "outputs": [],
   "source": [
    "#Lets import all the required libraries\n",
    "import selenium\n",
    "import pandas as pd\n",
    "from selenium import webdriver\n",
    "\n",
    "import time\n",
    "\n",
    "#Importing requests\n",
    "import requests\n",
    "\n",
    "# importing regex\n",
    "import re\n",
    "\n",
    "# Importing required Exceptions\n",
    "from selenium.common.exceptions import StaleElementReferenceException\n",
    "from selenium.common.exceptions import NoSuchElementException,ElementNotInteractableException\n",
    "from selenium.webdriver.support.ui import WebDriverWait\n",
    "\n",
    "import warnings\n",
    "warnings.filterwarnings('ignore')"
   ]
  },
  {
   "cell_type": "markdown",
   "id": "99d438a2",
   "metadata": {},
   "source": [
    "Q1. Scrape the details of most viewed videos on YouTube from Wikipedia.\n",
    "Url = https://en.wikipedia.org/wiki/List_of_most-viewed_YouTube_videos\n"
   ]
  },
  {
   "cell_type": "code",
   "execution_count": 2,
   "id": "b2ab62c4",
   "metadata": {},
   "outputs": [],
   "source": [
    "#to open automated window\n",
    "driver = webdriver.Chrome(r\"C:\\Users\\Ashok\\Downloads\\chromedriver_win32\\chromedriver\")"
   ]
  },
  {
   "cell_type": "code",
   "execution_count": 3,
   "id": "6ed21ead",
   "metadata": {},
   "outputs": [],
   "source": [
    "driver=webdriver.Chrome('chromedriver.exe')\n",
    "time.sleep(2)"
   ]
  },
  {
   "cell_type": "code",
   "execution_count": 4,
   "id": "f6bf2b00",
   "metadata": {},
   "outputs": [],
   "source": [
    "driver.get(' https://en.wikipedia.org/wiki/List_of_most-viewed_YouTube_videos ')"
   ]
  },
  {
   "cell_type": "code",
   "execution_count": 5,
   "id": "82162c52",
   "metadata": {},
   "outputs": [],
   "source": [
    "# Creating empty lists for the attributes\n",
    "Rank=[]\n",
    "Name=[] \n",
    "Artist=[] \n",
    "Upload_date=[]\n",
    "Views=[]"
   ]
  },
  {
   "cell_type": "code",
   "execution_count": 6,
   "id": "b2e42e34",
   "metadata": {},
   "outputs": [
    {
     "name": "stdout",
     "output_type": "stream",
     "text": [
      "['1.', '2.', '3.', '4.', '5.', '6.', '7.', '8.', '9.', '10.', '11.', '12.', '13.', '14.', '15.', '16.', '17.', '18.', '19.', '20.', '21.', '22.', '23.', '24.', '25.', '26.', '27.', '28.', '29.', '30.']\n"
     ]
    }
   ],
   "source": [
    "Rank=[]\n",
    "try:\n",
    "    ranks=driver.find_elements_by_xpath(\"//table[@class='wikitable sortable jquery-tablesorter'][1]/tbody/tr/td[1]\")\n",
    "    for i in ranks:  \n",
    "        Rank.append(i.text)\n",
    "        \n",
    "except NoSuchElementException:\n",
    "    Rank.append(\"no detail available\")\n",
    "except StaleElementReferenceException:\n",
    "    Rank.append(\"no detail available\")\n",
    "print(Rank)"
   ]
  },
  {
   "cell_type": "code",
   "execution_count": 10,
   "id": "b7de5cd9",
   "metadata": {},
   "outputs": [
    {
     "name": "stdout",
     "output_type": "stream",
     "text": [
      "['\"Baby Shark Dance\"[3]', '\"Despacito\"[6]', '\"Johny Johny Yes Papa\"[12]', '\"Shape of You\"[13]', '\"See You Again\"[15]', '\"Bath Song\"[20]', '\"Phonics Song with Two Words\"[21]', '\"Uptown Funk\"[22]', '\"Learning Colors – Colorful Eggs on a Farm\"[23]', '\"Masha and the Bear – Recipe for Disaster\"[24]', '\"Gangnam Style\"[25]', '\"Wheels on the Bus\"[30]', '\"Dame Tu Cosita\"[31]', '\"Sugar\"[32]', '\"Roar\"[33]', '\"Counting Stars\"[34]', '\"Sorry\"[35]', '\"Thinking Out Loud\"[36]', '\"Axel F\"[37]', '\"Girls Like You\"[38]', '\"Faded\"[39]', '\"Dark Horse\"[40]', '\"Baa Baa Black Sheep\"[41]', '\"Let Her Go\"[42]', '\"Bailando\"[43]', '\"Lean On\"[44]', '\"Perfect\"[45]', '\"Shake It Off\"[46]', '\"Waka Waka (This Time for Africa)\"[47]', '\"Mi Gente\"[48]']\n"
     ]
    }
   ],
   "source": [
    "#scrapping the name of the video\n",
    "Name=[]\n",
    "try:\n",
    "    names=driver.find_elements_by_xpath(\"//table[@class='wikitable sortable jquery-tablesorter'][1]/tbody/tr/td[2]\")\n",
    "    for i in names:\n",
    "        Name.append(i.text)\n",
    "        \n",
    "except NoSuchElementException:\n",
    "    Name.append(\"no detail available\")\n",
    "except StaleElementReferenceException:\n",
    "    Name.append(\"no detail available\")\n",
    "print(Name)"
   ]
  },
  {
   "cell_type": "code",
   "execution_count": 11,
   "id": "02b58562",
   "metadata": {},
   "outputs": [
    {
     "name": "stdout",
     "output_type": "stream",
     "text": [
      "[\"Pinkfong Baby Shark - Kids' Songs & Stories\", 'Luis Fonsi', 'LooLoo Kids', 'Ed Sheeran', 'Wiz Khalifa', 'Cocomelon – Nursery Rhymes', 'ChuChu TV', 'Mark Ronson', 'Miroshka TV', 'Get Movies', 'Psy', 'Cocomelon – Nursery Rhymes', 'El Chombo', 'Maroon 5', 'Katy Perry', 'OneRepublic', 'Justin Bieber', 'Ed Sheeran', 'Crazy Frog', 'Maroon 5', 'Alan Walker', 'Katy Perry', 'Cocomelon – Nursery Rhymes', 'Passenger', 'Enrique Iglesias', 'Major Lazer', 'Ed Sheeran', 'Taylor Swift', 'Shakira', 'J Balvin']\n"
     ]
    }
   ],
   "source": [
    "#scrapping the details of artist\n",
    "Artist=[]\n",
    "try:\n",
    "    artists=driver.find_elements_by_xpath(\"//table[@class='wikitable sortable jquery-tablesorter'][1]/tbody/tr/td[3]\")\n",
    "    for i in artists:\n",
    "        Artist.append(i.text)\n",
    "        \n",
    "except NoSuchElementException:\n",
    "    Artist.append(\"no detail available\")\n",
    "except StaleElementReferenceException:\n",
    "    Artist.append(\"no detail available\")\n",
    "print(Artist)"
   ]
  },
  {
   "cell_type": "code",
   "execution_count": 12,
   "id": "0fc108e6",
   "metadata": {},
   "outputs": [
    {
     "name": "stdout",
     "output_type": "stream",
     "text": [
      "['June 17, 2016', 'January 12, 2017', 'October 8, 2016', 'January 30, 2017', 'April 6, 2015', 'May 2, 2018', 'March 6, 2014', 'November 19, 2014', 'February 27, 2018', 'January 31, 2012', 'July 15, 2012', 'May 24, 2018', 'April 5, 2018', 'January 14, 2015', 'September 5, 2013', 'May 31, 2013', 'October 22, 2015', 'October 7, 2014', 'June 16, 2009', 'May 31, 2018', 'December 3, 2015', 'February 20, 2014', 'June 25, 2018', 'July 25, 2012', 'April 11, 2014', 'March 22, 2015', 'November 9, 2017', 'August 18, 2014', 'June 4, 2010', 'June 29, 2017']\n"
     ]
    }
   ],
   "source": [
    "#scrapping the details of upload date\n",
    "Upload_date=[]\n",
    "try:\n",
    "    upload_dates_list=driver.find_elements_by_xpath(\"//table[@class='wikitable sortable jquery-tablesorter'][1]/tbody/tr/td[5]\")\n",
    "    for i in upload_dates_list:\n",
    "        Upload_date.append(i.text)\n",
    "        \n",
    "except NoSuchElementException:\n",
    "    Upload_date.append(\"no detail available\")\n",
    "except StaleElementReferenceException:\n",
    "    Upload_date.append(\"no detail available\")\n",
    "print(Upload_date) "
   ]
  },
  {
   "cell_type": "code",
   "execution_count": 13,
   "id": "76979ce8",
   "metadata": {},
   "outputs": [
    {
     "name": "stdout",
     "output_type": "stream",
     "text": [
      "['10.80', '7.87', '6.37', '5.74', '5.54', '5.44', '4.67', '4.60', '4.58', '4.50', '4.45', '4.12', '3.95', '3.71', '3.60', '3.59', '3.55', '3.46', '3.38', '3.30', '3.29', '3.29', '3.26', '3.24', '3.22', '3.22', '3.18', '3.18', '3.16', '3.09']\n"
     ]
    }
   ],
   "source": [
    "#scrapping the details of views\n",
    "Views=[]\n",
    "try:\n",
    "    view=driver.find_elements_by_xpath(\"//table[@class='wikitable sortable jquery-tablesorter'][1]/tbody/tr/td[4]\")\n",
    "    for i in view:\n",
    "        Views.append(i.text)\n",
    "        \n",
    "except NoSuchElementException:\n",
    "    Views.append(\"no detail available\")\n",
    "except StaleElementReferenceException:\n",
    "    Views.append(\"no detail available\")\n",
    "print(Views)   "
   ]
  },
  {
   "cell_type": "code",
   "execution_count": 14,
   "id": "5c5dc307",
   "metadata": {},
   "outputs": [
    {
     "name": "stdout",
     "output_type": "stream",
     "text": [
      "   Rank                                             Name                                       Artist        Upload Date  Views\n",
      "0    1.                            \"Baby Shark Dance\"[3]  Pinkfong Baby Shark - Kids' Songs & Stories      June 17, 2016  10.80\n",
      "1    2.                                   \"Despacito\"[6]                                   Luis Fonsi   January 12, 2017   7.87\n",
      "2    3.                       \"Johny Johny Yes Papa\"[12]                                  LooLoo Kids    October 8, 2016   6.37\n",
      "3    4.                               \"Shape of You\"[13]                                   Ed Sheeran   January 30, 2017   5.74\n",
      "4    5.                              \"See You Again\"[15]                                  Wiz Khalifa      April 6, 2015   5.54\n",
      "5    6.                                  \"Bath Song\"[20]                   Cocomelon – Nursery Rhymes        May 2, 2018   5.44\n",
      "6    7.                \"Phonics Song with Two Words\"[21]                                    ChuChu TV      March 6, 2014   4.67\n",
      "7    8.                                \"Uptown Funk\"[22]                                  Mark Ronson  November 19, 2014   4.60\n",
      "8    9.  \"Learning Colors – Colorful Eggs on a Farm\"[23]                                  Miroshka TV  February 27, 2018   4.58\n",
      "9   10.   \"Masha and the Bear – Recipe for Disaster\"[24]                                   Get Movies   January 31, 2012   4.50\n",
      "10  11.                              \"Gangnam Style\"[25]                                          Psy      July 15, 2012   4.45\n",
      "11  12.                          \"Wheels on the Bus\"[30]                   Cocomelon – Nursery Rhymes       May 24, 2018   4.12\n",
      "12  13.                             \"Dame Tu Cosita\"[31]                                    El Chombo      April 5, 2018   3.95\n",
      "13  14.                                      \"Sugar\"[32]                                     Maroon 5   January 14, 2015   3.71\n",
      "14  15.                                       \"Roar\"[33]                                   Katy Perry  September 5, 2013   3.60\n",
      "15  16.                             \"Counting Stars\"[34]                                  OneRepublic       May 31, 2013   3.59\n",
      "16  17.                                      \"Sorry\"[35]                                Justin Bieber   October 22, 2015   3.55\n",
      "17  18.                          \"Thinking Out Loud\"[36]                                   Ed Sheeran    October 7, 2014   3.46\n",
      "18  19.                                     \"Axel F\"[37]                                   Crazy Frog      June 16, 2009   3.38\n",
      "19  20.                             \"Girls Like You\"[38]                                     Maroon 5       May 31, 2018   3.30\n",
      "20  21.                                      \"Faded\"[39]                                  Alan Walker   December 3, 2015   3.29\n",
      "21  22.                                 \"Dark Horse\"[40]                                   Katy Perry  February 20, 2014   3.29\n",
      "22  23.                        \"Baa Baa Black Sheep\"[41]                   Cocomelon – Nursery Rhymes      June 25, 2018   3.26\n",
      "23  24.                                 \"Let Her Go\"[42]                                    Passenger      July 25, 2012   3.24\n",
      "24  25.                                   \"Bailando\"[43]                             Enrique Iglesias     April 11, 2014   3.22\n",
      "25  26.                                    \"Lean On\"[44]                                  Major Lazer     March 22, 2015   3.22\n",
      "26  27.                                    \"Perfect\"[45]                                   Ed Sheeran   November 9, 2017   3.18\n",
      "27  28.                               \"Shake It Off\"[46]                                 Taylor Swift    August 18, 2014   3.18\n",
      "28  29.           \"Waka Waka (This Time for Africa)\"[47]                                      Shakira       June 4, 2010   3.16\n",
      "29  30.                                   \"Mi Gente\"[48]                                     J Balvin      June 29, 2017   3.09\n"
     ]
    }
   ],
   "source": [
    "pd.set_option('expand_frame_repr', False)\n",
    "#preparing dataframe\n",
    "videos=pd.DataFrame({\"Rank\":Rank,\"Name\":Name,\"Artist\":Artist,\"Upload Date\":Upload_date,\"Views\":Views})\n",
    "print(videos)"
   ]
  },
  {
   "cell_type": "markdown",
   "id": "8f163eef",
   "metadata": {},
   "source": [
    "Q2. Scrape the details team India’s international fixtures from bcci.tv.\n",
    "\n",
    "Url = https://www.bcci.tv/."
   ]
  },
  {
   "cell_type": "code",
   "execution_count": 15,
   "id": "582ad479",
   "metadata": {},
   "outputs": [],
   "source": [
    "#to open automated window\n",
    "driver = webdriver.Chrome(r\"C:\\Users\\Ashok\\Downloads\\chromedriver_win32\\chromedriver\")"
   ]
  },
  {
   "cell_type": "code",
   "execution_count": 16,
   "id": "a0ca00a5",
   "metadata": {},
   "outputs": [],
   "source": [
    "driver=webdriver.Chrome('chromedriver.exe')\n",
    "driver.get(' https://www.bcci.tv/.')"
   ]
  },
  {
   "cell_type": "code",
   "execution_count": 17,
   "id": "95adc18c",
   "metadata": {},
   "outputs": [],
   "source": [
    "#going to internation fixtures page\n",
    "fixtures=driver.find_element_by_xpath(\"/html/body/nav/div[1]/div[2]/ul[1]/li[2]/a\")\n",
    "\n",
    "driver.get(fixtures.get_attribute('href'))"
   ]
  },
  {
   "cell_type": "code",
   "execution_count": 18,
   "id": "000ba6df",
   "metadata": {},
   "outputs": [
    {
     "data": {
      "text/plain": [
       "[<selenium.webdriver.remote.webelement.WebElement (session=\"32d98b69b4505ad4a5fe933732c481e5\", element=\"b9dba9be-2fbe-44b0-adad-617e287789cb\")>,\n",
       " <selenium.webdriver.remote.webelement.WebElement (session=\"32d98b69b4505ad4a5fe933732c481e5\", element=\"4ba19a87-ab9b-4750-b840-5b5dd2982cf6\")>,\n",
       " <selenium.webdriver.remote.webelement.WebElement (session=\"32d98b69b4505ad4a5fe933732c481e5\", element=\"aad2d524-0048-41e9-b59b-4065e208f297\")>,\n",
       " <selenium.webdriver.remote.webelement.WebElement (session=\"32d98b69b4505ad4a5fe933732c481e5\", element=\"982e9fd0-b85d-425b-b527-46b71b7e6319\")>,\n",
       " <selenium.webdriver.remote.webelement.WebElement (session=\"32d98b69b4505ad4a5fe933732c481e5\", element=\"620374ac-b56b-4235-b7b0-9d7ced54ba96\")>,\n",
       " <selenium.webdriver.remote.webelement.WebElement (session=\"32d98b69b4505ad4a5fe933732c481e5\", element=\"fb39721e-dee1-4804-a29f-b84b47b9a3f3\")>,\n",
       " <selenium.webdriver.remote.webelement.WebElement (session=\"32d98b69b4505ad4a5fe933732c481e5\", element=\"bee74463-81c8-40a3-9d25-27eaab06f6c8\")>,\n",
       " <selenium.webdriver.remote.webelement.WebElement (session=\"32d98b69b4505ad4a5fe933732c481e5\", element=\"89710c67-4a37-4dd6-b513-dea5ab33bc69\")>]"
      ]
     },
     "execution_count": 18,
     "metadata": {},
     "output_type": "execute_result"
    }
   ],
   "source": [
    "#Lets extract all the tags having Match titles.\n",
    "titles=driver.find_elements_by_xpath(\"//span[@class='matchOrderText ng-binding ng-scope']\")\n",
    "titles"
   ]
  },
  {
   "cell_type": "code",
   "execution_count": 19,
   "id": "303bdad8",
   "metadata": {},
   "outputs": [
    {
     "data": {
      "text/plain": [
       "['1st T20I -',\n",
       " '2nd T20I -',\n",
       " '1st T20I -',\n",
       " '3rd T20I -',\n",
       " '2nd T20I -',\n",
       " '1st ODI -',\n",
       " '5th Test -',\n",
       " '2nd ODI -']"
      ]
     },
     "execution_count": 19,
     "metadata": {},
     "output_type": "execute_result"
    }
   ],
   "source": [
    "# Now the text of the match titles are inside the tags extracted above.\n",
    "Match_Titles=[]\n",
    "for i in titles:\n",
    "    title=i.text\n",
    "    Match_Titles.append(title)\n",
    "Match_Titles"
   ]
  },
  {
   "cell_type": "code",
   "execution_count": 20,
   "id": "aca6c64e",
   "metadata": {},
   "outputs": [
    {
     "data": {
      "text/plain": [
       "[<selenium.webdriver.remote.webelement.WebElement (session=\"32d98b69b4505ad4a5fe933732c481e5\", element=\"9f8e58e5-8f6c-415d-a62a-6b6082310fb0\")>,\n",
       " <selenium.webdriver.remote.webelement.WebElement (session=\"32d98b69b4505ad4a5fe933732c481e5\", element=\"787c714f-06c1-4c63-93f0-f032ab48ff58\")>,\n",
       " <selenium.webdriver.remote.webelement.WebElement (session=\"32d98b69b4505ad4a5fe933732c481e5\", element=\"94fcfda7-e995-4b85-be74-b43ac4a17336\")>,\n",
       " <selenium.webdriver.remote.webelement.WebElement (session=\"32d98b69b4505ad4a5fe933732c481e5\", element=\"0fc5eb0d-4930-4160-88e0-a32419ac1bf7\")>,\n",
       " <selenium.webdriver.remote.webelement.WebElement (session=\"32d98b69b4505ad4a5fe933732c481e5\", element=\"89073702-0b17-49b0-b3de-09d78a2afc4a\")>,\n",
       " <selenium.webdriver.remote.webelement.WebElement (session=\"32d98b69b4505ad4a5fe933732c481e5\", element=\"ede8c93c-96e0-4b35-a6fc-e4dcee83b53d\")>,\n",
       " <selenium.webdriver.remote.webelement.WebElement (session=\"32d98b69b4505ad4a5fe933732c481e5\", element=\"9aedc51b-b2ea-448f-adde-17caa5034de3\")>,\n",
       " <selenium.webdriver.remote.webelement.WebElement (session=\"32d98b69b4505ad4a5fe933732c481e5\", element=\"7f86341e-1cea-44b6-b452-6e2c57bec1d8\")>]"
      ]
     },
     "execution_count": 20,
     "metadata": {},
     "output_type": "execute_result"
    }
   ],
   "source": [
    "#Lets extract all the tags having series\n",
    "series=driver.find_elements_by_xpath(\"//span[@class='ng-binding']\")\n",
    "series"
   ]
  },
  {
   "cell_type": "code",
   "execution_count": 21,
   "id": "09c2df87",
   "metadata": {},
   "outputs": [
    {
     "data": {
      "text/plain": [
       "['INDIA WOMEN TOUR OF SRI LANKA T20 SERIES 2022',\n",
       " 'INDIA WOMEN TOUR OF SRI LANKA T20 SERIES 2022',\n",
       " 'INDIA TOUR OF IRELAND T20 SERIES 2022',\n",
       " 'INDIA WOMEN TOUR OF SRI LANKA T20 SERIES 2022',\n",
       " 'INDIA TOUR OF IRELAND T20 SERIES 2022',\n",
       " 'INDIA WOMEN TOUR OF SRI LANKA ODI SERIES 2022',\n",
       " 'INDIA TOUR OF ENGLAND TEST SERIES 2021',\n",
       " 'INDIA WOMEN TOUR OF SRI LANKA ODI SERIES 2022']"
      ]
     },
     "execution_count": 21,
     "metadata": {},
     "output_type": "execute_result"
    }
   ],
   "source": [
    "# Now the text of the series are inside the tags extracted above.\n",
    "Series=[]\n",
    "for i in series:\n",
    "    sr=i.text\n",
    "    Series.append(sr)\n",
    "Series"
   ]
  },
  {
   "cell_type": "code",
   "execution_count": 22,
   "id": "6847dc2a",
   "metadata": {},
   "outputs": [
    {
     "data": {
      "text/plain": [
       "[<selenium.webdriver.remote.webelement.WebElement (session=\"32d98b69b4505ad4a5fe933732c481e5\", element=\"39d91819-0048-48ed-9394-3dc88cfba678\")>,\n",
       " <selenium.webdriver.remote.webelement.WebElement (session=\"32d98b69b4505ad4a5fe933732c481e5\", element=\"c4057f45-c928-4d23-9c5a-097e90ad548e\")>,\n",
       " <selenium.webdriver.remote.webelement.WebElement (session=\"32d98b69b4505ad4a5fe933732c481e5\", element=\"06485601-970e-4228-8870-d95a3d41a7b5\")>,\n",
       " <selenium.webdriver.remote.webelement.WebElement (session=\"32d98b69b4505ad4a5fe933732c481e5\", element=\"5aa4844b-3ea9-40ff-830b-6e5e58e3f909\")>,\n",
       " <selenium.webdriver.remote.webelement.WebElement (session=\"32d98b69b4505ad4a5fe933732c481e5\", element=\"3f1dc0f3-1799-45be-8b15-8f025ffd4b7d\")>,\n",
       " <selenium.webdriver.remote.webelement.WebElement (session=\"32d98b69b4505ad4a5fe933732c481e5\", element=\"2ed7ff94-b670-429a-bd70-b8d8ace84d3b\")>,\n",
       " <selenium.webdriver.remote.webelement.WebElement (session=\"32d98b69b4505ad4a5fe933732c481e5\", element=\"d89e265c-a06b-4616-b5aa-101871e79b57\")>,\n",
       " <selenium.webdriver.remote.webelement.WebElement (session=\"32d98b69b4505ad4a5fe933732c481e5\", element=\"c560d355-5b2c-4e2d-ab9d-2faa51432306\")>]"
      ]
     },
     "execution_count": 22,
     "metadata": {},
     "output_type": "execute_result"
    }
   ],
   "source": [
    "place=driver.find_elements_by_xpath(\"//div[@class='fix-place ng-binding ng-scope']\")\n",
    "place"
   ]
  },
  {
   "cell_type": "code",
   "execution_count": 23,
   "id": "9831b1e0",
   "metadata": {},
   "outputs": [
    {
     "data": {
      "text/plain": [
       "['Rangiri Dambulla International Stadium, Dambulla',\n",
       " 'Rangiri Dambulla International Stadium, Dambulla',\n",
       " 'The Village, Dublin',\n",
       " 'Rangiri Dambulla International Stadium, Dambulla',\n",
       " 'The Village, Dublin',\n",
       " 'allekele International Cricket Stadium, Pallekele',\n",
       " 'Edgbaston, Birmingham',\n",
       " 'allekele International Cricket Stadium, Pallekele']"
      ]
     },
     "execution_count": 23,
     "metadata": {},
     "output_type": "execute_result"
    }
   ],
   "source": [
    "Places=[]\n",
    "for i in place:\n",
    "    p=i.text\n",
    "    Places.append(p[11:])\n",
    "Places"
   ]
  },
  {
   "cell_type": "code",
   "execution_count": 24,
   "id": "1b0c1a5a",
   "metadata": {},
   "outputs": [
    {
     "data": {
      "text/plain": [
       "[<selenium.webdriver.remote.webelement.WebElement (session=\"32d98b69b4505ad4a5fe933732c481e5\", element=\"e993a501-3252-4f5e-8e86-c5e0959771c3\")>,\n",
       " <selenium.webdriver.remote.webelement.WebElement (session=\"32d98b69b4505ad4a5fe933732c481e5\", element=\"5f8b8ef9-b126-436d-af40-05244bd725f8\")>,\n",
       " <selenium.webdriver.remote.webelement.WebElement (session=\"32d98b69b4505ad4a5fe933732c481e5\", element=\"b4bf97cf-51c7-4845-9eb3-9b52ebafe6b9\")>,\n",
       " <selenium.webdriver.remote.webelement.WebElement (session=\"32d98b69b4505ad4a5fe933732c481e5\", element=\"31603e26-1494-4352-a68f-899ab679ec82\")>,\n",
       " <selenium.webdriver.remote.webelement.WebElement (session=\"32d98b69b4505ad4a5fe933732c481e5\", element=\"7552ec98-3c66-4cb2-b96a-4e0c0b5aa4fc\")>,\n",
       " <selenium.webdriver.remote.webelement.WebElement (session=\"32d98b69b4505ad4a5fe933732c481e5\", element=\"ab8a19db-d5c3-4dbf-8d77-d47628d629d1\")>,\n",
       " <selenium.webdriver.remote.webelement.WebElement (session=\"32d98b69b4505ad4a5fe933732c481e5\", element=\"90b9559f-a116-44a6-8ca3-756a4f64968c\")>,\n",
       " <selenium.webdriver.remote.webelement.WebElement (session=\"32d98b69b4505ad4a5fe933732c481e5\", element=\"e1f53e0c-e56c-40f9-a9a9-f54714d3ca2d\")>]"
      ]
     },
     "execution_count": 24,
     "metadata": {},
     "output_type": "execute_result"
    }
   ],
   "source": [
    "date=driver.find_elements_by_xpath(\"//h5[@class='ng-binding']\")\n",
    "date"
   ]
  },
  {
   "cell_type": "code",
   "execution_count": 25,
   "id": "c18475ae",
   "metadata": {},
   "outputs": [
    {
     "data": {
      "text/plain": [
       "['23 JUN 2022',\n",
       " '25 JUN 2022',\n",
       " '26 JUN 2022',\n",
       " '27 JUN 2022',\n",
       " '28 JUN 2022',\n",
       " '1 JUL 2022',\n",
       " '1 JUL 2022',\n",
       " '4 JUL 2022']"
      ]
     },
     "execution_count": 25,
     "metadata": {},
     "output_type": "execute_result"
    }
   ],
   "source": [
    "Dates=[]\n",
    "for i in date:\n",
    "    d=i.text\n",
    "    Dates.append(d)\n",
    "Dates"
   ]
  },
  {
   "cell_type": "code",
   "execution_count": 26,
   "id": "d5c2c93a",
   "metadata": {},
   "outputs": [
    {
     "data": {
      "text/plain": [
       "[<selenium.webdriver.remote.webelement.WebElement (session=\"32d98b69b4505ad4a5fe933732c481e5\", element=\"fc6612a3-f578-4968-b1e1-a8630cee9de7\")>,\n",
       " <selenium.webdriver.remote.webelement.WebElement (session=\"32d98b69b4505ad4a5fe933732c481e5\", element=\"97d333df-4adc-4d09-998d-e75f7f51c71f\")>,\n",
       " <selenium.webdriver.remote.webelement.WebElement (session=\"32d98b69b4505ad4a5fe933732c481e5\", element=\"1946dc11-6b8b-4d99-8840-023894149af7\")>,\n",
       " <selenium.webdriver.remote.webelement.WebElement (session=\"32d98b69b4505ad4a5fe933732c481e5\", element=\"9fb99d73-0428-47cb-912f-74cb4380fb1a\")>,\n",
       " <selenium.webdriver.remote.webelement.WebElement (session=\"32d98b69b4505ad4a5fe933732c481e5\", element=\"75b8bb84-93c5-49a3-b94a-28dd6ced5247\")>,\n",
       " <selenium.webdriver.remote.webelement.WebElement (session=\"32d98b69b4505ad4a5fe933732c481e5\", element=\"476628ca-a5b2-4d8f-86d0-f57b1f06c232\")>,\n",
       " <selenium.webdriver.remote.webelement.WebElement (session=\"32d98b69b4505ad4a5fe933732c481e5\", element=\"dab0a33e-3fce-42df-8411-d37bca092a26\")>,\n",
       " <selenium.webdriver.remote.webelement.WebElement (session=\"32d98b69b4505ad4a5fe933732c481e5\", element=\"e4097318-2fb1-43db-b3f6-ec9f13bf6f37\")>]"
      ]
     },
     "execution_count": 26,
     "metadata": {},
     "output_type": "execute_result"
    }
   ],
   "source": [
    "time=driver.find_elements_by_xpath(\"//h5[@class='text-right ng-binding']\")\n",
    "time"
   ]
  },
  {
   "cell_type": "code",
   "execution_count": 27,
   "id": "f6e14561",
   "metadata": {},
   "outputs": [
    {
     "data": {
      "text/plain": [
       "['2:30 PM IST',\n",
       " '2:30 PM IST',\n",
       " '9:00 PM IST',\n",
       " '2:30 PM IST',\n",
       " '9:00 PM IST',\n",
       " '10:00 AM IST',\n",
       " '3:30 PM IST',\n",
       " '10:00 AM IST']"
      ]
     },
     "execution_count": 27,
     "metadata": {},
     "output_type": "execute_result"
    }
   ],
   "source": [
    "Time=[]\n",
    "for i in time:\n",
    "    t=i.text\n",
    "    Time.append(t)\n",
    "Time"
   ]
  },
  {
   "cell_type": "code",
   "execution_count": 28,
   "id": "f6282a04",
   "metadata": {},
   "outputs": [
    {
     "data": {
      "text/html": [
       "<div>\n",
       "<style scoped>\n",
       "    .dataframe tbody tr th:only-of-type {\n",
       "        vertical-align: middle;\n",
       "    }\n",
       "\n",
       "    .dataframe tbody tr th {\n",
       "        vertical-align: top;\n",
       "    }\n",
       "\n",
       "    .dataframe thead th {\n",
       "        text-align: right;\n",
       "    }\n",
       "</style>\n",
       "<table border=\"1\" class=\"dataframe\">\n",
       "  <thead>\n",
       "    <tr style=\"text-align: right;\">\n",
       "      <th></th>\n",
       "      <th>Match_Titles</th>\n",
       "      <th>Series</th>\n",
       "      <th>Place</th>\n",
       "      <th>Dates</th>\n",
       "      <th>Time</th>\n",
       "    </tr>\n",
       "  </thead>\n",
       "  <tbody>\n",
       "    <tr>\n",
       "      <th>0</th>\n",
       "      <td>1st T20I -</td>\n",
       "      <td>INDIA WOMEN TOUR OF SRI LANKA T20 SERIES 2022</td>\n",
       "      <td>Rangiri Dambulla International Stadium, Dambulla</td>\n",
       "      <td>23 JUN 2022</td>\n",
       "      <td>2:30 PM IST</td>\n",
       "    </tr>\n",
       "    <tr>\n",
       "      <th>1</th>\n",
       "      <td>2nd T20I -</td>\n",
       "      <td>INDIA WOMEN TOUR OF SRI LANKA T20 SERIES 2022</td>\n",
       "      <td>Rangiri Dambulla International Stadium, Dambulla</td>\n",
       "      <td>25 JUN 2022</td>\n",
       "      <td>2:30 PM IST</td>\n",
       "    </tr>\n",
       "    <tr>\n",
       "      <th>2</th>\n",
       "      <td>1st T20I -</td>\n",
       "      <td>INDIA TOUR OF IRELAND T20 SERIES 2022</td>\n",
       "      <td>The Village, Dublin</td>\n",
       "      <td>26 JUN 2022</td>\n",
       "      <td>9:00 PM IST</td>\n",
       "    </tr>\n",
       "    <tr>\n",
       "      <th>3</th>\n",
       "      <td>3rd T20I -</td>\n",
       "      <td>INDIA WOMEN TOUR OF SRI LANKA T20 SERIES 2022</td>\n",
       "      <td>Rangiri Dambulla International Stadium, Dambulla</td>\n",
       "      <td>27 JUN 2022</td>\n",
       "      <td>2:30 PM IST</td>\n",
       "    </tr>\n",
       "    <tr>\n",
       "      <th>4</th>\n",
       "      <td>2nd T20I -</td>\n",
       "      <td>INDIA TOUR OF IRELAND T20 SERIES 2022</td>\n",
       "      <td>The Village, Dublin</td>\n",
       "      <td>28 JUN 2022</td>\n",
       "      <td>9:00 PM IST</td>\n",
       "    </tr>\n",
       "    <tr>\n",
       "      <th>5</th>\n",
       "      <td>1st ODI -</td>\n",
       "      <td>INDIA WOMEN TOUR OF SRI LANKA ODI SERIES 2022</td>\n",
       "      <td>allekele International Cricket Stadium, Pallekele</td>\n",
       "      <td>1 JUL 2022</td>\n",
       "      <td>10:00 AM IST</td>\n",
       "    </tr>\n",
       "    <tr>\n",
       "      <th>6</th>\n",
       "      <td>5th Test -</td>\n",
       "      <td>INDIA TOUR OF ENGLAND TEST SERIES 2021</td>\n",
       "      <td>Edgbaston, Birmingham</td>\n",
       "      <td>1 JUL 2022</td>\n",
       "      <td>3:30 PM IST</td>\n",
       "    </tr>\n",
       "    <tr>\n",
       "      <th>7</th>\n",
       "      <td>2nd ODI -</td>\n",
       "      <td>INDIA WOMEN TOUR OF SRI LANKA ODI SERIES 2022</td>\n",
       "      <td>allekele International Cricket Stadium, Pallekele</td>\n",
       "      <td>4 JUL 2022</td>\n",
       "      <td>10:00 AM IST</td>\n",
       "    </tr>\n",
       "  </tbody>\n",
       "</table>\n",
       "</div>"
      ],
      "text/plain": [
       "  Match_Titles                                         Series                                              Place        Dates          Time\n",
       "0   1st T20I -  INDIA WOMEN TOUR OF SRI LANKA T20 SERIES 2022   Rangiri Dambulla International Stadium, Dambulla  23 JUN 2022   2:30 PM IST\n",
       "1   2nd T20I -  INDIA WOMEN TOUR OF SRI LANKA T20 SERIES 2022   Rangiri Dambulla International Stadium, Dambulla  25 JUN 2022   2:30 PM IST\n",
       "2   1st T20I -          INDIA TOUR OF IRELAND T20 SERIES 2022                                The Village, Dublin  26 JUN 2022   9:00 PM IST\n",
       "3   3rd T20I -  INDIA WOMEN TOUR OF SRI LANKA T20 SERIES 2022   Rangiri Dambulla International Stadium, Dambulla  27 JUN 2022   2:30 PM IST\n",
       "4   2nd T20I -          INDIA TOUR OF IRELAND T20 SERIES 2022                                The Village, Dublin  28 JUN 2022   9:00 PM IST\n",
       "5    1st ODI -  INDIA WOMEN TOUR OF SRI LANKA ODI SERIES 2022  allekele International Cricket Stadium, Pallekele   1 JUL 2022  10:00 AM IST\n",
       "6   5th Test -         INDIA TOUR OF ENGLAND TEST SERIES 2021                              Edgbaston, Birmingham   1 JUL 2022   3:30 PM IST\n",
       "7    2nd ODI -  INDIA WOMEN TOUR OF SRI LANKA ODI SERIES 2022  allekele International Cricket Stadium, Pallekele   4 JUL 2022  10:00 AM IST"
      ]
     },
     "execution_count": 28,
     "metadata": {},
     "output_type": "execute_result"
    }
   ],
   "source": [
    "import pandas as pd\n",
    "Matches=pd.DataFrame({'Match_Titles':Match_Titles,'Series':Series,'Place':Places,'Dates':Dates,'Time':Time})\n",
    "Matches"
   ]
  },
  {
   "cell_type": "markdown",
   "id": "ffdfbba8",
   "metadata": {},
   "source": [
    "Q3. Scrape the details of selenium exception from guru99.com.\n",
    "\n",
    "Url = https://www.guru99.com/"
   ]
  },
  {
   "cell_type": "code",
   "execution_count": 42,
   "id": "b7a83bac",
   "metadata": {},
   "outputs": [],
   "source": [
    "#loading the drivers and url\n",
    "driver=webdriver.Chrome('chromedriver.exe')\n",
    "driver.get('https://www.guru99.com/')\n",
    "driver.maximize_window()"
   ]
  },
  {
   "cell_type": "code",
   "execution_count": 43,
   "id": "3fe00b05",
   "metadata": {},
   "outputs": [],
   "source": [
    "#clicking on selenium tutorial\n",
    "driver.find_element_by_xpath(\"//*[@id='java_technologies']/li[3]/a\").click()"
   ]
  },
  {
   "cell_type": "code",
   "execution_count": 44,
   "id": "8c4f76a4",
   "metadata": {},
   "outputs": [],
   "source": [
    "#navigate to selenium page\n",
    "exception_handle_link=driver.find_element_by_xpath(\"//a[@title='Selenium Exception Handling (Common Exceptions List)']\")\n",
    "try:\n",
    "    exception_handle_link.click()\n",
    "except ElementNotInteractableException:#handling element not clickable exception\n",
    "    driver.get(exception_handle_link.get_attribute('href'))    "
   ]
  },
  {
   "cell_type": "code",
   "execution_count": 45,
   "id": "ea53ea35",
   "metadata": {},
   "outputs": [
    {
     "name": "stdout",
     "output_type": "stream",
     "text": [
      "0\n"
     ]
    }
   ],
   "source": [
    "#scraping exceptions names\n",
    "name=[]\n",
    "try:\n",
    "    names=driver.find_elements_by_xpath(\"//table[@class='table table-striped']/tbody/tr/td[1]\")\n",
    "    for i in names[1:]:\n",
    "        name.append(i.text)\n",
    "except NoSuchElementException:#handling no such element exception\n",
    "    name.append('No details available')\n",
    "print(len(name))"
   ]
  },
  {
   "cell_type": "code",
   "execution_count": 46,
   "id": "a1004914",
   "metadata": {},
   "outputs": [
    {
     "name": "stdout",
     "output_type": "stream",
     "text": [
      "0\n"
     ]
    }
   ],
   "source": [
    "#scraping exceptions description\n",
    "desc=[]\n",
    "try:\n",
    "    desc_list=driver.find_elements_by_xpath(\"//table[@class='table table-striped']/tbody/tr/td[2]\")\n",
    "    for i in desc_list[1:]:\n",
    "        desc.append(i.text)\n",
    "except NoSuchElementException:#handling no such element exception\n",
    "    desc.append('No details available')\n",
    "print(len(desc))"
   ]
  },
  {
   "cell_type": "code",
   "execution_count": 47,
   "id": "fb5a8082",
   "metadata": {},
   "outputs": [
    {
     "name": "stdout",
     "output_type": "stream",
     "text": [
      "Empty DataFrame\n",
      "Columns: [Exception_name, Description]\n",
      "Index: []\n"
     ]
    }
   ],
   "source": [
    "pd.set_option('expand_frame_repr', False)\n",
    "#creating dataframe\n",
    "df=pd.DataFrame({\"Exception_name\":name,\n",
    "                \"Description\":desc})\n",
    "print(df)"
   ]
  },
  {
   "cell_type": "markdown",
   "id": "b9eecb3d",
   "metadata": {},
   "source": [
    "Q4. Scrape the details of State-wise GDP of India from statisticstime.com\n",
    "\n",
    "Url = http://statisticstimes.com/"
   ]
  },
  {
   "cell_type": "code",
   "execution_count": 49,
   "id": "74ba45c8",
   "metadata": {},
   "outputs": [],
   "source": [
    "#to open automated window\n",
    "driver = webdriver.Chrome(r\"C:\\Users\\Ashok\\Downloads\\chromedriver_win32\\chromedriver\")"
   ]
  },
  {
   "cell_type": "code",
   "execution_count": 50,
   "id": "343abbfa",
   "metadata": {},
   "outputs": [],
   "source": [
    "driver=webdriver.Chrome('chromedriver.exe')\n",
    "driver.get('https://www.statisticstimes.com/')"
   ]
  },
  {
   "cell_type": "code",
   "execution_count": 51,
   "id": "ee0993ca",
   "metadata": {},
   "outputs": [],
   "source": [
    "# Creating empty sets.\n",
    "Rank = []\n",
    "State = []\n",
    "GSDP_18_19 = []\n",
    "GSDP_19_20 = []\n",
    "Share_2018= []\n",
    "GDP = []"
   ]
  },
  {
   "cell_type": "code",
   "execution_count": 52,
   "id": "ee4edd8e",
   "metadata": {},
   "outputs": [],
   "source": [
    "#economy button\n",
    "economy=driver.find_element_by_xpath(\"//div[@class='dropdown'][2]/div/a[3]\")"
   ]
  },
  {
   "cell_type": "code",
   "execution_count": 53,
   "id": "e2d1c269",
   "metadata": {},
   "outputs": [],
   "source": [
    "try:\n",
    "    economy.click()\n",
    "except ElementNotInteractableException:\n",
    "    driver.get(economy.get_attribute('href'))"
   ]
  },
  {
   "cell_type": "code",
   "execution_count": 54,
   "id": "f845c810",
   "metadata": {},
   "outputs": [],
   "source": [
    "#fetching gdp of india state link\n",
    "GDP=driver.find_element_by_xpath(\"//ul[@style='list-style-type:none;margin-left:20px;']/li/a\")\n",
    "try:\n",
    "    GDP.click()\n",
    "except ElementNotInteractableException:\n",
    "    driver.get(GDP.get_attribute('href'))"
   ]
  },
  {
   "cell_type": "code",
   "execution_count": 55,
   "id": "9e3a2dc6",
   "metadata": {},
   "outputs": [
    {
     "name": "stdout",
     "output_type": "stream",
     "text": [
      "33\n"
     ]
    }
   ],
   "source": [
    "#scraping rank\n",
    "rank=[]\n",
    "try:\n",
    "    ranks=driver.find_elements_by_xpath(\"//td[@class='data1']\")\n",
    "    for i in ranks:\n",
    "        rank.append(i.text)\n",
    "except NoSuchElementException:#handling no such element exception\n",
    "    rank.append('No details available')\n",
    "print(len(rank[0:33]))"
   ]
  },
  {
   "cell_type": "code",
   "execution_count": 56,
   "id": "50a6303f",
   "metadata": {},
   "outputs": [
    {
     "name": "stdout",
     "output_type": "stream",
     "text": [
      "33\n"
     ]
    }
   ],
   "source": [
    "#scraping States\n",
    "State=[]\n",
    "try:\n",
    "    states=driver.find_elements_by_xpath(\"//td[@class='name']\")\n",
    "    for i in states:\n",
    "        State.append(i.text)\n",
    "except NoSuchElementException:#handling no such element exception\n",
    "    State.append('No details available')\n",
    "print(len(State[0:33]))"
   ]
  },
  {
   "cell_type": "code",
   "execution_count": 57,
   "id": "443c3e0c",
   "metadata": {},
   "outputs": [
    {
     "name": "stdout",
     "output_type": "stream",
     "text": [
      "33\n"
     ]
    }
   ],
   "source": [
    "#scraping GSDP(18-19)\n",
    "GSDP_18=[]\n",
    "try:\n",
    "    info=driver.find_elements_by_xpath(\"//td[@class='data sorting_1']\")\n",
    "    for i in info:\n",
    "        GSDP_18.append(i.text)\n",
    "except NoSuchElementException:#handling no such element exception\n",
    "    GSDP_18.append('No details available')\n",
    "print(len(GSDP_18[0:33]))"
   ]
  },
  {
   "cell_type": "code",
   "execution_count": 58,
   "id": "5a8f0caa",
   "metadata": {},
   "outputs": [
    {
     "name": "stdout",
     "output_type": "stream",
     "text": [
      "308\n"
     ]
    }
   ],
   "source": [
    "GSDP_details=[]\n",
    "try:\n",
    "    info=driver.find_elements_by_xpath(\"//td[@class='data']\")\n",
    "    for i in info:\n",
    "        GSDP_details.append(i.text)\n",
    "except NoSuchElementException:#handling no such element exception\n",
    "    GSDP_details.append('No details available')\n",
    "print(len(GSDP_details))"
   ]
  },
  {
   "cell_type": "code",
   "execution_count": 59,
   "id": "88c77634",
   "metadata": {},
   "outputs": [
    {
     "data": {
      "text/plain": [
       "['-',\n",
       " '13.94%',\n",
       " '399.921',\n",
       " '-',\n",
       " '2,039,074',\n",
       " '1,845,853',\n",
       " '8.63%',\n",
       " '247.629',\n",
       " '1,312,929',\n",
       " '1,215,307',\n",
       " '1,687,818',\n",
       " '8.39%',\n",
       " '240.726',\n",
       " '1,166,817',\n",
       " '1,123,982',\n",
       " '-',\n",
       " '7.96%',\n",
       " '228.290',\n",
       " '-',\n",
       " '1,186,379',\n",
       " '1,631,977',\n",
       " '7.91%',\n",
       " '226.806',\n",
       " '1,156,039',\n",
       " '1,091,077',\n",
       " '1,253,832',\n",
       " '5.77%',\n",
       " '165.556',\n",
       " '793,223',\n",
       " '739,525',\n",
       " '1,020,989',\n",
       " '4.99%',\n",
       " '143.179',\n",
       " '711,627',\n",
       " '677,428',\n",
       " '972,782',\n",
       " '4.57%',\n",
       " '131.083',\n",
       " '672,018',\n",
       " '621,301',\n",
       " '969,604',\n",
       " '4.56%',\n",
       " '130.791',\n",
       " '663,258',\n",
       " '612,828',\n",
       " '906,672',\n",
       " '4.29%',\n",
       " '122.977',\n",
       " '561,801',\n",
       " '522,009',\n",
       " '-',\n",
       " '4.14%',\n",
       " '118.733',\n",
       " '-',\n",
       " '559,412',\n",
       " '856,112',\n",
       " '4.10%',\n",
       " '117.703',\n",
       " '634,408',\n",
       " '590,569',\n",
       " '831,610',\n",
       " '3.89%',\n",
       " '111.519',\n",
       " '572,240',\n",
       " '531,085',\n",
       " '611,804',\n",
       " '2.81%',\n",
       " '80.562',\n",
       " '414,977',\n",
       " '375,651',\n",
       " '574,760',\n",
       " '2.79%',\n",
       " '79.957',\n",
       " '418,868',\n",
       " '397,669',\n",
       " '521,275',\n",
       " '2.58%',\n",
       " '74.098',\n",
       " '396,499',\n",
       " '376,877',\n",
       " '-',\n",
       " '1.67%',\n",
       " '47.982',\n",
       " '-',\n",
       " '234,048',\n",
       " '329,180',\n",
       " '1.61%',\n",
       " '46.187',\n",
       " '243,477',\n",
       " '231,182',\n",
       " '328,598',\n",
       " '1.57%',\n",
       " '45.145',\n",
       " '240,036',\n",
       " '224,986',\n",
       " '-',\n",
       " '1.30%',\n",
       " '37.351',\n",
       " '-',\n",
       " '193,273',\n",
       " '-',\n",
       " '0.83%',\n",
       " '23.690',\n",
       " '-',\n",
       " '112,755',\n",
       " '165,472',\n",
       " '0.81%',\n",
       " '23.369',\n",
       " '124,403',\n",
       " '117,851',\n",
       " '80,449',\n",
       " '0.39%',\n",
       " '11.115',\n",
       " '63,408',\n",
       " '57,787',\n",
       " '55,984',\n",
       " '0.26%',\n",
       " '7.571',\n",
       " '40,583',\n",
       " '36,963',\n",
       " '-',\n",
       " '0.22%',\n",
       " '6.397',\n",
       " '-',\n",
       " '31,192',\n",
       " '38,253',\n",
       " '0.18%',\n",
       " '5.230',\n",
       " '25,093',\n",
       " '23,013',\n",
       " '36,572',\n",
       " '0.18%',\n",
       " '5.086',\n",
       " '26,695',\n",
       " '24,682',\n",
       " '32,496',\n",
       " '0.15%',\n",
       " '4.363',\n",
       " '20,017',\n",
       " '18,722',\n",
       " '31,790',\n",
       " '0.15%',\n",
       " '4.233',\n",
       " '20,673',\n",
       " '19,300',\n",
       " '-',\n",
       " '0.14%',\n",
       " '4.144',\n",
       " '-',\n",
       " '17,647',\n",
       " '-',\n",
       " '0.13%',\n",
       " '3.737',\n",
       " '-',\n",
       " '16,676',\n",
       " '26,503',\n",
       " '0.12%',\n",
       " '3.385',\n",
       " '18,797',\n",
       " '16,478',\n",
       " '-',\n",
       " '-',\n",
       " '-',\n",
       " '-',\n",
       " '-',\n",
       " '20,351,013',\n",
       " '18,886,957',\n",
       " '',\n",
       " '2,869',\n",
       " '14,569,268',\n",
       " '14,003,316',\n",
       " '-',\n",
       " '13.97%',\n",
       " '-',\n",
       " '1,794,123',\n",
       " '1,659,210',\n",
       " '8.77%',\n",
       " '1,167,776',\n",
       " '1,079,894',\n",
       " '1,495,758',\n",
       " '8.41%',\n",
       " '1,015,735',\n",
       " '979,159',\n",
       " '1,476,983',\n",
       " '8.09%',\n",
       " '1,035,131',\n",
       " '976,948',\n",
       " '-',\n",
       " '7.92%',\n",
       " '-',\n",
       " '1,036,859',\n",
       " '1,150,711',\n",
       " '5.96%',\n",
       " '713,376',\n",
       " '662,432',\n",
       " '916,014',\n",
       " '5.06%',\n",
       " '630,693',\n",
       " '600,433',\n",
       " '881,873',\n",
       " '4.68%',\n",
       " '594,806',\n",
       " '549,481',\n",
       " '875,429',\n",
       " '4.65%',\n",
       " '595,605',\n",
       " '550,584',\n",
       " '827,019',\n",
       " '4.41%',\n",
       " '496,798',\n",
       " '461,903',\n",
       " '-',\n",
       " '4.24%',\n",
       " '-',\n",
       " '513,322',\n",
       " '779,647',\n",
       " '4.22%',\n",
       " '568,265',\n",
       " '529,739',\n",
       " '755,790',\n",
       " '3.99%',\n",
       " '514,983',\n",
       " '477,834',\n",
       " '562,710',\n",
       " '2.91%',\n",
       " '377,276',\n",
       " '340,512',\n",
       " '517,521',\n",
       " '2.83%',\n",
       " '374,015',\n",
       " '354,830',\n",
       " '457,757',\n",
       " '2.56%',\n",
       " '344,437',\n",
       " '327,805',\n",
       " '-',\n",
       " '1.69%',\n",
       " '-',\n",
       " '207,193',\n",
       " '301,242',\n",
       " '1.63%',\n",
       " '218,232',\n",
       " '204,423',\n",
       " '288,041',\n",
       " '1.60%',\n",
       " '210,837',\n",
       " '200,453',\n",
       " '-',\n",
       " '1.33%',\n",
       " '-',\n",
       " '173,211',\n",
       " '143,063',\n",
       " '0.80%',\n",
       " '107,171',\n",
       " '101,534',\n",
       " '-',\n",
       " '0.78%',\n",
       " '-',\n",
       " '91,666',\n",
       " '72,181',\n",
       " '0.40%',\n",
       " '56,810',\n",
       " '51,878',\n",
       " '50,227',\n",
       " '0.27%',\n",
       " '35,980',\n",
       " '32,830',\n",
       " '-',\n",
       " '0.22%',\n",
       " '-',\n",
       " '27,565',\n",
       " '34,823',\n",
       " '0.19%',\n",
       " '22,291',\n",
       " '20,534',\n",
       " '32,833',\n",
       " '0.18%',\n",
       " '23,564',\n",
       " '21,779',\n",
       " '29,148',\n",
       " '0.15%',\n",
       " '18,549',\n",
       " '17,228',\n",
       " '28,391',\n",
       " '0.15%',\n",
       " '17,060',\n",
       " '15,972',\n",
       " '-',\n",
       " '0.15%',\n",
       " '-',\n",
       " '15,381',\n",
       " '-',\n",
       " '0.13%',\n",
       " '-',\n",
       " '15,013',\n",
       " '24,424',\n",
       " '0.13%',\n",
       " '17,797',\n",
       " '15,372',\n",
       " '-',\n",
       " '-',\n",
       " '-',\n",
       " '-',\n",
       " '17,994,301',\n",
       " '16,704,645',\n",
       " '',\n",
       " '12,681,246',\n",
       " '12,240,380']"
      ]
     },
     "execution_count": 59,
     "metadata": {},
     "output_type": "execute_result"
    }
   ],
   "source": [
    "GSDP_details"
   ]
  },
  {
   "cell_type": "code",
   "execution_count": 60,
   "id": "9539ac76",
   "metadata": {},
   "outputs": [
    {
     "name": "stdout",
     "output_type": "stream",
     "text": [
      "33\n"
     ]
    }
   ],
   "source": [
    "#scraping GSDP(19-20)\n",
    "GSDP_19=GSDP_details[::5][0:33]\n",
    "print(len(GSDP_19))"
   ]
  },
  {
   "cell_type": "code",
   "execution_count": 61,
   "id": "814510e4",
   "metadata": {},
   "outputs": [
    {
     "name": "stdout",
     "output_type": "stream",
     "text": [
      "33\n"
     ]
    }
   ],
   "source": [
    "#scraping share 2018\n",
    "Share=GSDP_details[::1][0:33]\n",
    "print(len(Share))"
   ]
  },
  {
   "cell_type": "code",
   "execution_count": 62,
   "id": "5d1ca06d",
   "metadata": {},
   "outputs": [
    {
     "name": "stdout",
     "output_type": "stream",
     "text": [
      "33\n"
     ]
    }
   ],
   "source": [
    "#scraping GDP(billion$)\n",
    "GDP_billion=GSDP_details[::2][0:33]\n",
    "print(len(GDP_billion))"
   ]
  },
  {
   "cell_type": "code",
   "execution_count": 63,
   "id": "7b051aa2",
   "metadata": {},
   "outputs": [
    {
     "name": "stdout",
     "output_type": "stream",
     "text": [
      "   Rank                      State GSDP(18-19) GSDP(19-20) Share_18-19 GDP(Billion_$)\n",
      "0     1                Maharashtra   2,632,792           -           -              -\n",
      "1     2                 Tamil Nadu   1,630,208   1,845,853      13.94%        399.921\n",
      "2     3              Uttar Pradesh   1,584,764   1,687,818     399.921      2,039,074\n",
      "3     4                    Gujarat   1,502,899           -           -          8.63%\n",
      "4     5                  Karnataka   1,493,127   1,631,977   2,039,074      1,312,929\n",
      "5     6                West Bengal   1,089,898   1,253,832   1,845,853      1,687,818\n",
      "6     7                  Rajasthan     942,586   1,020,989       8.63%        240.726\n",
      "7     8             Andhra Pradesh     862,957     972,782     247.629      1,123,982\n",
      "8     9                  Telangana     861,031     969,604   1,312,929          7.96%\n",
      "9    10             Madhya Pradesh     809,592     906,672   1,215,307              -\n",
      "10   11                     Kerala     781,653           -   1,687,818      1,631,977\n",
      "11   12                      Delhi     774,870     856,112       8.39%        226.806\n",
      "12   13                    Haryana     734,163     831,610     240.726      1,091,077\n",
      "13   14                      Bihar     530,363     611,804   1,166,817          5.77%\n",
      "14   15                     Punjab     526,376     574,760   1,123,982        793,223\n",
      "15   16                     Odisha     487,805     521,275           -      1,020,989\n",
      "16   17                      Assam     315,881           -       7.96%        143.179\n",
      "17   18               Chhattisgarh     304,063     329,180     228.290        677,428\n",
      "18   19                  Jharkhand     297,204     328,598           -          4.57%\n",
      "19   20                Uttarakhand     245,895           -   1,186,379        672,018\n",
      "20   21            Jammu & Kashmir     155,956           -   1,631,977        969,604\n",
      "21   22           Himachal Pradesh     153,845     165,472       7.91%        130.791\n",
      "22   23                        Goa      73,170      80,449     226.806        612,828\n",
      "23   24                    Tripura      49,845      55,984   1,156,039          4.29%\n",
      "24   25                 Chandigarh      42,114           -   1,091,077        561,801\n",
      "25   26                 Puducherry      34,433      38,253   1,253,832              -\n",
      "26   27                  Meghalaya      33,481      36,572       5.77%        118.733\n",
      "27   28                     Sikkim      28,723      32,496     165.556        559,412\n",
      "28   29                    Manipur      27,870      31,790     793,223          4.10%\n",
      "29   30                   Nagaland      27,283           -     739,525        634,408\n",
      "30   31          Arunachal Pradesh      24,603           -   1,020,989        831,610\n",
      "31   32                    Mizoram      22,287      26,503       4.99%        111.519\n",
      "32   33  Andaman & Nicobar Islands           -           -     143.179        531,085\n"
     ]
    }
   ],
   "source": [
    "#creatng dataframe\n",
    "df=pd.DataFrame({'Rank':rank[0:33],\n",
    "                'State':State[0:33],\n",
    "                'GSDP(18-19)':GSDP_18[0:33],\n",
    "                'GSDP(19-20)':GSDP_19,\n",
    "                'Share_18-19':Share,\n",
    "                'GDP(Billion_$)':GDP_billion})\n",
    "print(df)"
   ]
  },
  {
   "cell_type": "markdown",
   "id": "18fef367",
   "metadata": {},
   "source": [
    "Q5. Scrape the details of trending repositories on Github.com.\n",
    "\n",
    "Url = https://github.com/"
   ]
  },
  {
   "cell_type": "code",
   "execution_count": 64,
   "id": "cf04b50e",
   "metadata": {},
   "outputs": [],
   "source": [
    "#to open automated window\n",
    "driver = webdriver.Chrome(r\"C:\\Users\\Ashok\\Downloads\\chromedriver_win32\\chromedriver\")"
   ]
  },
  {
   "cell_type": "code",
   "execution_count": 65,
   "id": "f9d40614",
   "metadata": {},
   "outputs": [],
   "source": [
    "driver=webdriver.Chrome('chromedriver.exe')\n",
    "driver.get(\"https://github.com/\")"
   ]
  },
  {
   "cell_type": "code",
   "execution_count": 66,
   "id": "24e07d12",
   "metadata": {},
   "outputs": [],
   "source": [
    "#finding explore-trending option\n",
    "explore=driver.find_element_by_xpath(\"/html/body/div[1]/header/div/div[2]/nav/ul/li[4]/details/div/ul/li[5]/a\")\n",
    "driver.get(explore.get_attribute('href'))"
   ]
  },
  {
   "cell_type": "code",
   "execution_count": 67,
   "id": "eda9628b",
   "metadata": {},
   "outputs": [
    {
     "name": "stdout",
     "output_type": "stream",
     "text": [
      "25\n"
     ]
    }
   ],
   "source": [
    "#scraping repositories title\n",
    "repo_title=[]\n",
    "try:\n",
    "    repos=driver.find_elements_by_xpath(\"//h1[@class='h3 lh-condensed']\")\n",
    "    for i in repos:\n",
    "        repo_title.append(i.text)\n",
    "except NoSuchElementException:#handling no such element exception\n",
    "    repo_title.append('No details available')\n",
    "print(len(repo_title))"
   ]
  },
  {
   "cell_type": "code",
   "execution_count": 68,
   "id": "7cdfe286",
   "metadata": {},
   "outputs": [
    {
     "name": "stdout",
     "output_type": "stream",
     "text": [
      "25\n"
     ]
    }
   ],
   "source": [
    "#scraping repositories description\n",
    "repo_desc=[]\n",
    "try:\n",
    "    descriptions=driver.find_elements_by_xpath(\"//p[@class='col-9 color-fg-muted my-1 pr-4']\")\n",
    "    for i in descriptions:\n",
    "        repo_desc.append(i.text)\n",
    "except NoSuchElementException:#handling no such element exception\n",
    "    repo_desc.append('No details available')\n",
    "print(len(repo_desc))"
   ]
  },
  {
   "cell_type": "code",
   "execution_count": 69,
   "id": "45f39177",
   "metadata": {},
   "outputs": [],
   "source": [
    "repo_urls=[]\n",
    "repos=driver.find_elements_by_xpath(\"//h1[@class='h3 lh-condensed']/a\")\n",
    "for i in repos:\n",
    "    repo_urls.append(i.get_attribute('href'))"
   ]
  },
  {
   "cell_type": "code",
   "execution_count": 70,
   "id": "e99db803",
   "metadata": {},
   "outputs": [],
   "source": [
    "Contributors_count=[]\n",
    "Language_used=[]\n",
    "for i in repo_urls:\n",
    "    driver.get(i)\n",
    "    l=[]\n",
    "    try:#scraping contributors count\n",
    "        count=driver.find_element_by_xpath(\"//h2[@class='h4 mb-3']/a[contains(text(),'Contributors')]/span\")\n",
    "        Contributors_count.append(count.text)\n",
    "    except NoSuchElementException:#handling no such element exception\n",
    "        Contributors_count.append('No details available')\n",
    "     #scraping languages used   \n",
    "    languages=driver.find_elements_by_xpath(\"/html/body/div[4]/main/div[3]/div/div[2]/article[1]/div[2]/span[1]/span[2]\")\n",
    "    if languages:    \n",
    "        Language_used.append(i.text)\n",
    "    else:\n",
    "        Language_used.append('No languages used')"
   ]
  },
  {
   "cell_type": "code",
   "execution_count": 71,
   "id": "cf3a4f65",
   "metadata": {},
   "outputs": [
    {
     "name": "stdout",
     "output_type": "stream",
     "text": [
      "                                          Title                                        Description    Contributors_count      Language_used\n",
      "0                               kraanzu / dooit                                 A TUI todo manager                     5  No languages used\n",
      "1   girliemac / a-picture-is-worth-a-1000-words  I am trying to describe complex matters in sim...                     2  No languages used\n",
      "2                          alibaba / IOC-golang  一款服务于 Go 开发者的依赖注入框架，方便搭建任何 Go 应用。 A Golang dep...                     3  No languages used\n",
      "3                             ToolJet / ToolJet  Extensible low-code framework for building bus...                   181  No languages used\n",
      "4                                jfecher / ante                      A safe, easy systems language                    11  No languages used\n",
      "5                     LunarVim / nvim-basic-ide  This is my attempt at a basic stable starting ...  No details available  No languages used\n",
      "6                     NomicFoundation / hardhat  Hardhat is a development environment to compil...                   184  No languages used\n",
      "7                 daffainfo / AllAboutBugBounty  All about bug bounty (bypasses, payloads, and ...                     3  No languages used\n",
      "8                    spacedriveapp / spacedrive  Spacedrive is an open source cross-platform fi...                    33  No languages used\n",
      "9                               dblalock / bolt            10x faster matrix and vector operations                     3  No languages used\n",
      "10                           tauri-apps / tauri  Build smaller, faster, and more secure desktop...                   172  No languages used\n",
      "11                    wdzeng / shopee-coins-bot                                      💰💰 蝦皮簽到機器人 💰💰  No details available  No languages used\n",
      "12             Asabeneh / 30-Days-Of-JavaScript  30 days of JavaScript programming challenge is...                    27  No languages used\n",
      "13     InterviewReady / system-design-resources  These are the best resources for System Design...                     4  No languages used\n",
      "14                elebumm / RedditVideoMakerBot      Create Reddit Videos with just✨ one command ✨                    32  No languages used\n",
      "15   Elfocrash / .NET-Backend-Developer-Roadmap  Nick's Roadmap for a .NET Backend Developer wo...  No details available  No languages used\n",
      "16                     TGX-Android / Telegram-X  The main repository of Telegram X — official a...                     2  No languages used\n",
      "17              Q930844N / awesome_tech_content  Technology related content shared by folks on ...  No details available  No languages used\n",
      "18                      dragonflydb / dragonfly       A modern replacement for Redis and Memcached                    12  No languages used\n",
      "19                     Lightning-AI / lightning  Build high-performance AI models with PyTorch ...                   684  No languages used\n",
      "20                         onevcat / Kingfisher  A lightweight, pure-Swift library for download...                   170  No languages used\n",
      "21                        Alamofire / Alamofire                   Elegant HTTP Networking in Swift                   240  No languages used\n",
      "22                          alecthomas / chroma    A general purpose syntax highlighter in pure Go                   160  No languages used\n",
      "23                            arendst / Tasmota  Alternative firmware for ESP8266 with easy con...                   215  No languages used\n",
      "24                                 nvm-sh / nvm  Node Version Manager - POSIX-compliant bash sc...                   317  No languages used\n"
     ]
    }
   ],
   "source": [
    "#creating dataframe\n",
    "pd.set_option('expand_frame_repr', False)\n",
    "df=pd.DataFrame({'Title':repo_title,\n",
    "                'Description':repo_desc,\n",
    "                'Contributors_count':Contributors_count,\n",
    "                'Language_used':Language_used})\n",
    "print(df)"
   ]
  },
  {
   "cell_type": "markdown",
   "id": "fa65d4b9",
   "metadata": {},
   "source": [
    "Q6. Scrape the details of top 100 songs on billiboard.com.\n",
    "\n",
    "Url = https:/www.billboard.com/"
   ]
  },
  {
   "cell_type": "code",
   "execution_count": 72,
   "id": "3e08d2b1",
   "metadata": {},
   "outputs": [],
   "source": [
    "#to open automated window\n",
    "driver = webdriver.Chrome(r\"C:\\Users\\Ashok\\Downloads\\chromedriver_win32\\chromedriver\")"
   ]
  },
  {
   "cell_type": "code",
   "execution_count": 73,
   "id": "3c15a1cc",
   "metadata": {},
   "outputs": [],
   "source": [
    "driver=webdriver.Chrome('chromedriver.exe')\n",
    "driver.get(\"https:/www.billboard.com/ \")"
   ]
  },
  {
   "cell_type": "code",
   "execution_count": 74,
   "id": "0c32036f",
   "metadata": {},
   "outputs": [],
   "source": [
    "#clicking Hot 100 button\n",
    "Hot_100=driver.find_element_by_xpath(\"/html/body/div[3]/header/div[2]/div/nav/ul/li[1]/a\")\n",
    "try:\n",
    "    Hot_100.click()\n",
    "except ElementNotInteractableException:\n",
    "    driver.get(Hot_100.get_attribute('href'))"
   ]
  },
  {
   "cell_type": "code",
   "execution_count": 77,
   "id": "f70ca851",
   "metadata": {},
   "outputs": [
    {
     "ename": "InvalidSelectorException",
     "evalue": "Message: invalid selector: Unable to locate an element with the xpath expression c-title  a-no-trucate a-font-primary-bold-s u-letter-spacing-0021 lrv-u-font-size-18@tablet lrv-u-font-size-16 u-line-height-125 u-line-height-normal@mobile-max a-truncate-ellipsis u-max-width-330 u-max-width-230@tablet-only because of the following error:\nSyntaxError: Failed to execute 'evaluate' on 'Document': The string 'c-title  a-no-trucate a-font-primary-bold-s u-letter-spacing-0021 lrv-u-font-size-18@tablet lrv-u-font-size-16 u-line-height-125 u-line-height-normal@mobile-max a-truncate-ellipsis u-max-width-330 u-max-width-230@tablet-only' is not a valid XPath expression.\n  (Session info: chrome=102.0.5005.115)\nStacktrace:\nBacktrace:\n\tOrdinal0 [0x010CB8F3+2406643]\n\tOrdinal0 [0x0105AF31+1945393]\n\tOrdinal0 [0x00F4C748+837448]\n\tOrdinal0 [0x00F4F154+848212]\n\tOrdinal0 [0x00F4F012+847890]\n\tOrdinal0 [0x00F4F2A0+848544]\n\tOrdinal0 [0x00F78FF5+1019893]\n\tOrdinal0 [0x00F7957B+1021307]\n\tOrdinal0 [0x00FA63AC+1205164]\n\tOrdinal0 [0x00F942C4+1131204]\n\tOrdinal0 [0x00FA4682+1197698]\n\tOrdinal0 [0x00F94096+1130646]\n\tOrdinal0 [0x00F6E636+976438]\n\tOrdinal0 [0x00F6F546+980294]\n\tGetHandleVerifier [0x01339612+2498066]\n\tGetHandleVerifier [0x0132C920+2445600]\n\tGetHandleVerifier [0x01164F2A+579370]\n\tGetHandleVerifier [0x01163D36+574774]\n\tOrdinal0 [0x01061C0B+1973259]\n\tOrdinal0 [0x01066688+1992328]\n\tOrdinal0 [0x01066775+1992565]\n\tOrdinal0 [0x0106F8D1+2029777]\n\tBaseThreadInitThunk [0x76226739+25]\n\tRtlGetFullPathName_UEx [0x76FD8FEF+1215]\n\tRtlGetFullPathName_UEx [0x76FD8FBD+1165]\n",
     "output_type": "error",
     "traceback": [
      "\u001b[1;31m---------------------------------------------------------------------------\u001b[0m",
      "\u001b[1;31mInvalidSelectorException\u001b[0m                  Traceback (most recent call last)",
      "\u001b[1;32m~\\AppData\\Local\\Temp/ipykernel_1420/2402178961.py\u001b[0m in \u001b[0;36m<module>\u001b[1;34m\u001b[0m\n\u001b[0;32m      3\u001b[0m \u001b[1;33m\u001b[0m\u001b[0m\n\u001b[0;32m      4\u001b[0m \u001b[1;32mtry\u001b[0m\u001b[1;33m:\u001b[0m\u001b[1;33m\u001b[0m\u001b[1;33m\u001b[0m\u001b[0m\n\u001b[1;32m----> 5\u001b[1;33m     \u001b[0mnames\u001b[0m\u001b[1;33m=\u001b[0m\u001b[0mdriver\u001b[0m\u001b[1;33m.\u001b[0m\u001b[0mfind_elements_by_xpath\u001b[0m\u001b[1;33m(\u001b[0m\u001b[1;34m\"c-title  a-no-trucate a-font-primary-bold-s u-letter-spacing-0021 lrv-u-font-size-18@tablet lrv-u-font-size-16 u-line-height-125 u-line-height-normal@mobile-max a-truncate-ellipsis u-max-width-330 u-max-width-230@tablet-only\"\u001b[0m\u001b[1;33m)\u001b[0m\u001b[1;33m\u001b[0m\u001b[1;33m\u001b[0m\u001b[0m\n\u001b[0m\u001b[0;32m      6\u001b[0m     \u001b[1;32mfor\u001b[0m \u001b[0mi\u001b[0m \u001b[1;32min\u001b[0m \u001b[0mnames\u001b[0m\u001b[1;33m:\u001b[0m\u001b[1;33m\u001b[0m\u001b[1;33m\u001b[0m\u001b[0m\n\u001b[0;32m      7\u001b[0m         \u001b[0msong_name\u001b[0m\u001b[1;33m.\u001b[0m\u001b[0mappend\u001b[0m\u001b[1;33m(\u001b[0m\u001b[0mi\u001b[0m\u001b[1;33m.\u001b[0m\u001b[0mtext\u001b[0m\u001b[1;33m)\u001b[0m\u001b[1;33m\u001b[0m\u001b[1;33m\u001b[0m\u001b[0m\n",
      "\u001b[1;32mC:\\ProgramData\\Anaconda3\\lib\\site-packages\\selenium\\webdriver\\remote\\webdriver.py\u001b[0m in \u001b[0;36mfind_elements_by_xpath\u001b[1;34m(self, xpath)\u001b[0m\n\u001b[0;32m    547\u001b[0m             \u001b[0mstacklevel\u001b[0m\u001b[1;33m=\u001b[0m\u001b[1;36m2\u001b[0m\u001b[1;33m,\u001b[0m\u001b[1;33m\u001b[0m\u001b[1;33m\u001b[0m\u001b[0m\n\u001b[0;32m    548\u001b[0m         )\n\u001b[1;32m--> 549\u001b[1;33m         \u001b[1;32mreturn\u001b[0m \u001b[0mself\u001b[0m\u001b[1;33m.\u001b[0m\u001b[0mfind_elements\u001b[0m\u001b[1;33m(\u001b[0m\u001b[0mby\u001b[0m\u001b[1;33m=\u001b[0m\u001b[0mBy\u001b[0m\u001b[1;33m.\u001b[0m\u001b[0mXPATH\u001b[0m\u001b[1;33m,\u001b[0m \u001b[0mvalue\u001b[0m\u001b[1;33m=\u001b[0m\u001b[0mxpath\u001b[0m\u001b[1;33m)\u001b[0m\u001b[1;33m\u001b[0m\u001b[1;33m\u001b[0m\u001b[0m\n\u001b[0m\u001b[0;32m    550\u001b[0m \u001b[1;33m\u001b[0m\u001b[0m\n\u001b[0;32m    551\u001b[0m     \u001b[1;32mdef\u001b[0m \u001b[0mfind_element_by_link_text\u001b[0m\u001b[1;33m(\u001b[0m\u001b[0mself\u001b[0m\u001b[1;33m,\u001b[0m \u001b[0mlink_text\u001b[0m\u001b[1;33m)\u001b[0m \u001b[1;33m->\u001b[0m \u001b[0mWebElement\u001b[0m\u001b[1;33m:\u001b[0m\u001b[1;33m\u001b[0m\u001b[1;33m\u001b[0m\u001b[0m\n",
      "\u001b[1;32mC:\\ProgramData\\Anaconda3\\lib\\site-packages\\selenium\\webdriver\\remote\\webdriver.py\u001b[0m in \u001b[0;36mfind_elements\u001b[1;34m(self, by, value)\u001b[0m\n\u001b[0;32m   1282\u001b[0m         \u001b[1;31m# Return empty list if driver returns null\u001b[0m\u001b[1;33m\u001b[0m\u001b[1;33m\u001b[0m\u001b[0m\n\u001b[0;32m   1283\u001b[0m         \u001b[1;31m# See https://github.com/SeleniumHQ/selenium/issues/4555\u001b[0m\u001b[1;33m\u001b[0m\u001b[1;33m\u001b[0m\u001b[0m\n\u001b[1;32m-> 1284\u001b[1;33m         return self.execute(Command.FIND_ELEMENTS, {\n\u001b[0m\u001b[0;32m   1285\u001b[0m             \u001b[1;34m'using'\u001b[0m\u001b[1;33m:\u001b[0m \u001b[0mby\u001b[0m\u001b[1;33m,\u001b[0m\u001b[1;33m\u001b[0m\u001b[1;33m\u001b[0m\u001b[0m\n\u001b[0;32m   1286\u001b[0m             'value': value})['value'] or []\n",
      "\u001b[1;32mC:\\ProgramData\\Anaconda3\\lib\\site-packages\\selenium\\webdriver\\remote\\webdriver.py\u001b[0m in \u001b[0;36mexecute\u001b[1;34m(self, driver_command, params)\u001b[0m\n\u001b[0;32m    428\u001b[0m         \u001b[0mresponse\u001b[0m \u001b[1;33m=\u001b[0m \u001b[0mself\u001b[0m\u001b[1;33m.\u001b[0m\u001b[0mcommand_executor\u001b[0m\u001b[1;33m.\u001b[0m\u001b[0mexecute\u001b[0m\u001b[1;33m(\u001b[0m\u001b[0mdriver_command\u001b[0m\u001b[1;33m,\u001b[0m \u001b[0mparams\u001b[0m\u001b[1;33m)\u001b[0m\u001b[1;33m\u001b[0m\u001b[1;33m\u001b[0m\u001b[0m\n\u001b[0;32m    429\u001b[0m         \u001b[1;32mif\u001b[0m \u001b[0mresponse\u001b[0m\u001b[1;33m:\u001b[0m\u001b[1;33m\u001b[0m\u001b[1;33m\u001b[0m\u001b[0m\n\u001b[1;32m--> 430\u001b[1;33m             \u001b[0mself\u001b[0m\u001b[1;33m.\u001b[0m\u001b[0merror_handler\u001b[0m\u001b[1;33m.\u001b[0m\u001b[0mcheck_response\u001b[0m\u001b[1;33m(\u001b[0m\u001b[0mresponse\u001b[0m\u001b[1;33m)\u001b[0m\u001b[1;33m\u001b[0m\u001b[1;33m\u001b[0m\u001b[0m\n\u001b[0m\u001b[0;32m    431\u001b[0m             response['value'] = self._unwrap_value(\n\u001b[0;32m    432\u001b[0m                 response.get('value', None))\n",
      "\u001b[1;32mC:\\ProgramData\\Anaconda3\\lib\\site-packages\\selenium\\webdriver\\remote\\errorhandler.py\u001b[0m in \u001b[0;36mcheck_response\u001b[1;34m(self, response)\u001b[0m\n\u001b[0;32m    245\u001b[0m                 \u001b[0malert_text\u001b[0m \u001b[1;33m=\u001b[0m \u001b[0mvalue\u001b[0m\u001b[1;33m[\u001b[0m\u001b[1;34m'alert'\u001b[0m\u001b[1;33m]\u001b[0m\u001b[1;33m.\u001b[0m\u001b[0mget\u001b[0m\u001b[1;33m(\u001b[0m\u001b[1;34m'text'\u001b[0m\u001b[1;33m)\u001b[0m\u001b[1;33m\u001b[0m\u001b[1;33m\u001b[0m\u001b[0m\n\u001b[0;32m    246\u001b[0m             \u001b[1;32mraise\u001b[0m \u001b[0mexception_class\u001b[0m\u001b[1;33m(\u001b[0m\u001b[0mmessage\u001b[0m\u001b[1;33m,\u001b[0m \u001b[0mscreen\u001b[0m\u001b[1;33m,\u001b[0m \u001b[0mstacktrace\u001b[0m\u001b[1;33m,\u001b[0m \u001b[0malert_text\u001b[0m\u001b[1;33m)\u001b[0m  \u001b[1;31m# type: ignore[call-arg]  # mypy is not smart enough here\u001b[0m\u001b[1;33m\u001b[0m\u001b[1;33m\u001b[0m\u001b[0m\n\u001b[1;32m--> 247\u001b[1;33m         \u001b[1;32mraise\u001b[0m \u001b[0mexception_class\u001b[0m\u001b[1;33m(\u001b[0m\u001b[0mmessage\u001b[0m\u001b[1;33m,\u001b[0m \u001b[0mscreen\u001b[0m\u001b[1;33m,\u001b[0m \u001b[0mstacktrace\u001b[0m\u001b[1;33m)\u001b[0m\u001b[1;33m\u001b[0m\u001b[1;33m\u001b[0m\u001b[0m\n\u001b[0m\u001b[0;32m    248\u001b[0m \u001b[1;33m\u001b[0m\u001b[0m\n\u001b[0;32m    249\u001b[0m     \u001b[1;32mdef\u001b[0m \u001b[0m_value_or_default\u001b[0m\u001b[1;33m(\u001b[0m\u001b[0mself\u001b[0m\u001b[1;33m,\u001b[0m \u001b[0mobj\u001b[0m\u001b[1;33m:\u001b[0m \u001b[0mMapping\u001b[0m\u001b[1;33m[\u001b[0m\u001b[0m_KT\u001b[0m\u001b[1;33m,\u001b[0m \u001b[0m_VT\u001b[0m\u001b[1;33m]\u001b[0m\u001b[1;33m,\u001b[0m \u001b[0mkey\u001b[0m\u001b[1;33m:\u001b[0m \u001b[0m_KT\u001b[0m\u001b[1;33m,\u001b[0m \u001b[0mdefault\u001b[0m\u001b[1;33m:\u001b[0m \u001b[0m_VT\u001b[0m\u001b[1;33m)\u001b[0m \u001b[1;33m->\u001b[0m \u001b[0m_VT\u001b[0m\u001b[1;33m:\u001b[0m\u001b[1;33m\u001b[0m\u001b[1;33m\u001b[0m\u001b[0m\n",
      "\u001b[1;31mInvalidSelectorException\u001b[0m: Message: invalid selector: Unable to locate an element with the xpath expression c-title  a-no-trucate a-font-primary-bold-s u-letter-spacing-0021 lrv-u-font-size-18@tablet lrv-u-font-size-16 u-line-height-125 u-line-height-normal@mobile-max a-truncate-ellipsis u-max-width-330 u-max-width-230@tablet-only because of the following error:\nSyntaxError: Failed to execute 'evaluate' on 'Document': The string 'c-title  a-no-trucate a-font-primary-bold-s u-letter-spacing-0021 lrv-u-font-size-18@tablet lrv-u-font-size-16 u-line-height-125 u-line-height-normal@mobile-max a-truncate-ellipsis u-max-width-330 u-max-width-230@tablet-only' is not a valid XPath expression.\n  (Session info: chrome=102.0.5005.115)\nStacktrace:\nBacktrace:\n\tOrdinal0 [0x010CB8F3+2406643]\n\tOrdinal0 [0x0105AF31+1945393]\n\tOrdinal0 [0x00F4C748+837448]\n\tOrdinal0 [0x00F4F154+848212]\n\tOrdinal0 [0x00F4F012+847890]\n\tOrdinal0 [0x00F4F2A0+848544]\n\tOrdinal0 [0x00F78FF5+1019893]\n\tOrdinal0 [0x00F7957B+1021307]\n\tOrdinal0 [0x00FA63AC+1205164]\n\tOrdinal0 [0x00F942C4+1131204]\n\tOrdinal0 [0x00FA4682+1197698]\n\tOrdinal0 [0x00F94096+1130646]\n\tOrdinal0 [0x00F6E636+976438]\n\tOrdinal0 [0x00F6F546+980294]\n\tGetHandleVerifier [0x01339612+2498066]\n\tGetHandleVerifier [0x0132C920+2445600]\n\tGetHandleVerifier [0x01164F2A+579370]\n\tGetHandleVerifier [0x01163D36+574774]\n\tOrdinal0 [0x01061C0B+1973259]\n\tOrdinal0 [0x01066688+1992328]\n\tOrdinal0 [0x01066775+1992565]\n\tOrdinal0 [0x0106F8D1+2029777]\n\tBaseThreadInitThunk [0x76226739+25]\n\tRtlGetFullPathName_UEx [0x76FD8FEF+1215]\n\tRtlGetFullPathName_UEx [0x76FD8FBD+1165]\n"
     ]
    }
   ],
   "source": [
    "#scraping song names\n",
    "song_name=[]\n",
    "\n",
    "try:\n",
    "    names=driver.find_elements_by_xpath(\"c-title  a-no-trucate a-font-primary-bold-s u-letter-spacing-0021 lrv-u-font-size-18@tablet lrv-u-font-size-16 u-line-height-125 u-line-height-normal@mobile-max a-truncate-ellipsis u-max-width-330 u-max-width-230@tablet-only\")\n",
    "    for i in names:\n",
    "        song_name.append(i.text)\n",
    "except NoSuchElementException:#handling no such element exception\n",
    "    song_name.append('No details available')\n",
    "\n",
    "try:\n",
    "    names=driver.find_elements_by_xpath(\"c-title  a-no-trucate a-font-primary-bold-s u-letter-spacing-0021 lrv-u-font-size-18@tablet lrv-u-font-size-16 u-line-height-125 u-line-height-normal@mobile-max a-truncate-ellipsis u-max-width-330 u-max-width-230@tablet-only\")\n",
    "    for i in names:\n",
    "        song_name.append(i.text)\n",
    "except NoSuchElementException:#handling no such element exception\n",
    "    song_name.append('No details available')\n",
    "print(len(song_name))"
   ]
  },
  {
   "cell_type": "code",
   "execution_count": 78,
   "id": "1ce56e73",
   "metadata": {},
   "outputs": [
    {
     "name": "stdout",
     "output_type": "stream",
     "text": [
      "100\n"
     ]
    }
   ],
   "source": [
    "#scraping artist names\n",
    "artist_name=[]\n",
    "\n",
    "try:\n",
    "    names=driver.find_elements_by_xpath(\"//span[@class='c-label  a-no-trucate a-font-primary-s lrv-u-font-size-14@mobile-max u-line-height-normal@mobile-max u-letter-spacing-0021 lrv-u-display-block a-truncate-ellipsis-2line u-max-width-330 u-max-width-230@tablet-only u-font-size-20@tablet']\")\n",
    "    for i in names:\n",
    "        artist_name.append(i.text)\n",
    "except NoSuchElementException:#handling no such element exception\n",
    "    artist_name.append('No details available')\n",
    "\n",
    "try:\n",
    "    names=driver.find_elements_by_xpath(\"//span[@class='c-label  a-no-trucate a-font-primary-s lrv-u-font-size-14@mobile-max u-line-height-normal@mobile-max u-letter-spacing-0021 lrv-u-display-block a-truncate-ellipsis-2line u-max-width-330 u-max-width-230@tablet-only']\")\n",
    "    for i in names:\n",
    "        artist_name.append(i.text)\n",
    "except NoSuchElementException:#handling no such element exception\n",
    "    artist_name.append('No details available')\n",
    "print(len(artist_name))"
   ]
  },
  {
   "cell_type": "code",
   "execution_count": 79,
   "id": "f0618b64",
   "metadata": {},
   "outputs": [
    {
     "ename": "NameError",
     "evalue": "name 'last_week_rank' is not defined",
     "output_type": "error",
     "traceback": [
      "\u001b[1;31m---------------------------------------------------------------------------\u001b[0m",
      "\u001b[1;31mNameError\u001b[0m                                 Traceback (most recent call last)",
      "\u001b[1;32m~\\AppData\\Local\\Temp/ipykernel_1420/1076309000.py\u001b[0m in \u001b[0;36m<module>\u001b[1;34m\u001b[0m\n\u001b[0;32m     15\u001b[0m \u001b[1;32mexcept\u001b[0m \u001b[0mNoSuchElementException\u001b[0m\u001b[1;33m:\u001b[0m\u001b[1;31m#handling no such element exception\u001b[0m\u001b[1;33m\u001b[0m\u001b[1;33m\u001b[0m\u001b[0m\n\u001b[0;32m     16\u001b[0m     \u001b[0mdetails\u001b[0m\u001b[1;33m.\u001b[0m\u001b[0mappend\u001b[0m\u001b[1;33m(\u001b[0m\u001b[1;34m'No details available'\u001b[0m\u001b[1;33m)\u001b[0m\u001b[1;33m\u001b[0m\u001b[1;33m\u001b[0m\u001b[0m\n\u001b[1;32m---> 17\u001b[1;33m \u001b[0mprint\u001b[0m\u001b[1;33m(\u001b[0m\u001b[0mlen\u001b[0m\u001b[1;33m(\u001b[0m\u001b[0mlast_week_rank\u001b[0m\u001b[1;33m)\u001b[0m\u001b[1;33m)\u001b[0m\u001b[1;33m\u001b[0m\u001b[1;33m\u001b[0m\u001b[0m\n\u001b[0m",
      "\u001b[1;31mNameError\u001b[0m: name 'last_week_rank' is not defined"
     ]
    }
   ],
   "source": [
    "#scraping last week rank\n",
    "details=[]\n",
    "\n",
    "try:\n",
    "    ranks=driver.find_elements_by_xpath(\"//span[@class='c-label  a-font-primary-bold-l a-font-primary-m@mobile-max u-font-weight-normal@mobile-max lrv-u-padding-tb-050@mobile-max u-font-size-32@tablet']\")\n",
    "    for i in ranks:\n",
    "        details.append(i.text)\n",
    "except NoSuchElementException:#handling no such element exception\n",
    "    details.append('No details available')\n",
    "\n",
    "try:\n",
    "    ranks=driver.find_elements_by_xpath(\"//span[@class='c-label  a-font-primary-m lrv-u-padding-tb-050@mobile-max']\")\n",
    "    for i in ranks:\n",
    "        details.append(i.text)\n",
    "except NoSuchElementException:#handling no such element exception\n",
    "    details.append('No details available')\n",
    "print(len(last_week_rank))"
   ]
  },
  {
   "cell_type": "code",
   "execution_count": 80,
   "id": "bcd7cf8b",
   "metadata": {},
   "outputs": [
    {
     "data": {
      "text/plain": [
       "100"
      ]
     },
     "execution_count": 80,
     "metadata": {},
     "output_type": "execute_result"
    }
   ],
   "source": [
    "last_week_rank=details[::6]\n",
    "len(last_week_rank)"
   ]
  },
  {
   "cell_type": "code",
   "execution_count": 81,
   "id": "9986cb93",
   "metadata": {},
   "outputs": [
    {
     "data": {
      "text/plain": [
       "100"
      ]
     },
     "execution_count": 81,
     "metadata": {},
     "output_type": "execute_result"
    }
   ],
   "source": [
    "#scraping peak rank\n",
    "peak_rank=details[1::6]\n",
    "len(peak_rank)"
   ]
  },
  {
   "cell_type": "code",
   "execution_count": 82,
   "id": "a7da187d",
   "metadata": {},
   "outputs": [
    {
     "data": {
      "text/plain": [
       "100"
      ]
     },
     "execution_count": 82,
     "metadata": {},
     "output_type": "execute_result"
    }
   ],
   "source": [
    "#scraping weeks on chart\n",
    "weeks=details[2::6]\n",
    "len(weeks)"
   ]
  },
  {
   "cell_type": "code",
   "execution_count": 83,
   "id": "d868197e",
   "metadata": {},
   "outputs": [
    {
     "ename": "ValueError",
     "evalue": "All arrays must be of the same length",
     "output_type": "error",
     "traceback": [
      "\u001b[1;31m---------------------------------------------------------------------------\u001b[0m",
      "\u001b[1;31mValueError\u001b[0m                                Traceback (most recent call last)",
      "\u001b[1;32m~\\AppData\\Local\\Temp/ipykernel_1420/311117061.py\u001b[0m in \u001b[0;36m<module>\u001b[1;34m\u001b[0m\n\u001b[0;32m      1\u001b[0m \u001b[1;31m#creating dataframe\u001b[0m\u001b[1;33m\u001b[0m\u001b[1;33m\u001b[0m\u001b[0m\n\u001b[1;32m----> 2\u001b[1;33m df=pd.DataFrame({'Song_Name':song_name,\n\u001b[0m\u001b[0;32m      3\u001b[0m                 \u001b[1;34m'Artist_Name'\u001b[0m\u001b[1;33m:\u001b[0m\u001b[0martist_name\u001b[0m\u001b[1;33m,\u001b[0m\u001b[1;33m\u001b[0m\u001b[1;33m\u001b[0m\u001b[0m\n\u001b[0;32m      4\u001b[0m                 \u001b[1;34m'Last_week_rank'\u001b[0m\u001b[1;33m:\u001b[0m\u001b[0mlast_week_rank\u001b[0m\u001b[1;33m,\u001b[0m\u001b[1;33m\u001b[0m\u001b[1;33m\u001b[0m\u001b[0m\n\u001b[0;32m      5\u001b[0m                 \u001b[1;34m'Peak'\u001b[0m\u001b[1;33m:\u001b[0m\u001b[0mpeak_rank\u001b[0m\u001b[1;33m,\u001b[0m\u001b[1;33m\u001b[0m\u001b[1;33m\u001b[0m\u001b[0m\n",
      "\u001b[1;32mC:\\ProgramData\\Anaconda3\\lib\\site-packages\\pandas\\core\\frame.py\u001b[0m in \u001b[0;36m__init__\u001b[1;34m(self, data, index, columns, dtype, copy)\u001b[0m\n\u001b[0;32m    612\u001b[0m         \u001b[1;32melif\u001b[0m \u001b[0misinstance\u001b[0m\u001b[1;33m(\u001b[0m\u001b[0mdata\u001b[0m\u001b[1;33m,\u001b[0m \u001b[0mdict\u001b[0m\u001b[1;33m)\u001b[0m\u001b[1;33m:\u001b[0m\u001b[1;33m\u001b[0m\u001b[1;33m\u001b[0m\u001b[0m\n\u001b[0;32m    613\u001b[0m             \u001b[1;31m# GH#38939 de facto copy defaults to False only in non-dict cases\u001b[0m\u001b[1;33m\u001b[0m\u001b[1;33m\u001b[0m\u001b[0m\n\u001b[1;32m--> 614\u001b[1;33m             \u001b[0mmgr\u001b[0m \u001b[1;33m=\u001b[0m \u001b[0mdict_to_mgr\u001b[0m\u001b[1;33m(\u001b[0m\u001b[0mdata\u001b[0m\u001b[1;33m,\u001b[0m \u001b[0mindex\u001b[0m\u001b[1;33m,\u001b[0m \u001b[0mcolumns\u001b[0m\u001b[1;33m,\u001b[0m \u001b[0mdtype\u001b[0m\u001b[1;33m=\u001b[0m\u001b[0mdtype\u001b[0m\u001b[1;33m,\u001b[0m \u001b[0mcopy\u001b[0m\u001b[1;33m=\u001b[0m\u001b[0mcopy\u001b[0m\u001b[1;33m,\u001b[0m \u001b[0mtyp\u001b[0m\u001b[1;33m=\u001b[0m\u001b[0mmanager\u001b[0m\u001b[1;33m)\u001b[0m\u001b[1;33m\u001b[0m\u001b[1;33m\u001b[0m\u001b[0m\n\u001b[0m\u001b[0;32m    615\u001b[0m         \u001b[1;32melif\u001b[0m \u001b[0misinstance\u001b[0m\u001b[1;33m(\u001b[0m\u001b[0mdata\u001b[0m\u001b[1;33m,\u001b[0m \u001b[0mma\u001b[0m\u001b[1;33m.\u001b[0m\u001b[0mMaskedArray\u001b[0m\u001b[1;33m)\u001b[0m\u001b[1;33m:\u001b[0m\u001b[1;33m\u001b[0m\u001b[1;33m\u001b[0m\u001b[0m\n\u001b[0;32m    616\u001b[0m             \u001b[1;32mimport\u001b[0m \u001b[0mnumpy\u001b[0m\u001b[1;33m.\u001b[0m\u001b[0mma\u001b[0m\u001b[1;33m.\u001b[0m\u001b[0mmrecords\u001b[0m \u001b[1;32mas\u001b[0m \u001b[0mmrecords\u001b[0m\u001b[1;33m\u001b[0m\u001b[1;33m\u001b[0m\u001b[0m\n",
      "\u001b[1;32mC:\\ProgramData\\Anaconda3\\lib\\site-packages\\pandas\\core\\internals\\construction.py\u001b[0m in \u001b[0;36mdict_to_mgr\u001b[1;34m(data, index, columns, dtype, typ, copy)\u001b[0m\n\u001b[0;32m    462\u001b[0m         \u001b[1;31m# TODO: can we get rid of the dt64tz special case above?\u001b[0m\u001b[1;33m\u001b[0m\u001b[1;33m\u001b[0m\u001b[0m\n\u001b[0;32m    463\u001b[0m \u001b[1;33m\u001b[0m\u001b[0m\n\u001b[1;32m--> 464\u001b[1;33m     return arrays_to_mgr(\n\u001b[0m\u001b[0;32m    465\u001b[0m         \u001b[0marrays\u001b[0m\u001b[1;33m,\u001b[0m \u001b[0mdata_names\u001b[0m\u001b[1;33m,\u001b[0m \u001b[0mindex\u001b[0m\u001b[1;33m,\u001b[0m \u001b[0mcolumns\u001b[0m\u001b[1;33m,\u001b[0m \u001b[0mdtype\u001b[0m\u001b[1;33m=\u001b[0m\u001b[0mdtype\u001b[0m\u001b[1;33m,\u001b[0m \u001b[0mtyp\u001b[0m\u001b[1;33m=\u001b[0m\u001b[0mtyp\u001b[0m\u001b[1;33m,\u001b[0m \u001b[0mconsolidate\u001b[0m\u001b[1;33m=\u001b[0m\u001b[0mcopy\u001b[0m\u001b[1;33m\u001b[0m\u001b[1;33m\u001b[0m\u001b[0m\n\u001b[0;32m    466\u001b[0m     )\n",
      "\u001b[1;32mC:\\ProgramData\\Anaconda3\\lib\\site-packages\\pandas\\core\\internals\\construction.py\u001b[0m in \u001b[0;36marrays_to_mgr\u001b[1;34m(arrays, arr_names, index, columns, dtype, verify_integrity, typ, consolidate)\u001b[0m\n\u001b[0;32m    117\u001b[0m         \u001b[1;31m# figure out the index, if necessary\u001b[0m\u001b[1;33m\u001b[0m\u001b[1;33m\u001b[0m\u001b[0m\n\u001b[0;32m    118\u001b[0m         \u001b[1;32mif\u001b[0m \u001b[0mindex\u001b[0m \u001b[1;32mis\u001b[0m \u001b[1;32mNone\u001b[0m\u001b[1;33m:\u001b[0m\u001b[1;33m\u001b[0m\u001b[1;33m\u001b[0m\u001b[0m\n\u001b[1;32m--> 119\u001b[1;33m             \u001b[0mindex\u001b[0m \u001b[1;33m=\u001b[0m \u001b[0m_extract_index\u001b[0m\u001b[1;33m(\u001b[0m\u001b[0marrays\u001b[0m\u001b[1;33m)\u001b[0m\u001b[1;33m\u001b[0m\u001b[1;33m\u001b[0m\u001b[0m\n\u001b[0m\u001b[0;32m    120\u001b[0m         \u001b[1;32melse\u001b[0m\u001b[1;33m:\u001b[0m\u001b[1;33m\u001b[0m\u001b[1;33m\u001b[0m\u001b[0m\n\u001b[0;32m    121\u001b[0m             \u001b[0mindex\u001b[0m \u001b[1;33m=\u001b[0m \u001b[0mensure_index\u001b[0m\u001b[1;33m(\u001b[0m\u001b[0mindex\u001b[0m\u001b[1;33m)\u001b[0m\u001b[1;33m\u001b[0m\u001b[1;33m\u001b[0m\u001b[0m\n",
      "\u001b[1;32mC:\\ProgramData\\Anaconda3\\lib\\site-packages\\pandas\\core\\internals\\construction.py\u001b[0m in \u001b[0;36m_extract_index\u001b[1;34m(data)\u001b[0m\n\u001b[0;32m    633\u001b[0m             \u001b[0mlengths\u001b[0m \u001b[1;33m=\u001b[0m \u001b[0mlist\u001b[0m\u001b[1;33m(\u001b[0m\u001b[0mset\u001b[0m\u001b[1;33m(\u001b[0m\u001b[0mraw_lengths\u001b[0m\u001b[1;33m)\u001b[0m\u001b[1;33m)\u001b[0m\u001b[1;33m\u001b[0m\u001b[1;33m\u001b[0m\u001b[0m\n\u001b[0;32m    634\u001b[0m             \u001b[1;32mif\u001b[0m \u001b[0mlen\u001b[0m\u001b[1;33m(\u001b[0m\u001b[0mlengths\u001b[0m\u001b[1;33m)\u001b[0m \u001b[1;33m>\u001b[0m \u001b[1;36m1\u001b[0m\u001b[1;33m:\u001b[0m\u001b[1;33m\u001b[0m\u001b[1;33m\u001b[0m\u001b[0m\n\u001b[1;32m--> 635\u001b[1;33m                 \u001b[1;32mraise\u001b[0m \u001b[0mValueError\u001b[0m\u001b[1;33m(\u001b[0m\u001b[1;34m\"All arrays must be of the same length\"\u001b[0m\u001b[1;33m)\u001b[0m\u001b[1;33m\u001b[0m\u001b[1;33m\u001b[0m\u001b[0m\n\u001b[0m\u001b[0;32m    636\u001b[0m \u001b[1;33m\u001b[0m\u001b[0m\n\u001b[0;32m    637\u001b[0m             \u001b[1;32mif\u001b[0m \u001b[0mhave_dicts\u001b[0m\u001b[1;33m:\u001b[0m\u001b[1;33m\u001b[0m\u001b[1;33m\u001b[0m\u001b[0m\n",
      "\u001b[1;31mValueError\u001b[0m: All arrays must be of the same length"
     ]
    }
   ],
   "source": [
    "#creating dataframe\n",
    "df=pd.DataFrame({'Song_Name':song_name,\n",
    "                'Artist_Name':artist_name,\n",
    "                'Last_week_rank':last_week_rank,\n",
    "                'Peak':peak_rank,\n",
    "                'Weeks_on_chart':weeks})\n",
    "print(df)"
   ]
  },
  {
   "cell_type": "markdown",
   "id": "e2143857",
   "metadata": {},
   "source": [
    "Q7. Scrape the details of Data science recruiters from naukri.com.\n",
    "\n",
    "Url = https://www.naukri.com/"
   ]
  },
  {
   "cell_type": "code",
   "execution_count": 84,
   "id": "517aaabd",
   "metadata": {},
   "outputs": [],
   "source": [
    "#to open automated window\n",
    "driver = webdriver.Chrome(r\"C:\\Users\\Ashok\\Downloads\\chromedriver_win32\\chromedriver\")"
   ]
  },
  {
   "cell_type": "code",
   "execution_count": 85,
   "id": "417305b2",
   "metadata": {},
   "outputs": [],
   "source": [
    "driver=webdriver.Chrome('chromedriver.exe')\n",
    "driver.get(\"https://www.naukri.com/\")"
   ]
  },
  {
   "cell_type": "code",
   "execution_count": 92,
   "id": "a39ae9b1",
   "metadata": {},
   "outputs": [],
   "source": [
    "#Fetching jobs url for recruiter page\n",
    "jobs = driver.find_element_by_xpath(\"//a[@title='Search Jobs']\")\n",
    "jobs_url = jobs.get_attribute(\"href\")\n",
    "\n",
    "driver.get(jobs_url)"
   ]
  },
  {
   "cell_type": "code",
   "execution_count": 93,
   "id": "907efb01",
   "metadata": {},
   "outputs": [],
   "source": [
    "#Fetching urls for recruiter page\n",
    "rec = driver.find_element_by_xpath(\"//a[@title='Search Recruiters']\")\n",
    "page_url = rec.get_attribute(\"href\")\n",
    "\n",
    "driver.get(page_url)"
   ]
  },
  {
   "cell_type": "code",
   "execution_count": 94,
   "id": "c0e536e0",
   "metadata": {},
   "outputs": [],
   "source": [
    "#Fetching search button,bar xpath and clicking on it\n",
    "search = driver.find_element_by_xpath(\"//div[@class='inpWrap']//input\") \n",
    "search.send_keys(\"Data science \")           \n",
    "but = driver.find_element_by_xpath(\"//button[@class='fl qsbSrch blueBtn']\").click()     "
   ]
  },
  {
   "cell_type": "code",
   "execution_count": 95,
   "id": "74c80ca8",
   "metadata": {},
   "outputs": [],
   "source": [
    "#Creating empty list\n",
    "Name = []\n",
    "Designation = []\n",
    "Company = []\n",
    "Skills = []\n",
    "Location = []"
   ]
  },
  {
   "cell_type": "code",
   "execution_count": 96,
   "id": "dbc7d856",
   "metadata": {},
   "outputs": [],
   "source": [
    "#Scraping data of Names\n",
    "for i in driver.find_elements_by_xpath(\"//span[@class='fl ellipsis']\")[:50]:\n",
    "    Name.append(i.text)\n",
    "\n",
    "\n",
    "#Scraping data of Designation\n",
    "for i in driver.find_elements_by_xpath(\"//span[@class='ellipsis clr']\")[:50]:\n",
    "    Designation.append(i.text)\n",
    "\n",
    "#Scraping data of company name\n",
    "for i in driver.find_elements_by_xpath(\"//div[@class='vcard']//p[1]/a[2]\")[:50]:\n",
    "    Company.append(i.text)\n",
    "    \n",
    "#scraping data of Skills \n",
    "for i in driver.find_elements_by_xpath(\"//div[@class='hireSec highlightable']\")[:50]:\n",
    "    try:\n",
    "        if i.text == \"Not Specified\": raise NoSuchElementException\n",
    "        Skills.append(i.text)\n",
    "    except NoSuchElementException:\n",
    "        Skills.append('-')\n",
    "\n",
    "#Scraping data of locations\n",
    "for i in driver.find_elements_by_xpath(\"//div[@class='vcard']//p[1]//span\")[:50]:\n",
    "    Location.append(i.text)"
   ]
  },
  {
   "cell_type": "code",
   "execution_count": 97,
   "id": "eec671b9",
   "metadata": {},
   "outputs": [
    {
     "data": {
      "text/html": [
       "<div>\n",
       "<style scoped>\n",
       "    .dataframe tbody tr th:only-of-type {\n",
       "        vertical-align: middle;\n",
       "    }\n",
       "\n",
       "    .dataframe tbody tr th {\n",
       "        vertical-align: top;\n",
       "    }\n",
       "\n",
       "    .dataframe thead th {\n",
       "        text-align: right;\n",
       "    }\n",
       "</style>\n",
       "<table border=\"1\" class=\"dataframe\">\n",
       "  <thead>\n",
       "    <tr style=\"text-align: right;\">\n",
       "      <th></th>\n",
       "      <th>Name</th>\n",
       "      <th>Designation</th>\n",
       "      <th>Company</th>\n",
       "      <th>Skills</th>\n",
       "      <th>Location</th>\n",
       "    </tr>\n",
       "  </thead>\n",
       "  <tbody>\n",
       "    <tr>\n",
       "      <th>0</th>\n",
       "      <td>Aakash Harit</td>\n",
       "      <td>HR Manager</td>\n",
       "      <td>Data Science Network</td>\n",
       "      <td>Classic ASP Developer, Internet Marketing Prof...</td>\n",
       "      <td>Aakash Harit</td>\n",
       "    </tr>\n",
       "    <tr>\n",
       "      <th>1</th>\n",
       "      <td>shravan Kumar Gaddam</td>\n",
       "      <td>Company Recruiter</td>\n",
       "      <td>Shore Infotech India Pvt. Ltd</td>\n",
       "      <td>.Net, Java, Data Science, Linux Administration...</td>\n",
       "      <td>HR Manager</td>\n",
       "    </tr>\n",
       "    <tr>\n",
       "      <th>2</th>\n",
       "      <td>MARSIAN Technologies LLP</td>\n",
       "      <td>Company HR</td>\n",
       "      <td>MARSIAN Technologies LLP</td>\n",
       "      <td>Data Science, Artificial Intelligence, Machine...</td>\n",
       "      <td>Delhi</td>\n",
       "    </tr>\n",
       "    <tr>\n",
       "      <th>3</th>\n",
       "      <td>Anik Agrawal</td>\n",
       "      <td>Company Recruiter</td>\n",
       "      <td>Enerlytics Software Solutions Pvt Ltd</td>\n",
       "      <td>Mean Stack, javascript, angularjs, mongodb, We...</td>\n",
       "      <td>shravan Kumar Gaddam</td>\n",
       "    </tr>\n",
       "    <tr>\n",
       "      <th>4</th>\n",
       "      <td>subhas patel</td>\n",
       "      <td>Founder CEO</td>\n",
       "      <td>LibraryXProject</td>\n",
       "      <td>Hadoop, Spark, Digital Strategy, Data Architec...</td>\n",
       "      <td>Company Recruiter</td>\n",
       "    </tr>\n",
       "    <tr>\n",
       "      <th>5</th>\n",
       "      <td>Abhishek - Only Analytics Hiring - India and</td>\n",
       "      <td>Recruitment Lead Consultant</td>\n",
       "      <td>Apidel Technologies Division of Transpower</td>\n",
       "      <td>Analytics, Business Intelligence, Business Ana...</td>\n",
       "      <td>Hyderabad / Secunderabad</td>\n",
       "    </tr>\n",
       "    <tr>\n",
       "      <th>6</th>\n",
       "      <td>Institute for Financial Management and Resear</td>\n",
       "      <td>Programme Manager</td>\n",
       "      <td>IFMR</td>\n",
       "      <td>Data Science</td>\n",
       "      <td>MARSIAN Technologies LLP</td>\n",
       "    </tr>\n",
       "    <tr>\n",
       "      <th>7</th>\n",
       "      <td>Balu Ramesh</td>\n",
       "      <td>HR Administrator</td>\n",
       "      <td>Techvantage Systems Pvt Ltd</td>\n",
       "      <td>Machine Learning, algorithms, Go Getter, Compu...</td>\n",
       "      <td>Company HR</td>\n",
       "    </tr>\n",
       "    <tr>\n",
       "      <th>8</th>\n",
       "      <td>Asif Lucknowi</td>\n",
       "      <td>Director</td>\n",
       "      <td>Weupskill- Live Wire India</td>\n",
       "      <td>Technical Training, Software Development, Pres...</td>\n",
       "      <td>Pune</td>\n",
       "    </tr>\n",
       "    <tr>\n",
       "      <th>9</th>\n",
       "      <td>InstaFinancials</td>\n",
       "      <td>Human Resource</td>\n",
       "      <td>CBL Data Science Private Limited</td>\n",
       "      <td>Software Development, It Sales, Account Manage...</td>\n",
       "      <td>Anik Agrawal</td>\n",
       "    </tr>\n",
       "    <tr>\n",
       "      <th>10</th>\n",
       "      <td>Priyanka Akiri</td>\n",
       "      <td>HR Manager</td>\n",
       "      <td>Infinitive Software Solutions</td>\n",
       "      <td>Oracle Dba, Data Science, Data Warehousing, ET...</td>\n",
       "      <td>Company Recruiter</td>\n",
       "    </tr>\n",
       "    <tr>\n",
       "      <th>11</th>\n",
       "      <td>Kalpana Dumpala</td>\n",
       "      <td>Executive Hiring</td>\n",
       "      <td>Innominds Software</td>\n",
       "      <td>Qa, Ui/ux, Java Developer, Java Architect, C++...</td>\n",
       "      <td>Ahmedabad</td>\n",
       "    </tr>\n",
       "    <tr>\n",
       "      <th>12</th>\n",
       "      <td>Mubarak</td>\n",
       "      <td>Company HR</td>\n",
       "      <td>MoneyTap</td>\n",
       "      <td>Business Intelligence, Data Warehousing, Data ...</td>\n",
       "      <td>subhas patel</td>\n",
       "    </tr>\n",
       "    <tr>\n",
       "      <th>13</th>\n",
       "      <td>Kushal Rastogi</td>\n",
       "      <td>Company HR</td>\n",
       "      <td>QuantMagnum Technologies Pvt. Ltd.</td>\n",
       "      <td>Office Administration, Hr Administration, tele...</td>\n",
       "      <td>Founder CEO</td>\n",
       "    </tr>\n",
       "    <tr>\n",
       "      <th>14</th>\n",
       "      <td>Mahesh Babu Channa</td>\n",
       "      <td>HR Team Lead</td>\n",
       "      <td>SocialPrachar.com</td>\n",
       "      <td>Social Media, digital media maketing, seo, smm...</td>\n",
       "      <td>UK - (london)</td>\n",
       "    </tr>\n",
       "    <tr>\n",
       "      <th>15</th>\n",
       "      <td>Kapil Devang</td>\n",
       "      <td>HR Manager</td>\n",
       "      <td>BISP Solutions</td>\n",
       "      <td>Big Data, Hadoop, Data Analytics, Data Science</td>\n",
       "      <td>Abhishek - Only Analytics Hiring - India and</td>\n",
       "    </tr>\n",
       "    <tr>\n",
       "      <th>16</th>\n",
       "      <td>Sakshi Chhikara</td>\n",
       "      <td>Assistant Manager HR</td>\n",
       "      <td>BIZ INFOTECNO PRIVATE LIMITED</td>\n",
       "      <td>React.js, Data Science, Java, Front End, Busin...</td>\n",
       "      <td>Recruitment Lead Consultant</td>\n",
       "    </tr>\n",
       "    <tr>\n",
       "      <th>17</th>\n",
       "      <td>Ruchi Dhote</td>\n",
       "      <td>Senior Executive Talent Acquisition</td>\n",
       "      <td>Bristlecone India Ltd</td>\n",
       "      <td>Qlikview, Qlik Sense, Microsoft Azure, Power B...</td>\n",
       "      <td>Vadodara / Baroda</td>\n",
       "    </tr>\n",
       "    <tr>\n",
       "      <th>18</th>\n",
       "      <td>Manisha Yadav</td>\n",
       "      <td>HR Executive</td>\n",
       "      <td>Easi Tax</td>\n",
       "      <td>Telecalling, Client Interaction, Marketing, Re...</td>\n",
       "      <td>Institute for Financial Management and Resear</td>\n",
       "    </tr>\n",
       "    <tr>\n",
       "      <th>19</th>\n",
       "      <td>Riya Rajesh</td>\n",
       "      <td>Manager Talent Acquisition</td>\n",
       "      <td>Novelworx Digital Solutions</td>\n",
       "      <td>Data Science</td>\n",
       "      <td>Programme Manager</td>\n",
       "    </tr>\n",
       "    <tr>\n",
       "      <th>20</th>\n",
       "      <td>Rashmi Bhattacharjee</td>\n",
       "      <td>HR Head</td>\n",
       "      <td>AXESTRACK SOFTWARE SOLUTIONS PRIVATE...</td>\n",
       "      <td>Corporate Sales, Software Development, Softwar...</td>\n",
       "      <td>Chennai</td>\n",
       "    </tr>\n",
       "    <tr>\n",
       "      <th>21</th>\n",
       "      <td>Faizan Kareem</td>\n",
       "      <td>HR MANAGER</td>\n",
       "      <td>FirstTech Consaltants Pvt.Ltd</td>\n",
       "      <td>Data Analytics, Data Science, Machine Learning...</td>\n",
       "      <td>Balu Ramesh</td>\n",
       "    </tr>\n",
       "    <tr>\n",
       "      <th>22</th>\n",
       "      <td>Rithika dadwal</td>\n",
       "      <td>HR Recruiter</td>\n",
       "      <td>Affine Analytics</td>\n",
       "      <td>Data Science, Machine Learning, Python, R, Dee...</td>\n",
       "      <td>HR Administrator</td>\n",
       "    </tr>\n",
       "    <tr>\n",
       "      <th>23</th>\n",
       "      <td>Sandhya Khandagale</td>\n",
       "      <td>HR Recruiter</td>\n",
       "      <td>Compumatrice Multimedia Pvt Ltd</td>\n",
       "      <td>Big Data, Data Science, Artificial Intelligenc...</td>\n",
       "      <td>Trivandrum</td>\n",
       "    </tr>\n",
       "    <tr>\n",
       "      <th>24</th>\n",
       "      <td>Shaun Rao</td>\n",
       "      <td>Manager Human Resources</td>\n",
       "      <td>Exela Technologies</td>\n",
       "      <td>Java, Net, Angularjs, Hr, Infrastructure, Mana...</td>\n",
       "      <td>Asif Lucknowi</td>\n",
       "    </tr>\n",
       "    <tr>\n",
       "      <th>25</th>\n",
       "      <td>Azahar Shaikh</td>\n",
       "      <td>Company Recruiter</td>\n",
       "      <td>NEAL ANALYTICS SERVICES PVT LTD</td>\n",
       "      <td>Data Science, Artificial Intelligence, Machine...</td>\n",
       "      <td>Director</td>\n",
       "    </tr>\n",
       "    <tr>\n",
       "      <th>26</th>\n",
       "      <td>Manas</td>\n",
       "      <td>Lead Talent acquisition</td>\n",
       "      <td>Autumn Leaf Consulting Services Private...</td>\n",
       "      <td>Software Architecture, Vp Engineering, Product...</td>\n",
       "      <td>Indore</td>\n",
       "    </tr>\n",
       "    <tr>\n",
       "      <th>27</th>\n",
       "      <td>kumar</td>\n",
       "      <td>Proprietor</td>\n",
       "      <td>trainin</td>\n",
       "      <td>Data Science, Hadoop, Rpas, Devops, Python, Aw...</td>\n",
       "      <td>InstaFinancials</td>\n",
       "    </tr>\n",
       "    <tr>\n",
       "      <th>28</th>\n",
       "      <td>Sunil Vedula</td>\n",
       "      <td>CEO</td>\n",
       "      <td>Nanoprecise Sci Corp</td>\n",
       "      <td>Signal Processing, Machine Learning, Neural Ne...</td>\n",
       "      <td>Human Resource</td>\n",
       "    </tr>\n",
       "    <tr>\n",
       "      <th>29</th>\n",
       "      <td>Rajat Kumar</td>\n",
       "      <td>Founder CEO</td>\n",
       "      <td>R.S Consultancy &amp;amp; Services</td>\n",
       "      <td>Web Technologies, Project Management, Software...</td>\n",
       "      <td>Bengaluru / Bangalore</td>\n",
       "    </tr>\n",
       "    <tr>\n",
       "      <th>30</th>\n",
       "      <td>Dhruv Dev Dubey</td>\n",
       "      <td>Company Recruitment Head</td>\n",
       "      <td>Confidential</td>\n",
       "      <td>Server Administartion, Verilog, Vhdl, Digital ...</td>\n",
       "      <td>Priyanka Akiri</td>\n",
       "    </tr>\n",
       "    <tr>\n",
       "      <th>31</th>\n",
       "      <td>Jayanth N</td>\n",
       "      <td>Project Manager</td>\n",
       "      <td>Dollarbird Information Services Pvt, Ltd</td>\n",
       "      <td>Data Analytics, Managed Services, Team Leading...</td>\n",
       "      <td>HR Manager</td>\n",
       "    </tr>\n",
       "    <tr>\n",
       "      <th>32</th>\n",
       "      <td>Avodha</td>\n",
       "      <td>Business Development Associate</td>\n",
       "      <td>Nikitha Palaparthi</td>\n",
       "      <td>Ethical Hacking, Security Operations Center, S...</td>\n",
       "      <td>Hyderabad</td>\n",
       "    </tr>\n",
       "    <tr>\n",
       "      <th>33</th>\n",
       "      <td>SREEDHAR</td>\n",
       "      <td>Recruitment Consultant</td>\n",
       "      <td>JOBSMILL BUSINESS SOLUTIONS PRIVATE LIMITED</td>\n",
       "      <td>Data Science, Machine Learning, Big Data Analy...</td>\n",
       "      <td>Kalpana Dumpala</td>\n",
       "    </tr>\n",
       "    <tr>\n",
       "      <th>34</th>\n",
       "      <td>Priya Khare</td>\n",
       "      <td>Senior Manager</td>\n",
       "      <td>Independent Consultant</td>\n",
       "      <td>Data Science, Artificial Intelligence, analyti...</td>\n",
       "      <td>Executive Hiring</td>\n",
       "    </tr>\n",
       "    <tr>\n",
       "      <th>35</th>\n",
       "      <td>Amit Sharma</td>\n",
       "      <td>Consultant</td>\n",
       "      <td>ASCO consulting</td>\n",
       "      <td>Machine Learning, Artificial Intelligence, Dat...</td>\n",
       "      <td>Hyderabad / Secunderabad</td>\n",
       "    </tr>\n",
       "    <tr>\n",
       "      <th>36</th>\n",
       "      <td>Kanan</td>\n",
       "      <td>senior technology instructor</td>\n",
       "      <td>NY INST</td>\n",
       "      <td>C, C++, Artificial Intelligence, Python, Php, ...</td>\n",
       "      <td>Mubarak</td>\n",
       "    </tr>\n",
       "    <tr>\n",
       "      <th>37</th>\n",
       "      <td>Shashikant Chaudhary</td>\n",
       "      <td>HR Recruiter/HR Excutive</td>\n",
       "      <td>3D India Staffing Research &amp;amp; Consulting...</td>\n",
       "      <td>Relationship Management, Retail Sales, Private...</td>\n",
       "      <td>Company HR</td>\n",
       "    </tr>\n",
       "    <tr>\n",
       "      <th>38</th>\n",
       "      <td>Brad</td>\n",
       "      <td>Manager, Technical Recruiting</td>\n",
       "      <td>O.C. Tanner</td>\n",
       "      <td>Data Science, Software Engineering</td>\n",
       "      <td>Bengaluru / Bangalore</td>\n",
       "    </tr>\n",
       "    <tr>\n",
       "      <th>39</th>\n",
       "      <td>Rutuja Pawar</td>\n",
       "      <td>Technical Recruiter</td>\n",
       "      <td>Demand Matrix</td>\n",
       "      <td>Data Science, Big Data Analytics, Digital Mark...</td>\n",
       "      <td>Kushal Rastogi</td>\n",
       "    </tr>\n",
       "    <tr>\n",
       "      <th>40</th>\n",
       "      <td>Madhusudhan Sridhar</td>\n",
       "      <td>Erp Implementer</td>\n",
       "      <td>MADHUSUDHAN SRIDHAR</td>\n",
       "      <td>Data Science, Recruitment, Salary</td>\n",
       "      <td>Company HR</td>\n",
       "    </tr>\n",
       "    <tr>\n",
       "      <th>41</th>\n",
       "      <td>Ankit Sinha</td>\n",
       "      <td>Head Analytics</td>\n",
       "      <td>Suntech Global</td>\n",
       "      <td>B.Tech, Tableau, Statistics, R, Analytics, Tim...</td>\n",
       "      <td>Mumbai</td>\n",
       "    </tr>\n",
       "    <tr>\n",
       "      <th>42</th>\n",
       "      <td>Gaurav Chouhan</td>\n",
       "      <td>Chief Technical Officer</td>\n",
       "      <td>Strategic Consulting Lab</td>\n",
       "      <td>Software Development, Business Intelligence, B...</td>\n",
       "      <td>Mahesh Babu Channa</td>\n",
       "    </tr>\n",
       "    <tr>\n",
       "      <th>43</th>\n",
       "      <td>Rashi Kacker</td>\n",
       "      <td>Sr Product Manager</td>\n",
       "      <td>Impel Labs Pvt. Ltd.</td>\n",
       "      <td>Data Science, Node.js, Angularjs</td>\n",
       "      <td>HR Team Lead</td>\n",
       "    </tr>\n",
       "    <tr>\n",
       "      <th>44</th>\n",
       "      <td>Ashwini</td>\n",
       "      <td>Director Global Delivery</td>\n",
       "      <td>MRP Advisers</td>\n",
       "      <td>Data Science, Media Marketing, Resource Planni...</td>\n",
       "      <td>Hyderabad / Secunderabad</td>\n",
       "    </tr>\n",
       "    <tr>\n",
       "      <th>45</th>\n",
       "      <td>Balaji Kolli</td>\n",
       "      <td>Co Founder</td>\n",
       "      <td>Saras Solutions India Pvt Ltd</td>\n",
       "      <td>Data Analysis, Learning, Data Science, Compute...</td>\n",
       "      <td>Kapil Devang</td>\n",
       "    </tr>\n",
       "    <tr>\n",
       "      <th>46</th>\n",
       "      <td>Rajani Nagaraj</td>\n",
       "      <td>HR Manager</td>\n",
       "      <td>WildJasmine</td>\n",
       "      <td>Java, Hadoop, R, Machine Learning, Spark, Flum...</td>\n",
       "      <td>HR Manager</td>\n",
       "    </tr>\n",
       "    <tr>\n",
       "      <th>47</th>\n",
       "      <td>ROHIT Kumar</td>\n",
       "      <td>Architect</td>\n",
       "      <td>LNT Private Limited</td>\n",
       "      <td>Software Development, Core Java, Unit Testing,...</td>\n",
       "      <td>Bhopal</td>\n",
       "    </tr>\n",
       "    <tr>\n",
       "      <th>48</th>\n",
       "      <td>Amir Chowdhury</td>\n",
       "      <td>Managing Partner</td>\n",
       "      <td>Granular.ai</td>\n",
       "      <td>Machine Learning, Data Science, Product Manage...</td>\n",
       "      <td>Sakshi Chhikara</td>\n",
       "    </tr>\n",
       "    <tr>\n",
       "      <th>49</th>\n",
       "      <td>Ravi Dubey</td>\n",
       "      <td>Recruitment Manager</td>\n",
       "      <td>HyrEzy Talent Solutions LLP</td>\n",
       "      <td>Walmart Interra Skeps Expressstores indifi whi...</td>\n",
       "      <td>Assistant Manager HR</td>\n",
       "    </tr>\n",
       "  </tbody>\n",
       "</table>\n",
       "</div>"
      ],
      "text/plain": [
       "                                             Name                          Designation                                         Company                                             Skills                                       Location\n",
       "0                                    Aakash Harit                           HR Manager                            Data Science Network  Classic ASP Developer, Internet Marketing Prof...                                   Aakash Harit\n",
       "1                            shravan Kumar Gaddam                    Company Recruiter                   Shore Infotech India Pvt. Ltd  .Net, Java, Data Science, Linux Administration...                                     HR Manager\n",
       "2                        MARSIAN Technologies LLP                           Company HR                        MARSIAN Technologies LLP  Data Science, Artificial Intelligence, Machine...                                          Delhi\n",
       "3                                    Anik Agrawal                    Company Recruiter           Enerlytics Software Solutions Pvt Ltd  Mean Stack, javascript, angularjs, mongodb, We...                           shravan Kumar Gaddam\n",
       "4                                    subhas patel                          Founder CEO                                 LibraryXProject  Hadoop, Spark, Digital Strategy, Data Architec...                              Company Recruiter\n",
       "5    Abhishek - Only Analytics Hiring - India and          Recruitment Lead Consultant      Apidel Technologies Division of Transpower  Analytics, Business Intelligence, Business Ana...                       Hyderabad / Secunderabad\n",
       "6   Institute for Financial Management and Resear                    Programme Manager                                            IFMR                                       Data Science                       MARSIAN Technologies LLP\n",
       "7                                     Balu Ramesh                     HR Administrator                     Techvantage Systems Pvt Ltd  Machine Learning, algorithms, Go Getter, Compu...                                     Company HR\n",
       "8                                   Asif Lucknowi                             Director                      Weupskill- Live Wire India  Technical Training, Software Development, Pres...                                           Pune\n",
       "9                                 InstaFinancials                       Human Resource                CBL Data Science Private Limited  Software Development, It Sales, Account Manage...                                   Anik Agrawal\n",
       "10                                 Priyanka Akiri                           HR Manager                   Infinitive Software Solutions  Oracle Dba, Data Science, Data Warehousing, ET...                              Company Recruiter\n",
       "11                                Kalpana Dumpala                     Executive Hiring                              Innominds Software  Qa, Ui/ux, Java Developer, Java Architect, C++...                                      Ahmedabad\n",
       "12                                        Mubarak                           Company HR                                        MoneyTap  Business Intelligence, Data Warehousing, Data ...                                   subhas patel\n",
       "13                                 Kushal Rastogi                           Company HR              QuantMagnum Technologies Pvt. Ltd.  Office Administration, Hr Administration, tele...                                    Founder CEO\n",
       "14                             Mahesh Babu Channa                         HR Team Lead                               SocialPrachar.com  Social Media, digital media maketing, seo, smm...                                  UK - (london)\n",
       "15                                   Kapil Devang                           HR Manager                                  BISP Solutions     Big Data, Hadoop, Data Analytics, Data Science   Abhishek - Only Analytics Hiring - India and\n",
       "16                                Sakshi Chhikara                 Assistant Manager HR                   BIZ INFOTECNO PRIVATE LIMITED  React.js, Data Science, Java, Front End, Busin...                    Recruitment Lead Consultant\n",
       "17                                    Ruchi Dhote  Senior Executive Talent Acquisition                           Bristlecone India Ltd  Qlikview, Qlik Sense, Microsoft Azure, Power B...                              Vadodara / Baroda\n",
       "18                                  Manisha Yadav                         HR Executive                                        Easi Tax  Telecalling, Client Interaction, Marketing, Re...  Institute for Financial Management and Resear\n",
       "19                                    Riya Rajesh           Manager Talent Acquisition                     Novelworx Digital Solutions                                       Data Science                              Programme Manager\n",
       "20                           Rashmi Bhattacharjee                              HR Head         AXESTRACK SOFTWARE SOLUTIONS PRIVATE...  Corporate Sales, Software Development, Softwar...                                        Chennai\n",
       "21                                  Faizan Kareem                           HR MANAGER                   FirstTech Consaltants Pvt.Ltd  Data Analytics, Data Science, Machine Learning...                                    Balu Ramesh\n",
       "22                                 Rithika dadwal                         HR Recruiter                                Affine Analytics  Data Science, Machine Learning, Python, R, Dee...                               HR Administrator\n",
       "23                             Sandhya Khandagale                         HR Recruiter                 Compumatrice Multimedia Pvt Ltd  Big Data, Data Science, Artificial Intelligenc...                                     Trivandrum\n",
       "24                                      Shaun Rao              Manager Human Resources                              Exela Technologies  Java, Net, Angularjs, Hr, Infrastructure, Mana...                                  Asif Lucknowi\n",
       "25                                  Azahar Shaikh                    Company Recruiter                 NEAL ANALYTICS SERVICES PVT LTD  Data Science, Artificial Intelligence, Machine...                                       Director\n",
       "26                                          Manas              Lead Talent acquisition      Autumn Leaf Consulting Services Private...  Software Architecture, Vp Engineering, Product...                                         Indore\n",
       "27                                          kumar                           Proprietor                                         trainin  Data Science, Hadoop, Rpas, Devops, Python, Aw...                                InstaFinancials\n",
       "28                                   Sunil Vedula                                  CEO                            Nanoprecise Sci Corp  Signal Processing, Machine Learning, Neural Ne...                                 Human Resource\n",
       "29                                    Rajat Kumar                          Founder CEO                  R.S Consultancy &amp; Services  Web Technologies, Project Management, Software...                          Bengaluru / Bangalore\n",
       "30                                Dhruv Dev Dubey             Company Recruitment Head                                    Confidential  Server Administartion, Verilog, Vhdl, Digital ...                                 Priyanka Akiri\n",
       "31                                      Jayanth N                      Project Manager        Dollarbird Information Services Pvt, Ltd  Data Analytics, Managed Services, Team Leading...                                     HR Manager\n",
       "32                                         Avodha       Business Development Associate                              Nikitha Palaparthi  Ethical Hacking, Security Operations Center, S...                                      Hyderabad\n",
       "33                                       SREEDHAR               Recruitment Consultant     JOBSMILL BUSINESS SOLUTIONS PRIVATE LIMITED  Data Science, Machine Learning, Big Data Analy...                                Kalpana Dumpala\n",
       "34                                    Priya Khare                       Senior Manager                          Independent Consultant  Data Science, Artificial Intelligence, analyti...                               Executive Hiring\n",
       "35                                    Amit Sharma                           Consultant                                 ASCO consulting  Machine Learning, Artificial Intelligence, Dat...                       Hyderabad / Secunderabad\n",
       "36                                          Kanan         senior technology instructor                                         NY INST  C, C++, Artificial Intelligence, Python, Php, ...                                        Mubarak\n",
       "37                           Shashikant Chaudhary             HR Recruiter/HR Excutive  3D India Staffing Research &amp; Consulting...  Relationship Management, Retail Sales, Private...                                     Company HR\n",
       "38                                           Brad        Manager, Technical Recruiting                                     O.C. Tanner                 Data Science, Software Engineering                          Bengaluru / Bangalore\n",
       "39                                   Rutuja Pawar                  Technical Recruiter                                   Demand Matrix  Data Science, Big Data Analytics, Digital Mark...                                 Kushal Rastogi\n",
       "40                            Madhusudhan Sridhar                      Erp Implementer                             MADHUSUDHAN SRIDHAR                  Data Science, Recruitment, Salary                                     Company HR\n",
       "41                                    Ankit Sinha                       Head Analytics                                  Suntech Global  B.Tech, Tableau, Statistics, R, Analytics, Tim...                                         Mumbai\n",
       "42                                 Gaurav Chouhan              Chief Technical Officer                        Strategic Consulting Lab  Software Development, Business Intelligence, B...                             Mahesh Babu Channa\n",
       "43                                   Rashi Kacker                   Sr Product Manager                            Impel Labs Pvt. Ltd.                   Data Science, Node.js, Angularjs                                   HR Team Lead\n",
       "44                                        Ashwini             Director Global Delivery                                    MRP Advisers  Data Science, Media Marketing, Resource Planni...                       Hyderabad / Secunderabad\n",
       "45                                   Balaji Kolli                           Co Founder                   Saras Solutions India Pvt Ltd  Data Analysis, Learning, Data Science, Compute...                                   Kapil Devang\n",
       "46                                 Rajani Nagaraj                           HR Manager                                     WildJasmine  Java, Hadoop, R, Machine Learning, Spark, Flum...                                     HR Manager\n",
       "47                                    ROHIT Kumar                            Architect                             LNT Private Limited  Software Development, Core Java, Unit Testing,...                                         Bhopal\n",
       "48                                 Amir Chowdhury                     Managing Partner                                     Granular.ai  Machine Learning, Data Science, Product Manage...                                Sakshi Chhikara\n",
       "49                                     Ravi Dubey                  Recruitment Manager                     HyrEzy Talent Solutions LLP  Walmart Interra Skeps Expressstores indifi whi...                           Assistant Manager HR"
      ]
     },
     "execution_count": 97,
     "metadata": {},
     "output_type": "execute_result"
    }
   ],
   "source": [
    "#DATA FRAMING\n",
    "Naukri=pd.DataFrame({})\n",
    "Naukri['Name'] = Name\n",
    "Naukri['Designation'] = Designation\n",
    "Naukri['Company'] = Company\n",
    "Naukri['Skills'] = Skills\n",
    "Naukri['Location'] = Location\n",
    "#Printing data frame\n",
    "Naukri"
   ]
  },
  {
   "cell_type": "markdown",
   "id": "474d5dc0",
   "metadata": {},
   "source": [
    "Q8. Scrape the details of Highest selling novels.\n",
    "\n",
    "Url = https://www.theguardian.com/news/datablog/2012/aug/09/best-selling-books-all-time-fifty-shades-grey\u0002compare/"
   ]
  },
  {
   "cell_type": "code",
   "execution_count": 98,
   "id": "c9d0788a",
   "metadata": {},
   "outputs": [],
   "source": [
    "#to open automated window\n",
    "driver = webdriver.Chrome(r\"C:\\Users\\Ashok\\Downloads\\chromedriver_win32\\chromedriver\")"
   ]
  },
  {
   "cell_type": "code",
   "execution_count": 99,
   "id": "fe5a7272",
   "metadata": {},
   "outputs": [],
   "source": [
    "driver=webdriver.Chrome('chromedriver.exe')\n",
    "#getting the specified url\n",
    "url = \"https://www.theguardian.com/news/datablog/2012/aug/09/best-selling-books-all-time-fifty-shades-grey-compare/\"\n",
    "driver.get(url)"
   ]
  },
  {
   "cell_type": "code",
   "execution_count": 100,
   "id": "a5a6c2da",
   "metadata": {},
   "outputs": [],
   "source": [
    "#Creating empty list\n",
    "Book_name = []\n",
    "Author = []\n",
    "Volumes_sold = []\n",
    "Publisher = []\n",
    "Genre = []"
   ]
  },
  {
   "cell_type": "code",
   "execution_count": 103,
   "id": "343a7d2d",
   "metadata": {},
   "outputs": [],
   "source": [
    "#scraping data of book names\n",
    "for i in driver.find_elements_by_xpath(\"//tbody//tr/td[2]\"):\n",
    "    Book_name.append(i.text)\n",
    "\n",
    "    \n",
    "#Scraping data of author names\n",
    "for i in driver.find_elements_by_xpath(\"//tbody/tr/td[3]\"):\n",
    "    try:\n",
    "        if i.text == '0' : raise NoSuchElementException\n",
    "        Author.append(i.text)\n",
    "    except NoSuchElementException:\n",
    "        Author.append('-')\n",
    "\n",
    "\n",
    "#Scraping data of volumes sold\n",
    "for i in driver.find_elements_by_xpath(\"//tbody/tr/td[4]\"):\n",
    "    Volumes_sold.append(i.text)\n",
    "\n",
    "    \n",
    "#Scraping data of publisher names\n",
    "for i in driver.find_elements_by_xpath(\"//tbody/tr/td[5]\"):\n",
    "    Publisher.append(i.text)\n",
    "\n",
    "    \n",
    "#Scraping data of genre\n",
    "for i in driver.find_elements_by_xpath(\"//tbody/tr/td[6]\"):\n",
    "    Genre.append(i.text)"
   ]
  },
  {
   "cell_type": "code",
   "execution_count": 104,
   "id": "b66f0b3b",
   "metadata": {},
   "outputs": [
    {
     "ename": "ValueError",
     "evalue": "Length of values (100) does not match length of index (200)",
     "output_type": "error",
     "traceback": [
      "\u001b[1;31m---------------------------------------------------------------------------\u001b[0m",
      "\u001b[1;31mValueError\u001b[0m                                Traceback (most recent call last)",
      "\u001b[1;32m~\\AppData\\Local\\Temp/ipykernel_1420/1801362030.py\u001b[0m in \u001b[0;36m<module>\u001b[1;34m\u001b[0m\n\u001b[0;32m      3\u001b[0m \u001b[0mNovel\u001b[0m\u001b[1;33m[\u001b[0m\u001b[1;34m'Book Name'\u001b[0m\u001b[1;33m]\u001b[0m \u001b[1;33m=\u001b[0m \u001b[0mBook_name\u001b[0m\u001b[1;33m\u001b[0m\u001b[1;33m\u001b[0m\u001b[0m\n\u001b[0;32m      4\u001b[0m \u001b[0mNovel\u001b[0m\u001b[1;33m[\u001b[0m\u001b[1;34m'Author'\u001b[0m\u001b[1;33m]\u001b[0m \u001b[1;33m=\u001b[0m \u001b[0mAuthor\u001b[0m\u001b[1;33m\u001b[0m\u001b[1;33m\u001b[0m\u001b[0m\n\u001b[1;32m----> 5\u001b[1;33m \u001b[0mNovel\u001b[0m\u001b[1;33m[\u001b[0m\u001b[1;34m'Volume sold'\u001b[0m\u001b[1;33m]\u001b[0m \u001b[1;33m=\u001b[0m \u001b[0mVolumes_sold\u001b[0m\u001b[1;33m\u001b[0m\u001b[1;33m\u001b[0m\u001b[0m\n\u001b[0m\u001b[0;32m      6\u001b[0m \u001b[0mNovel\u001b[0m\u001b[1;33m[\u001b[0m\u001b[1;34m'Publisher'\u001b[0m\u001b[1;33m]\u001b[0m \u001b[1;33m=\u001b[0m \u001b[0mPublisher\u001b[0m\u001b[1;33m\u001b[0m\u001b[1;33m\u001b[0m\u001b[0m\n\u001b[0;32m      7\u001b[0m \u001b[0mNovel\u001b[0m\u001b[1;33m[\u001b[0m\u001b[1;34m'Genre'\u001b[0m\u001b[1;33m]\u001b[0m \u001b[1;33m=\u001b[0m \u001b[0mGenre\u001b[0m\u001b[1;33m\u001b[0m\u001b[1;33m\u001b[0m\u001b[0m\n",
      "\u001b[1;32mC:\\ProgramData\\Anaconda3\\lib\\site-packages\\pandas\\core\\frame.py\u001b[0m in \u001b[0;36m__setitem__\u001b[1;34m(self, key, value)\u001b[0m\n\u001b[0;32m   3610\u001b[0m         \u001b[1;32melse\u001b[0m\u001b[1;33m:\u001b[0m\u001b[1;33m\u001b[0m\u001b[1;33m\u001b[0m\u001b[0m\n\u001b[0;32m   3611\u001b[0m             \u001b[1;31m# set column\u001b[0m\u001b[1;33m\u001b[0m\u001b[1;33m\u001b[0m\u001b[0m\n\u001b[1;32m-> 3612\u001b[1;33m             \u001b[0mself\u001b[0m\u001b[1;33m.\u001b[0m\u001b[0m_set_item\u001b[0m\u001b[1;33m(\u001b[0m\u001b[0mkey\u001b[0m\u001b[1;33m,\u001b[0m \u001b[0mvalue\u001b[0m\u001b[1;33m)\u001b[0m\u001b[1;33m\u001b[0m\u001b[1;33m\u001b[0m\u001b[0m\n\u001b[0m\u001b[0;32m   3613\u001b[0m \u001b[1;33m\u001b[0m\u001b[0m\n\u001b[0;32m   3614\u001b[0m     \u001b[1;32mdef\u001b[0m \u001b[0m_setitem_slice\u001b[0m\u001b[1;33m(\u001b[0m\u001b[0mself\u001b[0m\u001b[1;33m,\u001b[0m \u001b[0mkey\u001b[0m\u001b[1;33m:\u001b[0m \u001b[0mslice\u001b[0m\u001b[1;33m,\u001b[0m \u001b[0mvalue\u001b[0m\u001b[1;33m)\u001b[0m\u001b[1;33m:\u001b[0m\u001b[1;33m\u001b[0m\u001b[1;33m\u001b[0m\u001b[0m\n",
      "\u001b[1;32mC:\\ProgramData\\Anaconda3\\lib\\site-packages\\pandas\\core\\frame.py\u001b[0m in \u001b[0;36m_set_item\u001b[1;34m(self, key, value)\u001b[0m\n\u001b[0;32m   3782\u001b[0m         \u001b[0mensure\u001b[0m \u001b[0mhomogeneity\u001b[0m\u001b[1;33m.\u001b[0m\u001b[1;33m\u001b[0m\u001b[1;33m\u001b[0m\u001b[0m\n\u001b[0;32m   3783\u001b[0m         \"\"\"\n\u001b[1;32m-> 3784\u001b[1;33m         \u001b[0mvalue\u001b[0m \u001b[1;33m=\u001b[0m \u001b[0mself\u001b[0m\u001b[1;33m.\u001b[0m\u001b[0m_sanitize_column\u001b[0m\u001b[1;33m(\u001b[0m\u001b[0mvalue\u001b[0m\u001b[1;33m)\u001b[0m\u001b[1;33m\u001b[0m\u001b[1;33m\u001b[0m\u001b[0m\n\u001b[0m\u001b[0;32m   3785\u001b[0m \u001b[1;33m\u001b[0m\u001b[0m\n\u001b[0;32m   3786\u001b[0m         if (\n",
      "\u001b[1;32mC:\\ProgramData\\Anaconda3\\lib\\site-packages\\pandas\\core\\frame.py\u001b[0m in \u001b[0;36m_sanitize_column\u001b[1;34m(self, value)\u001b[0m\n\u001b[0;32m   4507\u001b[0m \u001b[1;33m\u001b[0m\u001b[0m\n\u001b[0;32m   4508\u001b[0m         \u001b[1;32mif\u001b[0m \u001b[0mis_list_like\u001b[0m\u001b[1;33m(\u001b[0m\u001b[0mvalue\u001b[0m\u001b[1;33m)\u001b[0m\u001b[1;33m:\u001b[0m\u001b[1;33m\u001b[0m\u001b[1;33m\u001b[0m\u001b[0m\n\u001b[1;32m-> 4509\u001b[1;33m             \u001b[0mcom\u001b[0m\u001b[1;33m.\u001b[0m\u001b[0mrequire_length_match\u001b[0m\u001b[1;33m(\u001b[0m\u001b[0mvalue\u001b[0m\u001b[1;33m,\u001b[0m \u001b[0mself\u001b[0m\u001b[1;33m.\u001b[0m\u001b[0mindex\u001b[0m\u001b[1;33m)\u001b[0m\u001b[1;33m\u001b[0m\u001b[1;33m\u001b[0m\u001b[0m\n\u001b[0m\u001b[0;32m   4510\u001b[0m         \u001b[1;32mreturn\u001b[0m \u001b[0msanitize_array\u001b[0m\u001b[1;33m(\u001b[0m\u001b[0mvalue\u001b[0m\u001b[1;33m,\u001b[0m \u001b[0mself\u001b[0m\u001b[1;33m.\u001b[0m\u001b[0mindex\u001b[0m\u001b[1;33m,\u001b[0m \u001b[0mcopy\u001b[0m\u001b[1;33m=\u001b[0m\u001b[1;32mTrue\u001b[0m\u001b[1;33m,\u001b[0m \u001b[0mallow_2d\u001b[0m\u001b[1;33m=\u001b[0m\u001b[1;32mTrue\u001b[0m\u001b[1;33m)\u001b[0m\u001b[1;33m\u001b[0m\u001b[1;33m\u001b[0m\u001b[0m\n\u001b[0;32m   4511\u001b[0m \u001b[1;33m\u001b[0m\u001b[0m\n",
      "\u001b[1;32mC:\\ProgramData\\Anaconda3\\lib\\site-packages\\pandas\\core\\common.py\u001b[0m in \u001b[0;36mrequire_length_match\u001b[1;34m(data, index)\u001b[0m\n\u001b[0;32m    529\u001b[0m     \"\"\"\n\u001b[0;32m    530\u001b[0m     \u001b[1;32mif\u001b[0m \u001b[0mlen\u001b[0m\u001b[1;33m(\u001b[0m\u001b[0mdata\u001b[0m\u001b[1;33m)\u001b[0m \u001b[1;33m!=\u001b[0m \u001b[0mlen\u001b[0m\u001b[1;33m(\u001b[0m\u001b[0mindex\u001b[0m\u001b[1;33m)\u001b[0m\u001b[1;33m:\u001b[0m\u001b[1;33m\u001b[0m\u001b[1;33m\u001b[0m\u001b[0m\n\u001b[1;32m--> 531\u001b[1;33m         raise ValueError(\n\u001b[0m\u001b[0;32m    532\u001b[0m             \u001b[1;34m\"Length of values \"\u001b[0m\u001b[1;33m\u001b[0m\u001b[1;33m\u001b[0m\u001b[0m\n\u001b[0;32m    533\u001b[0m             \u001b[1;34mf\"({len(data)}) \"\u001b[0m\u001b[1;33m\u001b[0m\u001b[1;33m\u001b[0m\u001b[0m\n",
      "\u001b[1;31mValueError\u001b[0m: Length of values (100) does not match length of index (200)"
     ]
    }
   ],
   "source": [
    "#DATA FRAMEING\n",
    "Novel=pd.DataFrame({})\n",
    "Novel['Book Name'] = Book_name\n",
    "Novel['Author'] = Author\n",
    "Novel['Volume sold'] = Volumes_sold\n",
    "Novel['Publisher'] = Publisher\n",
    "Novel['Genre'] = Genre"
   ]
  },
  {
   "cell_type": "code",
   "execution_count": 105,
   "id": "3bd6154d",
   "metadata": {},
   "outputs": [
    {
     "data": {
      "text/html": [
       "<div>\n",
       "<style scoped>\n",
       "    .dataframe tbody tr th:only-of-type {\n",
       "        vertical-align: middle;\n",
       "    }\n",
       "\n",
       "    .dataframe tbody tr th {\n",
       "        vertical-align: top;\n",
       "    }\n",
       "\n",
       "    .dataframe thead th {\n",
       "        text-align: right;\n",
       "    }\n",
       "</style>\n",
       "<table border=\"1\" class=\"dataframe\">\n",
       "  <thead>\n",
       "    <tr style=\"text-align: right;\">\n",
       "      <th></th>\n",
       "      <th>Book Name</th>\n",
       "      <th>Author</th>\n",
       "    </tr>\n",
       "  </thead>\n",
       "  <tbody>\n",
       "    <tr>\n",
       "      <th>0</th>\n",
       "      <td>Da Vinci Code,The</td>\n",
       "      <td>Brown, Dan</td>\n",
       "    </tr>\n",
       "    <tr>\n",
       "      <th>1</th>\n",
       "      <td>Harry Potter and the Deathly Hallows</td>\n",
       "      <td>Rowling, J.K.</td>\n",
       "    </tr>\n",
       "    <tr>\n",
       "      <th>2</th>\n",
       "      <td>Harry Potter and the Philosopher's Stone</td>\n",
       "      <td>Rowling, J.K.</td>\n",
       "    </tr>\n",
       "    <tr>\n",
       "      <th>3</th>\n",
       "      <td>Harry Potter and the Order of the Phoenix</td>\n",
       "      <td>Rowling, J.K.</td>\n",
       "    </tr>\n",
       "    <tr>\n",
       "      <th>4</th>\n",
       "      <td>Fifty Shades of Grey</td>\n",
       "      <td>James, E. L.</td>\n",
       "    </tr>\n",
       "    <tr>\n",
       "      <th>...</th>\n",
       "      <td>...</td>\n",
       "      <td>...</td>\n",
       "    </tr>\n",
       "    <tr>\n",
       "      <th>195</th>\n",
       "      <td>Ghost,The</td>\n",
       "      <td>Harris, Robert</td>\n",
       "    </tr>\n",
       "    <tr>\n",
       "      <th>196</th>\n",
       "      <td>Happy Days with the Naked Chef</td>\n",
       "      <td>Oliver, Jamie</td>\n",
       "    </tr>\n",
       "    <tr>\n",
       "      <th>197</th>\n",
       "      <td>Hunger Games,The:Hunger Games Trilogy</td>\n",
       "      <td>Collins, Suzanne</td>\n",
       "    </tr>\n",
       "    <tr>\n",
       "      <th>198</th>\n",
       "      <td>Lost Boy,The:A Foster Child's Search for the L...</td>\n",
       "      <td>Pelzer, Dave</td>\n",
       "    </tr>\n",
       "    <tr>\n",
       "      <th>199</th>\n",
       "      <td>Jamie's Ministry of Food:Anyone Can Learn to C...</td>\n",
       "      <td>Oliver, Jamie</td>\n",
       "    </tr>\n",
       "  </tbody>\n",
       "</table>\n",
       "<p>200 rows × 2 columns</p>\n",
       "</div>"
      ],
      "text/plain": [
       "                                             Book Name            Author\n",
       "0                                    Da Vinci Code,The        Brown, Dan\n",
       "1                 Harry Potter and the Deathly Hallows     Rowling, J.K.\n",
       "2             Harry Potter and the Philosopher's Stone     Rowling, J.K.\n",
       "3            Harry Potter and the Order of the Phoenix     Rowling, J.K.\n",
       "4                                 Fifty Shades of Grey      James, E. L.\n",
       "..                                                 ...               ...\n",
       "195                                          Ghost,The    Harris, Robert\n",
       "196                     Happy Days with the Naked Chef     Oliver, Jamie\n",
       "197              Hunger Games,The:Hunger Games Trilogy  Collins, Suzanne\n",
       "198  Lost Boy,The:A Foster Child's Search for the L...      Pelzer, Dave\n",
       "199  Jamie's Ministry of Food:Anyone Can Learn to C...     Oliver, Jamie\n",
       "\n",
       "[200 rows x 2 columns]"
      ]
     },
     "execution_count": 105,
     "metadata": {},
     "output_type": "execute_result"
    }
   ],
   "source": [
    "#Printing data frame\n",
    "Novel"
   ]
  },
  {
   "cell_type": "markdown",
   "id": "6fded360",
   "metadata": {},
   "source": [
    "Scrape the details most watched tv series of all time from imdb.com.\n",
    "\n",
    "Url = https://www.imdb.com/list/ls095964455/"
   ]
  },
  {
   "cell_type": "code",
   "execution_count": 106,
   "id": "2a22be24",
   "metadata": {},
   "outputs": [],
   "source": [
    "#to open automated window\n",
    "driver = webdriver.Chrome(r\"C:\\Users\\Ashok\\Downloads\\chromedriver_win32\\chromedriver\")"
   ]
  },
  {
   "cell_type": "code",
   "execution_count": 108,
   "id": "39ba0d13",
   "metadata": {},
   "outputs": [],
   "source": [
    "driver=webdriver.Chrome('chromedriver.exe')\n",
    "#getting the specified url\n",
    "url = \"https://www.imdb.com/list/ls095964455/\"\n",
    "driver.get(url)"
   ]
  },
  {
   "cell_type": "code",
   "execution_count": 109,
   "id": "171eba9e",
   "metadata": {},
   "outputs": [],
   "source": [
    "#Creating empty lists.\n",
    "Name = []\n",
    "Year_span = []\n",
    "Genre = []\n",
    "Run_time = []\n",
    "Ratings = []\n",
    "Votes = []"
   ]
  },
  {
   "cell_type": "code",
   "execution_count": 110,
   "id": "64963fbf",
   "metadata": {},
   "outputs": [],
   "source": [
    "#Scraping data of Names\n",
    "for i in driver.find_elements_by_xpath(\"//h3[@class='lister-item-header']/a\"):\n",
    "    Name.append(i.text)\n",
    "\n",
    "    \n",
    "#Scraping data of Year span\n",
    "for i in driver.find_elements_by_xpath(\"//span[@class='lister-item-year text-muted unbold']\"):\n",
    "    Year_span.append(i.text)\n",
    "\n",
    "    \n",
    "#Scraping data of genre\n",
    "for i in driver.find_elements_by_xpath(\"//span[@class='genre']\"):\n",
    "    Genre.append(i.text)\n",
    "\n",
    "    \n",
    "#Scraping data of Run time\n",
    "for i in driver.find_elements_by_xpath(\"//span[@class='runtime']\"):\n",
    "    Run_time.append(i.text)\n",
    "\n",
    "    \n",
    "#Scraping data of Ratings\n",
    "for i in driver.find_elements_by_xpath(\"//div[@class='ipl-rating-star small']//span[2]\"):\n",
    "    Ratings.append(i.text)\n",
    "\n",
    "    \n",
    "#Scraping data of votes\n",
    "for i in driver.find_elements_by_xpath(\"//div[@class='lister-item-content']//p[4]/span[2]\"):\n",
    "    Votes.append(i.text)"
   ]
  },
  {
   "cell_type": "code",
   "execution_count": 111,
   "id": "b78a236f",
   "metadata": {},
   "outputs": [
    {
     "data": {
      "text/html": [
       "<div>\n",
       "<style scoped>\n",
       "    .dataframe tbody tr th:only-of-type {\n",
       "        vertical-align: middle;\n",
       "    }\n",
       "\n",
       "    .dataframe tbody tr th {\n",
       "        vertical-align: top;\n",
       "    }\n",
       "\n",
       "    .dataframe thead th {\n",
       "        text-align: right;\n",
       "    }\n",
       "</style>\n",
       "<table border=\"1\" class=\"dataframe\">\n",
       "  <thead>\n",
       "    <tr style=\"text-align: right;\">\n",
       "      <th></th>\n",
       "      <th>Name</th>\n",
       "      <th>Year Span</th>\n",
       "      <th>Genre</th>\n",
       "      <th>Run Time</th>\n",
       "      <th>Ratings</th>\n",
       "      <th>Votes</th>\n",
       "    </tr>\n",
       "  </thead>\n",
       "  <tbody>\n",
       "    <tr>\n",
       "      <th>0</th>\n",
       "      <td>Game of Thrones</td>\n",
       "      <td>(2011–2019)</td>\n",
       "      <td>Action, Adventure, Drama</td>\n",
       "      <td>57 min</td>\n",
       "      <td>9.2</td>\n",
       "      <td>1,998,291</td>\n",
       "    </tr>\n",
       "    <tr>\n",
       "      <th>1</th>\n",
       "      <td>Stranger Things</td>\n",
       "      <td>(2016– )</td>\n",
       "      <td>Drama, Fantasy, Horror</td>\n",
       "      <td>51 min</td>\n",
       "      <td>8.7</td>\n",
       "      <td>1,046,182</td>\n",
       "    </tr>\n",
       "    <tr>\n",
       "      <th>2</th>\n",
       "      <td>The Walking Dead</td>\n",
       "      <td>(2010–2022)</td>\n",
       "      <td>Drama, Horror, Thriller</td>\n",
       "      <td>44 min</td>\n",
       "      <td>8.2</td>\n",
       "      <td>950,932</td>\n",
       "    </tr>\n",
       "    <tr>\n",
       "      <th>3</th>\n",
       "      <td>13 Reasons Why</td>\n",
       "      <td>(2017–2020)</td>\n",
       "      <td>Drama, Mystery, Thriller</td>\n",
       "      <td>60 min</td>\n",
       "      <td>7.5</td>\n",
       "      <td>284,209</td>\n",
       "    </tr>\n",
       "    <tr>\n",
       "      <th>4</th>\n",
       "      <td>The 100</td>\n",
       "      <td>(2014–2020)</td>\n",
       "      <td>Drama, Mystery, Sci-Fi</td>\n",
       "      <td>43 min</td>\n",
       "      <td>7.6</td>\n",
       "      <td>243,997</td>\n",
       "    </tr>\n",
       "    <tr>\n",
       "      <th>...</th>\n",
       "      <td>...</td>\n",
       "      <td>...</td>\n",
       "      <td>...</td>\n",
       "      <td>...</td>\n",
       "      <td>...</td>\n",
       "      <td>...</td>\n",
       "    </tr>\n",
       "    <tr>\n",
       "      <th>95</th>\n",
       "      <td>Reign</td>\n",
       "      <td>(2013–2017)</td>\n",
       "      <td>Drama, Fantasy</td>\n",
       "      <td>42 min</td>\n",
       "      <td>7.4</td>\n",
       "      <td>48,936</td>\n",
       "    </tr>\n",
       "    <tr>\n",
       "      <th>96</th>\n",
       "      <td>A Series of Unfortunate Events</td>\n",
       "      <td>(2017–2019)</td>\n",
       "      <td>Adventure, Comedy, Drama</td>\n",
       "      <td>50 min</td>\n",
       "      <td>7.8</td>\n",
       "      <td>59,647</td>\n",
       "    </tr>\n",
       "    <tr>\n",
       "      <th>97</th>\n",
       "      <td>Criminal Minds</td>\n",
       "      <td>(2005–2020)</td>\n",
       "      <td>Crime, Drama, Mystery</td>\n",
       "      <td>42 min</td>\n",
       "      <td>8.1</td>\n",
       "      <td>190,883</td>\n",
       "    </tr>\n",
       "    <tr>\n",
       "      <th>98</th>\n",
       "      <td>Scream: The TV Series</td>\n",
       "      <td>(2015–2019)</td>\n",
       "      <td>Comedy, Crime, Drama</td>\n",
       "      <td>45 min</td>\n",
       "      <td>7.1</td>\n",
       "      <td>40,376</td>\n",
       "    </tr>\n",
       "    <tr>\n",
       "      <th>99</th>\n",
       "      <td>The Haunting of Hill House</td>\n",
       "      <td>(2018)</td>\n",
       "      <td>Drama, Horror, Mystery</td>\n",
       "      <td>572 min</td>\n",
       "      <td>8.6</td>\n",
       "      <td>229,407</td>\n",
       "    </tr>\n",
       "  </tbody>\n",
       "</table>\n",
       "<p>100 rows × 6 columns</p>\n",
       "</div>"
      ],
      "text/plain": [
       "                              Name    Year Span                     Genre Run Time Ratings      Votes\n",
       "0                  Game of Thrones  (2011–2019)  Action, Adventure, Drama   57 min     9.2  1,998,291\n",
       "1                  Stranger Things     (2016– )    Drama, Fantasy, Horror   51 min     8.7  1,046,182\n",
       "2                 The Walking Dead  (2010–2022)   Drama, Horror, Thriller   44 min     8.2    950,932\n",
       "3                   13 Reasons Why  (2017–2020)  Drama, Mystery, Thriller   60 min     7.5    284,209\n",
       "4                          The 100  (2014–2020)    Drama, Mystery, Sci-Fi   43 min     7.6    243,997\n",
       "..                             ...          ...                       ...      ...     ...        ...\n",
       "95                           Reign  (2013–2017)            Drama, Fantasy   42 min     7.4     48,936\n",
       "96  A Series of Unfortunate Events  (2017–2019)  Adventure, Comedy, Drama   50 min     7.8     59,647\n",
       "97                  Criminal Minds  (2005–2020)     Crime, Drama, Mystery   42 min     8.1    190,883\n",
       "98           Scream: The TV Series  (2015–2019)      Comedy, Crime, Drama   45 min     7.1     40,376\n",
       "99      The Haunting of Hill House       (2018)    Drama, Horror, Mystery  572 min     8.6    229,407\n",
       "\n",
       "[100 rows x 6 columns]"
      ]
     },
     "execution_count": 111,
     "metadata": {},
     "output_type": "execute_result"
    }
   ],
   "source": [
    "#DATA FRAMEING\n",
    "IMDB=pd.DataFrame({})\n",
    "IMDB['Name'] = Name\n",
    "IMDB['Year Span'] = Year_span\n",
    "IMDB['Genre'] = Genre\n",
    "IMDB['Run Time'] = Run_time\n",
    "IMDB['Ratings'] = Ratings\n",
    "IMDB['Votes'] = Votes\n",
    "IMDB"
   ]
  },
  {
   "cell_type": "markdown",
   "id": "fc723612",
   "metadata": {},
   "source": [
    "Q10. Details of Datasets from UCI machine learning repositories.\n",
    "\n",
    "Url = https://archive.ics.uci.edu/"
   ]
  },
  {
   "cell_type": "code",
   "execution_count": 112,
   "id": "302ee7a6",
   "metadata": {},
   "outputs": [],
   "source": [
    "#to open automated window\n",
    "driver = webdriver.Chrome(r\"C:\\Users\\Ashok\\Downloads\\chromedriver_win32\\chromedriver\")"
   ]
  },
  {
   "cell_type": "code",
   "execution_count": 113,
   "id": "ddc9ef56",
   "metadata": {},
   "outputs": [],
   "source": [
    "driver=webdriver.Chrome('chromedriver.exe')\n",
    "#getting the specified url\n",
    "url = \"https://archive.ics.uci.edu/\"\n",
    "driver.get(url)"
   ]
  },
  {
   "cell_type": "code",
   "execution_count": 114,
   "id": "cb70a52e",
   "metadata": {},
   "outputs": [],
   "source": [
    "#Finding view all dataset button\n",
    "view_dataset = driver.find_element_by_xpath(\"//tbody[1]//tr/td[2]/span[2]/a\")    \n",
    "page_url = view_dataset.get_attribute(\"href\")\n",
    "driver.get(page_url)\n",
    "\n",
    "#Getting page urls containing list of all datasets\n",
    "all_lst = driver.find_element_by_xpath(\"/html/body/table[2]/tbody/tr/td[2]/table[1]/tbody/tr/td[2]/p/a\")  \n",
    "lst_url = all_lst.get_attribute(\"href\")           \n",
    "driver.get(lst_url)\n",
    "\n",
    "#fetching url for each dataset\n",
    "data_url = driver.find_elements_by_xpath(\"//p[@class='normal']//b/a\")    \n",
    "\n",
    "urls = []     \n",
    "for i in data_url:\n",
    "    urls.append(i.get_attribute(\"href\"))"
   ]
  },
  {
   "cell_type": "code",
   "execution_count": 115,
   "id": "dd0d9a63",
   "metadata": {},
   "outputs": [],
   "source": [
    "#Creating empty list\n",
    "Data_name = []\n",
    "Data_type = []\n",
    "Task = []\n",
    "Attr_type = []\n",
    "Instances = []\n",
    "n_attributes = []\n",
    "Year = []"
   ]
  },
  {
   "cell_type": "code",
   "execution_count": 116,
   "id": "7b861be5",
   "metadata": {},
   "outputs": [],
   "source": [
    "#Scraping requiredinfo from urls\n",
    "for i in urls:\n",
    "    driver.get(i)\n",
    "    \n",
    "    \n",
    "    #Scraping Dataset name\n",
    "    try: \n",
    "        ds_name = driver.find_element_by_xpath(\"//span[@class='heading']\")\n",
    "        Data_name.append(ds_name.text)\n",
    "    except NoSuchElementException:\n",
    "        Data_name.append('-')\n",
    "    \n",
    "    \n",
    "    #Scraping data type\n",
    "    try:\n",
    "        dtype = driver.find_element_by_xpath(\"//table[@border='1']//tbody/tr/td[2]\")\n",
    "        if dtype.text == \"N/A\": raise NoSuchElementException\n",
    "        Data_type.append(dtype.text)\n",
    "    except NoSuchElementException:\n",
    "        Data_type.append('-')\n",
    "    \n",
    "#Scraping Attribute type\n",
    "    try:\n",
    "        atype = driver.find_element_by_xpath(\"//table[@border='1']//tbody/tr[2]/td[2]\")\n",
    "        if atype.text == \"N/A\": raise NoSuchElementException\n",
    "        Attr_type.append(atype.text)\n",
    "    except NoSuchElementException:\n",
    "        Attr_type.append('-')\n",
    "    \n",
    "    \n",
    "    #scraping Task\n",
    "    try:\n",
    "        task = driver.find_element_by_xpath(\"//table[@border='1']//tbody/tr[3]/td[2]\")\n",
    "        if task.text == \"N/A\": raise NoSuchElementException\n",
    "        Task.append(task.text)\n",
    "    except NoSuchElementException:\n",
    "        Task.append('-')\n",
    "    \n",
    "    \n",
    "    #Scraping No of instances\n",
    "    try:\n",
    "        inst = driver.find_element_by_xpath(\"//table[@border='1']//tbody/tr/td[4]\")\n",
    "        if inst.text == \"N/A\": raise NoSuchElementException\n",
    "        Instances.append(inst.text)\n",
    "    except NoSuchElementException:\n",
    "        Instances.append('-')\n",
    "#Scraping  No of attribute\n",
    "    try:\n",
    "        attr = driver.find_element_by_xpath(\"//table[@border='1']//tbody/tr[2]/td[4]\")\n",
    "        if attr.text == \"N/A\": raise NoSuchElementException\n",
    "        n_attributes.append(attr.text)\n",
    "    except NoSuchElementException:\n",
    "        n_attributes.append('-')\n",
    "    \n",
    "    \n",
    "    #scraping year\n",
    "    try:\n",
    "        year = driver.find_element_by_xpath(\"//table[@border='1']//tbody/tr[2]/td[6]\")\n",
    "        if year.text == \"N/A\": raise NoSuchElementException\n",
    "        Year.append(year.text[:4])\n",
    "    except NoSuchElementException:\n",
    "        Year.append('-')"
   ]
  },
  {
   "cell_type": "code",
   "execution_count": 117,
   "id": "c818140e",
   "metadata": {},
   "outputs": [
    {
     "data": {
      "text/html": [
       "<div>\n",
       "<style scoped>\n",
       "    .dataframe tbody tr th:only-of-type {\n",
       "        vertical-align: middle;\n",
       "    }\n",
       "\n",
       "    .dataframe tbody tr th {\n",
       "        vertical-align: top;\n",
       "    }\n",
       "\n",
       "    .dataframe thead th {\n",
       "        text-align: right;\n",
       "    }\n",
       "</style>\n",
       "<table border=\"1\" class=\"dataframe\">\n",
       "  <thead>\n",
       "    <tr style=\"text-align: right;\">\n",
       "      <th></th>\n",
       "      <th>Data Name</th>\n",
       "      <th>Data Type</th>\n",
       "      <th>Task</th>\n",
       "      <th>Attribute type</th>\n",
       "      <th>No of instance</th>\n",
       "      <th>No of attributes</th>\n",
       "      <th>Year</th>\n",
       "    </tr>\n",
       "  </thead>\n",
       "  <tbody>\n",
       "    <tr>\n",
       "      <th>0</th>\n",
       "      <td>2.4 GHZ Indoor Channel Measurements Data Set</td>\n",
       "      <td>Multivariate</td>\n",
       "      <td>Classification</td>\n",
       "      <td>Real</td>\n",
       "      <td>7840</td>\n",
       "      <td>5</td>\n",
       "      <td>2018</td>\n",
       "    </tr>\n",
       "    <tr>\n",
       "      <th>1</th>\n",
       "      <td>3D Road Network (North Jutland, Denmark) Data Set</td>\n",
       "      <td>Sequential, Text</td>\n",
       "      <td>Regression, Clustering</td>\n",
       "      <td>Real</td>\n",
       "      <td>434874</td>\n",
       "      <td>4</td>\n",
       "      <td>2013</td>\n",
       "    </tr>\n",
       "    <tr>\n",
       "      <th>2</th>\n",
       "      <td>3W dataset Data Set</td>\n",
       "      <td>Multivariate, Time-Series</td>\n",
       "      <td>Classification, Clustering</td>\n",
       "      <td>Integer, Real</td>\n",
       "      <td>1984</td>\n",
       "      <td>8</td>\n",
       "      <td>2019</td>\n",
       "    </tr>\n",
       "    <tr>\n",
       "      <th>3</th>\n",
       "      <td>9mers from cullpdb Data Set</td>\n",
       "      <td>Sequential</td>\n",
       "      <td>Classification, Regression</td>\n",
       "      <td>Real</td>\n",
       "      <td>158716</td>\n",
       "      <td>4</td>\n",
       "      <td>2021</td>\n",
       "    </tr>\n",
       "    <tr>\n",
       "      <th>4</th>\n",
       "      <td>: Simulated Data set of Iraqi tourism places D...</td>\n",
       "      <td>Multivariate</td>\n",
       "      <td>Classification, Clustering</td>\n",
       "      <td>-</td>\n",
       "      <td>232</td>\n",
       "      <td>16</td>\n",
       "      <td>2020</td>\n",
       "    </tr>\n",
       "    <tr>\n",
       "      <th>...</th>\n",
       "      <td>...</td>\n",
       "      <td>...</td>\n",
       "      <td>...</td>\n",
       "      <td>...</td>\n",
       "      <td>...</td>\n",
       "      <td>...</td>\n",
       "      <td>...</td>\n",
       "    </tr>\n",
       "    <tr>\n",
       "      <th>617</th>\n",
       "      <td>Youtube cookery channels viewers comments in H...</td>\n",
       "      <td>Multivariate, Text</td>\n",
       "      <td>Classification</td>\n",
       "      <td>-</td>\n",
       "      <td>9800</td>\n",
       "      <td>3</td>\n",
       "      <td>2019</td>\n",
       "    </tr>\n",
       "    <tr>\n",
       "      <th>618</th>\n",
       "      <td>YouTube Multiview Video Games Dataset Data Set</td>\n",
       "      <td>Multivariate, Text</td>\n",
       "      <td>Classification, Clustering</td>\n",
       "      <td>Integer, Real</td>\n",
       "      <td>120000</td>\n",
       "      <td>1000000</td>\n",
       "      <td>2013</td>\n",
       "    </tr>\n",
       "    <tr>\n",
       "      <th>619</th>\n",
       "      <td>YouTube Spam Collection Data Set</td>\n",
       "      <td>Text</td>\n",
       "      <td>Classification</td>\n",
       "      <td>-</td>\n",
       "      <td>1956</td>\n",
       "      <td>5</td>\n",
       "      <td>2017</td>\n",
       "    </tr>\n",
       "    <tr>\n",
       "      <th>620</th>\n",
       "      <td>Z-Alizadeh Sani Data Set</td>\n",
       "      <td>-</td>\n",
       "      <td>Classification</td>\n",
       "      <td>Integer, Real</td>\n",
       "      <td>303</td>\n",
       "      <td>56</td>\n",
       "      <td>2017</td>\n",
       "    </tr>\n",
       "    <tr>\n",
       "      <th>621</th>\n",
       "      <td>Zoo Data Set</td>\n",
       "      <td>Multivariate</td>\n",
       "      <td>Classification</td>\n",
       "      <td>Categorical, Integer</td>\n",
       "      <td>101</td>\n",
       "      <td>17</td>\n",
       "      <td>1990</td>\n",
       "    </tr>\n",
       "  </tbody>\n",
       "</table>\n",
       "<p>622 rows × 7 columns</p>\n",
       "</div>"
      ],
      "text/plain": [
       "                                             Data Name                  Data Type                        Task        Attribute type No of instance No of attributes  Year\n",
       "0         2.4 GHZ Indoor Channel Measurements Data Set               Multivariate              Classification                  Real           7840                5  2018\n",
       "1    3D Road Network (North Jutland, Denmark) Data Set           Sequential, Text      Regression, Clustering                  Real         434874                4  2013\n",
       "2                                  3W dataset Data Set  Multivariate, Time-Series  Classification, Clustering         Integer, Real           1984                8  2019\n",
       "3                          9mers from cullpdb Data Set                 Sequential  Classification, Regression                  Real         158716                4  2021\n",
       "4    : Simulated Data set of Iraqi tourism places D...               Multivariate  Classification, Clustering                     -            232               16  2020\n",
       "..                                                 ...                        ...                         ...                   ...            ...              ...   ...\n",
       "617  Youtube cookery channels viewers comments in H...         Multivariate, Text              Classification                     -           9800                3  2019\n",
       "618     YouTube Multiview Video Games Dataset Data Set         Multivariate, Text  Classification, Clustering         Integer, Real         120000          1000000  2013\n",
       "619                   YouTube Spam Collection Data Set                       Text              Classification                     -           1956                5  2017\n",
       "620                           Z-Alizadeh Sani Data Set                          -              Classification         Integer, Real            303               56  2017\n",
       "621                                       Zoo Data Set               Multivariate              Classification  Categorical, Integer            101               17  1990\n",
       "\n",
       "[622 rows x 7 columns]"
      ]
     },
     "execution_count": 117,
     "metadata": {},
     "output_type": "execute_result"
    }
   ],
   "source": [
    "#DATA FRAMEING\n",
    "UCI=pd.DataFrame({})\n",
    "UCI['Data Name'] = Data_name\n",
    "UCI['Data Type'] = Data_type\n",
    "UCI['Task'] = Task\n",
    "UCI['Attribute type'] = Attr_type\n",
    "UCI['No of instance'] = Instances\n",
    "UCI['No of attributes'] = n_attributes\n",
    "UCI['Year'] = Year\n",
    "\n",
    "#Printing dataframe\n",
    "UCI "
   ]
  }
 ],
 "metadata": {
  "kernelspec": {
   "display_name": "Python 3 (ipykernel)",
   "language": "python",
   "name": "python3"
  },
  "language_info": {
   "codemirror_mode": {
    "name": "ipython",
    "version": 3
   },
   "file_extension": ".py",
   "mimetype": "text/x-python",
   "name": "python",
   "nbconvert_exporter": "python",
   "pygments_lexer": "ipython3",
   "version": "3.9.7"
  }
 },
 "nbformat": 4,
 "nbformat_minor": 5
}
